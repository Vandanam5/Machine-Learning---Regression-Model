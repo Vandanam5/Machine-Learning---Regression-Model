{
 "cells": [
  {
   "cell_type": "code",
   "execution_count": 1,
   "id": "482f4c1b",
   "metadata": {},
   "outputs": [
    {
     "data": {
      "text/plain": [
       "'C:\\\\Users\\\\vanda\\\\OneDrive\\\\Desktop\\\\Project Datasets'"
      ]
     },
     "execution_count": 1,
     "metadata": {},
     "output_type": "execute_result"
    }
   ],
   "source": [
    "import os\n",
    "os.chdir(r\"C:\\Users\\vanda\\OneDrive\\Desktop\\Project Datasets\")\n",
    "os.getcwd()"
   ]
  },
  {
   "cell_type": "code",
   "execution_count": 2,
   "id": "497ceb3c",
   "metadata": {},
   "outputs": [],
   "source": [
    "import warnings\n",
    "warnings.filterwarnings('ignore')\n",
    "\n",
    "# Importing the numpy and pandas package\n",
    "import numpy as np # linear algebra\n",
    "import pandas as pd # data processing, CSV file I/O\n",
    "#!pip install https://github.com/pandas-profiling/pandas-profiling/archive/master.zip\n",
    "#import pandas_profiling\n",
    "# Data Visualisation\n",
    "import matplotlib.pyplot as plt\n",
    "import seaborn as sns\n",
    "%matplotlib inline\n",
    "import plotly.express as px\n",
    "import plotly.graph_objects as go"
   ]
  },
  {
   "cell_type": "code",
   "execution_count": 3,
   "id": "fe464356",
   "metadata": {},
   "outputs": [],
   "source": [
    "df= pd.read_csv(r\"C:\\Users\\vanda\\OneDrive\\Desktop\\Project Datasets\\employee burn out .csv\")"
   ]
  },
  {
   "cell_type": "code",
   "execution_count": 5,
   "id": "0ee82abf",
   "metadata": {
    "scrolled": true
   },
   "outputs": [
    {
     "data": {
      "text/html": [
       "<div>\n",
       "<style scoped>\n",
       "    .dataframe tbody tr th:only-of-type {\n",
       "        vertical-align: middle;\n",
       "    }\n",
       "\n",
       "    .dataframe tbody tr th {\n",
       "        vertical-align: top;\n",
       "    }\n",
       "\n",
       "    .dataframe thead th {\n",
       "        text-align: right;\n",
       "    }\n",
       "</style>\n",
       "<table border=\"1\" class=\"dataframe\">\n",
       "  <thead>\n",
       "    <tr style=\"text-align: right;\">\n",
       "      <th></th>\n",
       "      <th>Employee ID</th>\n",
       "      <th>Date of Joining</th>\n",
       "      <th>Gender</th>\n",
       "      <th>Company Type</th>\n",
       "      <th>WFH Setup Available</th>\n",
       "      <th>Designation</th>\n",
       "      <th>Resource Allocation</th>\n",
       "      <th>Mental Fatigue Score</th>\n",
       "      <th>Burn Rate</th>\n",
       "    </tr>\n",
       "  </thead>\n",
       "  <tbody>\n",
       "    <tr>\n",
       "      <th>0</th>\n",
       "      <td>fffe32003000360033003200</td>\n",
       "      <td>9/30/2008</td>\n",
       "      <td>Female</td>\n",
       "      <td>Service</td>\n",
       "      <td>No</td>\n",
       "      <td>2</td>\n",
       "      <td>3</td>\n",
       "      <td>3.8</td>\n",
       "      <td>0.16</td>\n",
       "    </tr>\n",
       "    <tr>\n",
       "      <th>1</th>\n",
       "      <td>fffe3700360033003500</td>\n",
       "      <td>11/30/2008</td>\n",
       "      <td>Male</td>\n",
       "      <td>Service</td>\n",
       "      <td>Yes</td>\n",
       "      <td>1</td>\n",
       "      <td>2</td>\n",
       "      <td>5.0</td>\n",
       "      <td>0.36</td>\n",
       "    </tr>\n",
       "    <tr>\n",
       "      <th>2</th>\n",
       "      <td>fffe31003300320037003900</td>\n",
       "      <td>3/10/2008</td>\n",
       "      <td>Female</td>\n",
       "      <td>Product</td>\n",
       "      <td>Yes</td>\n",
       "      <td>2</td>\n",
       "      <td>F</td>\n",
       "      <td>5.8</td>\n",
       "      <td>0.49</td>\n",
       "    </tr>\n",
       "    <tr>\n",
       "      <th>3</th>\n",
       "      <td>fffe32003400380032003900</td>\n",
       "      <td>11/3/2008</td>\n",
       "      <td>Male</td>\n",
       "      <td>Service</td>\n",
       "      <td>Yes</td>\n",
       "      <td>1</td>\n",
       "      <td>1</td>\n",
       "      <td>2.6</td>\n",
       "      <td>0.20</td>\n",
       "    </tr>\n",
       "    <tr>\n",
       "      <th>4</th>\n",
       "      <td>fffe31003900340031003600</td>\n",
       "      <td>7/24/2008</td>\n",
       "      <td>Female</td>\n",
       "      <td>Service</td>\n",
       "      <td>No</td>\n",
       "      <td>3</td>\n",
       "      <td>7</td>\n",
       "      <td>6.9</td>\n",
       "      <td>0.52</td>\n",
       "    </tr>\n",
       "    <tr>\n",
       "      <th>...</th>\n",
       "      <td>...</td>\n",
       "      <td>...</td>\n",
       "      <td>...</td>\n",
       "      <td>...</td>\n",
       "      <td>...</td>\n",
       "      <td>...</td>\n",
       "      <td>...</td>\n",
       "      <td>...</td>\n",
       "      <td>...</td>\n",
       "    </tr>\n",
       "    <tr>\n",
       "      <th>22745</th>\n",
       "      <td>fffe31003500370039003100</td>\n",
       "      <td>12/30/2008</td>\n",
       "      <td>Female</td>\n",
       "      <td>Service</td>\n",
       "      <td>No</td>\n",
       "      <td>3</td>\n",
       "      <td>3</td>\n",
       "      <td>NaN</td>\n",
       "      <td>0.41</td>\n",
       "    </tr>\n",
       "    <tr>\n",
       "      <th>22746</th>\n",
       "      <td>fffe33003000350031003800</td>\n",
       "      <td>1/19/2008</td>\n",
       "      <td>Female</td>\n",
       "      <td>Product</td>\n",
       "      <td>Yes</td>\n",
       "      <td>3</td>\n",
       "      <td>6</td>\n",
       "      <td>6.7</td>\n",
       "      <td>0.59</td>\n",
       "    </tr>\n",
       "    <tr>\n",
       "      <th>22747</th>\n",
       "      <td>fffe390032003000</td>\n",
       "      <td>11/5/2008</td>\n",
       "      <td>Male</td>\n",
       "      <td>Service</td>\n",
       "      <td>Yes</td>\n",
       "      <td>3</td>\n",
       "      <td>7</td>\n",
       "      <td>NaN</td>\n",
       "      <td>0.72</td>\n",
       "    </tr>\n",
       "    <tr>\n",
       "      <th>22748</th>\n",
       "      <td>fffe33003300320036003900</td>\n",
       "      <td>1/10/2008</td>\n",
       "      <td>Female</td>\n",
       "      <td>Service</td>\n",
       "      <td>No</td>\n",
       "      <td>3</td>\n",
       "      <td>5</td>\n",
       "      <td>5.9</td>\n",
       "      <td>0.52</td>\n",
       "    </tr>\n",
       "    <tr>\n",
       "      <th>22749</th>\n",
       "      <td>fffe3400350031003800</td>\n",
       "      <td>1/6/2008</td>\n",
       "      <td>Male</td>\n",
       "      <td>Product</td>\n",
       "      <td>No</td>\n",
       "      <td>3</td>\n",
       "      <td>6</td>\n",
       "      <td>7.8</td>\n",
       "      <td>0.61</td>\n",
       "    </tr>\n",
       "  </tbody>\n",
       "</table>\n",
       "<p>22750 rows × 9 columns</p>\n",
       "</div>"
      ],
      "text/plain": [
       "                    Employee ID Date of Joining  Gender Company Type  \\\n",
       "0      fffe32003000360033003200       9/30/2008  Female      Service   \n",
       "1          fffe3700360033003500      11/30/2008    Male      Service   \n",
       "2      fffe31003300320037003900       3/10/2008  Female      Product   \n",
       "3      fffe32003400380032003900       11/3/2008    Male      Service   \n",
       "4      fffe31003900340031003600       7/24/2008  Female      Service   \n",
       "...                         ...             ...     ...          ...   \n",
       "22745  fffe31003500370039003100      12/30/2008  Female      Service   \n",
       "22746  fffe33003000350031003800       1/19/2008  Female      Product   \n",
       "22747          fffe390032003000       11/5/2008    Male      Service   \n",
       "22748  fffe33003300320036003900       1/10/2008  Female      Service   \n",
       "22749      fffe3400350031003800        1/6/2008    Male      Product   \n",
       "\n",
       "      WFH Setup Available  Designation Resource Allocation  \\\n",
       "0                      No            2                   3   \n",
       "1                     Yes            1                   2   \n",
       "2                     Yes            2                   F   \n",
       "3                     Yes            1                   1   \n",
       "4                      No            3                   7   \n",
       "...                   ...          ...                 ...   \n",
       "22745                  No            3                   3   \n",
       "22746                 Yes            3                   6   \n",
       "22747                 Yes            3                   7   \n",
       "22748                  No            3                   5   \n",
       "22749                  No            3                   6   \n",
       "\n",
       "       Mental Fatigue Score  Burn Rate  \n",
       "0                       3.8       0.16  \n",
       "1                       5.0       0.36  \n",
       "2                       5.8       0.49  \n",
       "3                       2.6       0.20  \n",
       "4                       6.9       0.52  \n",
       "...                     ...        ...  \n",
       "22745                   NaN       0.41  \n",
       "22746                   6.7       0.59  \n",
       "22747                   NaN       0.72  \n",
       "22748                   5.9       0.52  \n",
       "22749                   7.8       0.61  \n",
       "\n",
       "[22750 rows x 9 columns]"
      ]
     },
     "execution_count": 5,
     "metadata": {},
     "output_type": "execute_result"
    }
   ],
   "source": [
    "df"
   ]
  },
  {
   "cell_type": "code",
   "execution_count": 6,
   "id": "d4324a3c",
   "metadata": {},
   "outputs": [
    {
     "data": {
      "text/html": [
       "<div>\n",
       "<style scoped>\n",
       "    .dataframe tbody tr th:only-of-type {\n",
       "        vertical-align: middle;\n",
       "    }\n",
       "\n",
       "    .dataframe tbody tr th {\n",
       "        vertical-align: top;\n",
       "    }\n",
       "\n",
       "    .dataframe thead th {\n",
       "        text-align: right;\n",
       "    }\n",
       "</style>\n",
       "<table border=\"1\" class=\"dataframe\">\n",
       "  <thead>\n",
       "    <tr style=\"text-align: right;\">\n",
       "      <th></th>\n",
       "      <th>Employee ID</th>\n",
       "      <th>Date of Joining</th>\n",
       "      <th>Gender</th>\n",
       "      <th>Company Type</th>\n",
       "      <th>WFH Setup Available</th>\n",
       "      <th>Designation</th>\n",
       "      <th>Resource Allocation</th>\n",
       "      <th>Mental Fatigue Score</th>\n",
       "      <th>Burn Rate</th>\n",
       "    </tr>\n",
       "  </thead>\n",
       "  <tbody>\n",
       "    <tr>\n",
       "      <th>0</th>\n",
       "      <td>fffe32003000360033003200</td>\n",
       "      <td>9/30/2008</td>\n",
       "      <td>Female</td>\n",
       "      <td>Service</td>\n",
       "      <td>No</td>\n",
       "      <td>2</td>\n",
       "      <td>3</td>\n",
       "      <td>3.8</td>\n",
       "      <td>0.16</td>\n",
       "    </tr>\n",
       "    <tr>\n",
       "      <th>1</th>\n",
       "      <td>fffe3700360033003500</td>\n",
       "      <td>11/30/2008</td>\n",
       "      <td>Male</td>\n",
       "      <td>Service</td>\n",
       "      <td>Yes</td>\n",
       "      <td>1</td>\n",
       "      <td>2</td>\n",
       "      <td>5.0</td>\n",
       "      <td>0.36</td>\n",
       "    </tr>\n",
       "    <tr>\n",
       "      <th>2</th>\n",
       "      <td>fffe31003300320037003900</td>\n",
       "      <td>3/10/2008</td>\n",
       "      <td>Female</td>\n",
       "      <td>Product</td>\n",
       "      <td>Yes</td>\n",
       "      <td>2</td>\n",
       "      <td>F</td>\n",
       "      <td>5.8</td>\n",
       "      <td>0.49</td>\n",
       "    </tr>\n",
       "    <tr>\n",
       "      <th>3</th>\n",
       "      <td>fffe32003400380032003900</td>\n",
       "      <td>11/3/2008</td>\n",
       "      <td>Male</td>\n",
       "      <td>Service</td>\n",
       "      <td>Yes</td>\n",
       "      <td>1</td>\n",
       "      <td>1</td>\n",
       "      <td>2.6</td>\n",
       "      <td>0.20</td>\n",
       "    </tr>\n",
       "    <tr>\n",
       "      <th>4</th>\n",
       "      <td>fffe31003900340031003600</td>\n",
       "      <td>7/24/2008</td>\n",
       "      <td>Female</td>\n",
       "      <td>Service</td>\n",
       "      <td>No</td>\n",
       "      <td>3</td>\n",
       "      <td>7</td>\n",
       "      <td>6.9</td>\n",
       "      <td>0.52</td>\n",
       "    </tr>\n",
       "  </tbody>\n",
       "</table>\n",
       "</div>"
      ],
      "text/plain": [
       "                Employee ID Date of Joining  Gender Company Type  \\\n",
       "0  fffe32003000360033003200       9/30/2008  Female      Service   \n",
       "1      fffe3700360033003500      11/30/2008    Male      Service   \n",
       "2  fffe31003300320037003900       3/10/2008  Female      Product   \n",
       "3  fffe32003400380032003900       11/3/2008    Male      Service   \n",
       "4  fffe31003900340031003600       7/24/2008  Female      Service   \n",
       "\n",
       "  WFH Setup Available  Designation Resource Allocation  Mental Fatigue Score  \\\n",
       "0                  No            2                   3                   3.8   \n",
       "1                 Yes            1                   2                   5.0   \n",
       "2                 Yes            2                   F                   5.8   \n",
       "3                 Yes            1                   1                   2.6   \n",
       "4                  No            3                   7                   6.9   \n",
       "\n",
       "   Burn Rate  \n",
       "0       0.16  \n",
       "1       0.36  \n",
       "2       0.49  \n",
       "3       0.20  \n",
       "4       0.52  "
      ]
     },
     "execution_count": 6,
     "metadata": {},
     "output_type": "execute_result"
    }
   ],
   "source": [
    "df.head()"
   ]
  },
  {
   "cell_type": "code",
   "execution_count": 7,
   "id": "defee182",
   "metadata": {},
   "outputs": [
    {
     "data": {
      "text/html": [
       "<div>\n",
       "<style scoped>\n",
       "    .dataframe tbody tr th:only-of-type {\n",
       "        vertical-align: middle;\n",
       "    }\n",
       "\n",
       "    .dataframe tbody tr th {\n",
       "        vertical-align: top;\n",
       "    }\n",
       "\n",
       "    .dataframe thead th {\n",
       "        text-align: right;\n",
       "    }\n",
       "</style>\n",
       "<table border=\"1\" class=\"dataframe\">\n",
       "  <thead>\n",
       "    <tr style=\"text-align: right;\">\n",
       "      <th></th>\n",
       "      <th>Employee ID</th>\n",
       "      <th>Date of Joining</th>\n",
       "      <th>Gender</th>\n",
       "      <th>Company Type</th>\n",
       "      <th>WFH Setup Available</th>\n",
       "      <th>Designation</th>\n",
       "      <th>Resource Allocation</th>\n",
       "      <th>Mental Fatigue Score</th>\n",
       "      <th>Burn Rate</th>\n",
       "    </tr>\n",
       "  </thead>\n",
       "  <tbody>\n",
       "    <tr>\n",
       "      <th>22745</th>\n",
       "      <td>fffe31003500370039003100</td>\n",
       "      <td>12/30/2008</td>\n",
       "      <td>Female</td>\n",
       "      <td>Service</td>\n",
       "      <td>No</td>\n",
       "      <td>3</td>\n",
       "      <td>3</td>\n",
       "      <td>NaN</td>\n",
       "      <td>0.41</td>\n",
       "    </tr>\n",
       "    <tr>\n",
       "      <th>22746</th>\n",
       "      <td>fffe33003000350031003800</td>\n",
       "      <td>1/19/2008</td>\n",
       "      <td>Female</td>\n",
       "      <td>Product</td>\n",
       "      <td>Yes</td>\n",
       "      <td>3</td>\n",
       "      <td>6</td>\n",
       "      <td>6.7</td>\n",
       "      <td>0.59</td>\n",
       "    </tr>\n",
       "    <tr>\n",
       "      <th>22747</th>\n",
       "      <td>fffe390032003000</td>\n",
       "      <td>11/5/2008</td>\n",
       "      <td>Male</td>\n",
       "      <td>Service</td>\n",
       "      <td>Yes</td>\n",
       "      <td>3</td>\n",
       "      <td>7</td>\n",
       "      <td>NaN</td>\n",
       "      <td>0.72</td>\n",
       "    </tr>\n",
       "    <tr>\n",
       "      <th>22748</th>\n",
       "      <td>fffe33003300320036003900</td>\n",
       "      <td>1/10/2008</td>\n",
       "      <td>Female</td>\n",
       "      <td>Service</td>\n",
       "      <td>No</td>\n",
       "      <td>3</td>\n",
       "      <td>5</td>\n",
       "      <td>5.9</td>\n",
       "      <td>0.52</td>\n",
       "    </tr>\n",
       "    <tr>\n",
       "      <th>22749</th>\n",
       "      <td>fffe3400350031003800</td>\n",
       "      <td>1/6/2008</td>\n",
       "      <td>Male</td>\n",
       "      <td>Product</td>\n",
       "      <td>No</td>\n",
       "      <td>3</td>\n",
       "      <td>6</td>\n",
       "      <td>7.8</td>\n",
       "      <td>0.61</td>\n",
       "    </tr>\n",
       "  </tbody>\n",
       "</table>\n",
       "</div>"
      ],
      "text/plain": [
       "                    Employee ID Date of Joining  Gender Company Type  \\\n",
       "22745  fffe31003500370039003100      12/30/2008  Female      Service   \n",
       "22746  fffe33003000350031003800       1/19/2008  Female      Product   \n",
       "22747          fffe390032003000       11/5/2008    Male      Service   \n",
       "22748  fffe33003300320036003900       1/10/2008  Female      Service   \n",
       "22749      fffe3400350031003800        1/6/2008    Male      Product   \n",
       "\n",
       "      WFH Setup Available  Designation Resource Allocation  \\\n",
       "22745                  No            3                   3   \n",
       "22746                 Yes            3                   6   \n",
       "22747                 Yes            3                   7   \n",
       "22748                  No            3                   5   \n",
       "22749                  No            3                   6   \n",
       "\n",
       "       Mental Fatigue Score  Burn Rate  \n",
       "22745                   NaN       0.41  \n",
       "22746                   6.7       0.59  \n",
       "22747                   NaN       0.72  \n",
       "22748                   5.9       0.52  \n",
       "22749                   7.8       0.61  "
      ]
     },
     "execution_count": 7,
     "metadata": {},
     "output_type": "execute_result"
    }
   ],
   "source": [
    "df.tail()"
   ]
  },
  {
   "cell_type": "code",
   "execution_count": 8,
   "id": "34c5add9",
   "metadata": {},
   "outputs": [
    {
     "data": {
      "text/plain": [
       "(22750, 9)"
      ]
     },
     "execution_count": 8,
     "metadata": {},
     "output_type": "execute_result"
    }
   ],
   "source": [
    "df.shape"
   ]
  },
  {
   "cell_type": "code",
   "execution_count": 9,
   "id": "251ba7f0",
   "metadata": {},
   "outputs": [
    {
     "data": {
      "text/plain": [
       "Employee ID              object\n",
       "Date of Joining          object\n",
       "Gender                   object\n",
       "Company Type             object\n",
       "WFH Setup Available      object\n",
       "Designation               int64\n",
       "Resource Allocation      object\n",
       "Mental Fatigue Score    float64\n",
       "Burn Rate               float64\n",
       "dtype: object"
      ]
     },
     "execution_count": 9,
     "metadata": {},
     "output_type": "execute_result"
    }
   ],
   "source": [
    "df.dtypes"
   ]
  },
  {
   "cell_type": "markdown",
   "id": "c6c5dcca",
   "metadata": {},
   "source": [
    "# Change datatype of Resource Allocation from object to Float64"
   ]
  },
  {
   "cell_type": "code",
   "execution_count": 10,
   "id": "e9239160",
   "metadata": {},
   "outputs": [
    {
     "ename": "ValueError",
     "evalue": "could not convert string to float: 'F'",
     "output_type": "error",
     "traceback": [
      "\u001b[1;31m---------------------------------------------------------------------------\u001b[0m",
      "\u001b[1;31mValueError\u001b[0m                                Traceback (most recent call last)",
      "\u001b[1;32m~\\AppData\\Local\\Temp/ipykernel_18304/360844788.py\u001b[0m in \u001b[0;36m<module>\u001b[1;34m\u001b[0m\n\u001b[1;32m----> 1\u001b[1;33m \u001b[0mdf\u001b[0m\u001b[1;33m[\u001b[0m\u001b[1;34m'Resource Allocation'\u001b[0m\u001b[1;33m]\u001b[0m \u001b[1;33m=\u001b[0m \u001b[0mdf\u001b[0m\u001b[1;33m[\u001b[0m\u001b[1;34m'Resource Allocation'\u001b[0m\u001b[1;33m]\u001b[0m\u001b[1;33m.\u001b[0m\u001b[0mastype\u001b[0m\u001b[1;33m(\u001b[0m\u001b[1;34m'float64'\u001b[0m\u001b[1;33m)\u001b[0m\u001b[1;33m\u001b[0m\u001b[1;33m\u001b[0m\u001b[0m\n\u001b[0m",
      "\u001b[1;32m~\\anaconda3\\lib\\site-packages\\pandas\\core\\generic.py\u001b[0m in \u001b[0;36mastype\u001b[1;34m(self, dtype, copy, errors)\u001b[0m\n\u001b[0;32m   5813\u001b[0m         \u001b[1;32melse\u001b[0m\u001b[1;33m:\u001b[0m\u001b[1;33m\u001b[0m\u001b[1;33m\u001b[0m\u001b[0m\n\u001b[0;32m   5814\u001b[0m             \u001b[1;31m# else, only a single dtype is given\u001b[0m\u001b[1;33m\u001b[0m\u001b[1;33m\u001b[0m\u001b[0m\n\u001b[1;32m-> 5815\u001b[1;33m             \u001b[0mnew_data\u001b[0m \u001b[1;33m=\u001b[0m \u001b[0mself\u001b[0m\u001b[1;33m.\u001b[0m\u001b[0m_mgr\u001b[0m\u001b[1;33m.\u001b[0m\u001b[0mastype\u001b[0m\u001b[1;33m(\u001b[0m\u001b[0mdtype\u001b[0m\u001b[1;33m=\u001b[0m\u001b[0mdtype\u001b[0m\u001b[1;33m,\u001b[0m \u001b[0mcopy\u001b[0m\u001b[1;33m=\u001b[0m\u001b[0mcopy\u001b[0m\u001b[1;33m,\u001b[0m \u001b[0merrors\u001b[0m\u001b[1;33m=\u001b[0m\u001b[0merrors\u001b[0m\u001b[1;33m)\u001b[0m\u001b[1;33m\u001b[0m\u001b[1;33m\u001b[0m\u001b[0m\n\u001b[0m\u001b[0;32m   5816\u001b[0m             \u001b[1;32mreturn\u001b[0m \u001b[0mself\u001b[0m\u001b[1;33m.\u001b[0m\u001b[0m_constructor\u001b[0m\u001b[1;33m(\u001b[0m\u001b[0mnew_data\u001b[0m\u001b[1;33m)\u001b[0m\u001b[1;33m.\u001b[0m\u001b[0m__finalize__\u001b[0m\u001b[1;33m(\u001b[0m\u001b[0mself\u001b[0m\u001b[1;33m,\u001b[0m \u001b[0mmethod\u001b[0m\u001b[1;33m=\u001b[0m\u001b[1;34m\"astype\"\u001b[0m\u001b[1;33m)\u001b[0m\u001b[1;33m\u001b[0m\u001b[1;33m\u001b[0m\u001b[0m\n\u001b[0;32m   5817\u001b[0m \u001b[1;33m\u001b[0m\u001b[0m\n",
      "\u001b[1;32m~\\anaconda3\\lib\\site-packages\\pandas\\core\\internals\\managers.py\u001b[0m in \u001b[0;36mastype\u001b[1;34m(self, dtype, copy, errors)\u001b[0m\n\u001b[0;32m    416\u001b[0m \u001b[1;33m\u001b[0m\u001b[0m\n\u001b[0;32m    417\u001b[0m     \u001b[1;32mdef\u001b[0m \u001b[0mastype\u001b[0m\u001b[1;33m(\u001b[0m\u001b[0mself\u001b[0m\u001b[1;33m:\u001b[0m \u001b[0mT\u001b[0m\u001b[1;33m,\u001b[0m \u001b[0mdtype\u001b[0m\u001b[1;33m,\u001b[0m \u001b[0mcopy\u001b[0m\u001b[1;33m:\u001b[0m \u001b[0mbool\u001b[0m \u001b[1;33m=\u001b[0m \u001b[1;32mFalse\u001b[0m\u001b[1;33m,\u001b[0m \u001b[0merrors\u001b[0m\u001b[1;33m:\u001b[0m \u001b[0mstr\u001b[0m \u001b[1;33m=\u001b[0m \u001b[1;34m\"raise\"\u001b[0m\u001b[1;33m)\u001b[0m \u001b[1;33m->\u001b[0m \u001b[0mT\u001b[0m\u001b[1;33m:\u001b[0m\u001b[1;33m\u001b[0m\u001b[1;33m\u001b[0m\u001b[0m\n\u001b[1;32m--> 418\u001b[1;33m         \u001b[1;32mreturn\u001b[0m \u001b[0mself\u001b[0m\u001b[1;33m.\u001b[0m\u001b[0mapply\u001b[0m\u001b[1;33m(\u001b[0m\u001b[1;34m\"astype\"\u001b[0m\u001b[1;33m,\u001b[0m \u001b[0mdtype\u001b[0m\u001b[1;33m=\u001b[0m\u001b[0mdtype\u001b[0m\u001b[1;33m,\u001b[0m \u001b[0mcopy\u001b[0m\u001b[1;33m=\u001b[0m\u001b[0mcopy\u001b[0m\u001b[1;33m,\u001b[0m \u001b[0merrors\u001b[0m\u001b[1;33m=\u001b[0m\u001b[0merrors\u001b[0m\u001b[1;33m)\u001b[0m\u001b[1;33m\u001b[0m\u001b[1;33m\u001b[0m\u001b[0m\n\u001b[0m\u001b[0;32m    419\u001b[0m \u001b[1;33m\u001b[0m\u001b[0m\n\u001b[0;32m    420\u001b[0m     def convert(\n",
      "\u001b[1;32m~\\anaconda3\\lib\\site-packages\\pandas\\core\\internals\\managers.py\u001b[0m in \u001b[0;36mapply\u001b[1;34m(self, f, align_keys, ignore_failures, **kwargs)\u001b[0m\n\u001b[0;32m    325\u001b[0m                     \u001b[0mapplied\u001b[0m \u001b[1;33m=\u001b[0m \u001b[0mb\u001b[0m\u001b[1;33m.\u001b[0m\u001b[0mapply\u001b[0m\u001b[1;33m(\u001b[0m\u001b[0mf\u001b[0m\u001b[1;33m,\u001b[0m \u001b[1;33m**\u001b[0m\u001b[0mkwargs\u001b[0m\u001b[1;33m)\u001b[0m\u001b[1;33m\u001b[0m\u001b[1;33m\u001b[0m\u001b[0m\n\u001b[0;32m    326\u001b[0m                 \u001b[1;32melse\u001b[0m\u001b[1;33m:\u001b[0m\u001b[1;33m\u001b[0m\u001b[1;33m\u001b[0m\u001b[0m\n\u001b[1;32m--> 327\u001b[1;33m                     \u001b[0mapplied\u001b[0m \u001b[1;33m=\u001b[0m \u001b[0mgetattr\u001b[0m\u001b[1;33m(\u001b[0m\u001b[0mb\u001b[0m\u001b[1;33m,\u001b[0m \u001b[0mf\u001b[0m\u001b[1;33m)\u001b[0m\u001b[1;33m(\u001b[0m\u001b[1;33m**\u001b[0m\u001b[0mkwargs\u001b[0m\u001b[1;33m)\u001b[0m\u001b[1;33m\u001b[0m\u001b[1;33m\u001b[0m\u001b[0m\n\u001b[0m\u001b[0;32m    328\u001b[0m             \u001b[1;32mexcept\u001b[0m \u001b[1;33m(\u001b[0m\u001b[0mTypeError\u001b[0m\u001b[1;33m,\u001b[0m \u001b[0mNotImplementedError\u001b[0m\u001b[1;33m)\u001b[0m\u001b[1;33m:\u001b[0m\u001b[1;33m\u001b[0m\u001b[1;33m\u001b[0m\u001b[0m\n\u001b[0;32m    329\u001b[0m                 \u001b[1;32mif\u001b[0m \u001b[1;32mnot\u001b[0m \u001b[0mignore_failures\u001b[0m\u001b[1;33m:\u001b[0m\u001b[1;33m\u001b[0m\u001b[1;33m\u001b[0m\u001b[0m\n",
      "\u001b[1;32m~\\anaconda3\\lib\\site-packages\\pandas\\core\\internals\\blocks.py\u001b[0m in \u001b[0;36mastype\u001b[1;34m(self, dtype, copy, errors)\u001b[0m\n\u001b[0;32m    589\u001b[0m         \u001b[0mvalues\u001b[0m \u001b[1;33m=\u001b[0m \u001b[0mself\u001b[0m\u001b[1;33m.\u001b[0m\u001b[0mvalues\u001b[0m\u001b[1;33m\u001b[0m\u001b[1;33m\u001b[0m\u001b[0m\n\u001b[0;32m    590\u001b[0m \u001b[1;33m\u001b[0m\u001b[0m\n\u001b[1;32m--> 591\u001b[1;33m         \u001b[0mnew_values\u001b[0m \u001b[1;33m=\u001b[0m \u001b[0mastype_array_safe\u001b[0m\u001b[1;33m(\u001b[0m\u001b[0mvalues\u001b[0m\u001b[1;33m,\u001b[0m \u001b[0mdtype\u001b[0m\u001b[1;33m,\u001b[0m \u001b[0mcopy\u001b[0m\u001b[1;33m=\u001b[0m\u001b[0mcopy\u001b[0m\u001b[1;33m,\u001b[0m \u001b[0merrors\u001b[0m\u001b[1;33m=\u001b[0m\u001b[0merrors\u001b[0m\u001b[1;33m)\u001b[0m\u001b[1;33m\u001b[0m\u001b[1;33m\u001b[0m\u001b[0m\n\u001b[0m\u001b[0;32m    592\u001b[0m \u001b[1;33m\u001b[0m\u001b[0m\n\u001b[0;32m    593\u001b[0m         \u001b[0mnew_values\u001b[0m \u001b[1;33m=\u001b[0m \u001b[0mmaybe_coerce_values\u001b[0m\u001b[1;33m(\u001b[0m\u001b[0mnew_values\u001b[0m\u001b[1;33m)\u001b[0m\u001b[1;33m\u001b[0m\u001b[1;33m\u001b[0m\u001b[0m\n",
      "\u001b[1;32m~\\anaconda3\\lib\\site-packages\\pandas\\core\\dtypes\\cast.py\u001b[0m in \u001b[0;36mastype_array_safe\u001b[1;34m(values, dtype, copy, errors)\u001b[0m\n\u001b[0;32m   1307\u001b[0m \u001b[1;33m\u001b[0m\u001b[0m\n\u001b[0;32m   1308\u001b[0m     \u001b[1;32mtry\u001b[0m\u001b[1;33m:\u001b[0m\u001b[1;33m\u001b[0m\u001b[1;33m\u001b[0m\u001b[0m\n\u001b[1;32m-> 1309\u001b[1;33m         \u001b[0mnew_values\u001b[0m \u001b[1;33m=\u001b[0m \u001b[0mastype_array\u001b[0m\u001b[1;33m(\u001b[0m\u001b[0mvalues\u001b[0m\u001b[1;33m,\u001b[0m \u001b[0mdtype\u001b[0m\u001b[1;33m,\u001b[0m \u001b[0mcopy\u001b[0m\u001b[1;33m=\u001b[0m\u001b[0mcopy\u001b[0m\u001b[1;33m)\u001b[0m\u001b[1;33m\u001b[0m\u001b[1;33m\u001b[0m\u001b[0m\n\u001b[0m\u001b[0;32m   1310\u001b[0m     \u001b[1;32mexcept\u001b[0m \u001b[1;33m(\u001b[0m\u001b[0mValueError\u001b[0m\u001b[1;33m,\u001b[0m \u001b[0mTypeError\u001b[0m\u001b[1;33m)\u001b[0m\u001b[1;33m:\u001b[0m\u001b[1;33m\u001b[0m\u001b[1;33m\u001b[0m\u001b[0m\n\u001b[0;32m   1311\u001b[0m         \u001b[1;31m# e.g. astype_nansafe can fail on object-dtype of strings\u001b[0m\u001b[1;33m\u001b[0m\u001b[1;33m\u001b[0m\u001b[0m\n",
      "\u001b[1;32m~\\anaconda3\\lib\\site-packages\\pandas\\core\\dtypes\\cast.py\u001b[0m in \u001b[0;36mastype_array\u001b[1;34m(values, dtype, copy)\u001b[0m\n\u001b[0;32m   1255\u001b[0m \u001b[1;33m\u001b[0m\u001b[0m\n\u001b[0;32m   1256\u001b[0m     \u001b[1;32melse\u001b[0m\u001b[1;33m:\u001b[0m\u001b[1;33m\u001b[0m\u001b[1;33m\u001b[0m\u001b[0m\n\u001b[1;32m-> 1257\u001b[1;33m         \u001b[0mvalues\u001b[0m \u001b[1;33m=\u001b[0m \u001b[0mastype_nansafe\u001b[0m\u001b[1;33m(\u001b[0m\u001b[0mvalues\u001b[0m\u001b[1;33m,\u001b[0m \u001b[0mdtype\u001b[0m\u001b[1;33m,\u001b[0m \u001b[0mcopy\u001b[0m\u001b[1;33m=\u001b[0m\u001b[0mcopy\u001b[0m\u001b[1;33m)\u001b[0m\u001b[1;33m\u001b[0m\u001b[1;33m\u001b[0m\u001b[0m\n\u001b[0m\u001b[0;32m   1258\u001b[0m \u001b[1;33m\u001b[0m\u001b[0m\n\u001b[0;32m   1259\u001b[0m     \u001b[1;31m# in pandas we don't store numpy str dtypes, so convert to object\u001b[0m\u001b[1;33m\u001b[0m\u001b[1;33m\u001b[0m\u001b[0m\n",
      "\u001b[1;32m~\\anaconda3\\lib\\site-packages\\pandas\\core\\dtypes\\cast.py\u001b[0m in \u001b[0;36mastype_nansafe\u001b[1;34m(arr, dtype, copy, skipna)\u001b[0m\n\u001b[0;32m   1199\u001b[0m     \u001b[1;32mif\u001b[0m \u001b[0mcopy\u001b[0m \u001b[1;32mor\u001b[0m \u001b[0mis_object_dtype\u001b[0m\u001b[1;33m(\u001b[0m\u001b[0marr\u001b[0m\u001b[1;33m.\u001b[0m\u001b[0mdtype\u001b[0m\u001b[1;33m)\u001b[0m \u001b[1;32mor\u001b[0m \u001b[0mis_object_dtype\u001b[0m\u001b[1;33m(\u001b[0m\u001b[0mdtype\u001b[0m\u001b[1;33m)\u001b[0m\u001b[1;33m:\u001b[0m\u001b[1;33m\u001b[0m\u001b[1;33m\u001b[0m\u001b[0m\n\u001b[0;32m   1200\u001b[0m         \u001b[1;31m# Explicit copy, or required since NumPy can't view from / to object.\u001b[0m\u001b[1;33m\u001b[0m\u001b[1;33m\u001b[0m\u001b[0m\n\u001b[1;32m-> 1201\u001b[1;33m         \u001b[1;32mreturn\u001b[0m \u001b[0marr\u001b[0m\u001b[1;33m.\u001b[0m\u001b[0mastype\u001b[0m\u001b[1;33m(\u001b[0m\u001b[0mdtype\u001b[0m\u001b[1;33m,\u001b[0m \u001b[0mcopy\u001b[0m\u001b[1;33m=\u001b[0m\u001b[1;32mTrue\u001b[0m\u001b[1;33m)\u001b[0m\u001b[1;33m\u001b[0m\u001b[1;33m\u001b[0m\u001b[0m\n\u001b[0m\u001b[0;32m   1202\u001b[0m \u001b[1;33m\u001b[0m\u001b[0m\n\u001b[0;32m   1203\u001b[0m     \u001b[1;32mreturn\u001b[0m \u001b[0marr\u001b[0m\u001b[1;33m.\u001b[0m\u001b[0mastype\u001b[0m\u001b[1;33m(\u001b[0m\u001b[0mdtype\u001b[0m\u001b[1;33m,\u001b[0m \u001b[0mcopy\u001b[0m\u001b[1;33m=\u001b[0m\u001b[0mcopy\u001b[0m\u001b[1;33m)\u001b[0m\u001b[1;33m\u001b[0m\u001b[1;33m\u001b[0m\u001b[0m\n",
      "\u001b[1;31mValueError\u001b[0m: could not convert string to float: 'F'"
     ]
    }
   ],
   "source": [
    "df['Resource Allocation'] = df['Resource Allocation'].astype('float64')"
   ]
  },
  {
   "cell_type": "markdown",
   "id": "16129b87",
   "metadata": {},
   "source": [
    "#  Got an error in coverting to float as the column containes invalid string value \"F\" we need to remove these values before converting the float datatype"
   ]
  },
  {
   "cell_type": "markdown",
   "id": "ad898ab5",
   "metadata": {},
   "source": [
    "# Replacing all \"F\"values to NaN then changing data type to float"
   ]
  },
  {
   "cell_type": "code",
   "execution_count": 11,
   "id": "d9c48a36",
   "metadata": {},
   "outputs": [],
   "source": [
    "df['Resource Allocation']=df['Resource Allocation'].replace('F', np.NaN)"
   ]
  },
  {
   "cell_type": "code",
   "execution_count": 12,
   "id": "cb5f5560",
   "metadata": {},
   "outputs": [],
   "source": [
    "df['Resource Allocation'] = df['Resource Allocation'].astype('float64')"
   ]
  },
  {
   "cell_type": "code",
   "execution_count": 13,
   "id": "a9726432",
   "metadata": {},
   "outputs": [
    {
     "data": {
      "text/plain": [
       "Employee ID              object\n",
       "Date of Joining          object\n",
       "Gender                   object\n",
       "Company Type             object\n",
       "WFH Setup Available      object\n",
       "Designation               int64\n",
       "Resource Allocation     float64\n",
       "Mental Fatigue Score    float64\n",
       "Burn Rate               float64\n",
       "dtype: object"
      ]
     },
     "execution_count": 13,
     "metadata": {},
     "output_type": "execute_result"
    }
   ],
   "source": [
    "df.dtypes"
   ]
  },
  {
   "cell_type": "markdown",
   "id": "5146ecad",
   "metadata": {},
   "source": [
    "# Find Number of Missing Values"
   ]
  },
  {
   "cell_type": "code",
   "execution_count": 13,
   "id": "ce2a681f",
   "metadata": {},
   "outputs": [
    {
     "data": {
      "text/plain": [
       "Employee ID                0\n",
       "Date of Joining            0\n",
       "Gender                     0\n",
       "Company Type               0\n",
       "WFH Setup Available        0\n",
       "Designation                0\n",
       "Resource Allocation     1381\n",
       "Mental Fatigue Score    2117\n",
       "Burn Rate               1124\n",
       "dtype: int64"
      ]
     },
     "execution_count": 13,
     "metadata": {},
     "output_type": "execute_result"
    }
   ],
   "source": [
    "df.isna().sum()"
   ]
  },
  {
   "cell_type": "markdown",
   "id": "d55e568f",
   "metadata": {},
   "source": [
    "# As Burn Rate is the target variable and we have missing value in it. I am going to drop these missing values"
   ]
  },
  {
   "cell_type": "code",
   "execution_count": 14,
   "id": "f8b7febf",
   "metadata": {},
   "outputs": [],
   "source": [
    "df.dropna(subset = [\"Burn Rate\"], inplace=True)"
   ]
  },
  {
   "cell_type": "markdown",
   "id": "be3e4723",
   "metadata": {},
   "source": [
    "# Replacing missing values in Resource Allocation and Mental Fatigue Score with mean value"
   ]
  },
  {
   "cell_type": "code",
   "execution_count": 15,
   "id": "e10a6896",
   "metadata": {},
   "outputs": [],
   "source": [
    "for column in ['Resource Allocation', 'Mental Fatigue Score']:\n",
    "        df[column] = df[column].fillna(df[column].mean())"
   ]
  },
  {
   "cell_type": "code",
   "execution_count": 16,
   "id": "62d964e0",
   "metadata": {
    "scrolled": true
   },
   "outputs": [
    {
     "data": {
      "text/plain": [
       "Employee ID             0\n",
       "Date of Joining         0\n",
       "Gender                  0\n",
       "Company Type            0\n",
       "WFH Setup Available     0\n",
       "Designation             0\n",
       "Resource Allocation     0\n",
       "Mental Fatigue Score    0\n",
       "Burn Rate               0\n",
       "dtype: int64"
      ]
     },
     "execution_count": 16,
     "metadata": {},
     "output_type": "execute_result"
    }
   ],
   "source": [
    "df.isna().sum()"
   ]
  },
  {
   "cell_type": "markdown",
   "id": "8d8f5ddf",
   "metadata": {},
   "source": [
    "# Renaming columns with appropriate names "
   ]
  },
  {
   "cell_type": "code",
   "execution_count": 17,
   "id": "c9ad18d6",
   "metadata": {},
   "outputs": [],
   "source": [
    "df.rename(columns={'Date of Joining':'Joining Date','Company Type':'Industry', 'WFH Setup Available':'WFH Available','Designation':'Designations'},inplace=True)"
   ]
  },
  {
   "cell_type": "code",
   "execution_count": 19,
   "id": "9fc7345e",
   "metadata": {},
   "outputs": [
    {
     "data": {
      "text/html": [
       "<div>\n",
       "<style scoped>\n",
       "    .dataframe tbody tr th:only-of-type {\n",
       "        vertical-align: middle;\n",
       "    }\n",
       "\n",
       "    .dataframe tbody tr th {\n",
       "        vertical-align: top;\n",
       "    }\n",
       "\n",
       "    .dataframe thead th {\n",
       "        text-align: right;\n",
       "    }\n",
       "</style>\n",
       "<table border=\"1\" class=\"dataframe\">\n",
       "  <thead>\n",
       "    <tr style=\"text-align: right;\">\n",
       "      <th></th>\n",
       "      <th>Employee ID</th>\n",
       "      <th>Joining Date</th>\n",
       "      <th>Gender</th>\n",
       "      <th>Industry</th>\n",
       "      <th>WFH Available</th>\n",
       "      <th>Designations</th>\n",
       "      <th>Resource Allocation</th>\n",
       "      <th>Mental Fatigue Score</th>\n",
       "      <th>Burn Rate</th>\n",
       "    </tr>\n",
       "  </thead>\n",
       "  <tbody>\n",
       "    <tr>\n",
       "      <th>0</th>\n",
       "      <td>fffe32003000360033003200</td>\n",
       "      <td>9/30/2008</td>\n",
       "      <td>Female</td>\n",
       "      <td>Service</td>\n",
       "      <td>No</td>\n",
       "      <td>2</td>\n",
       "      <td>3.000000</td>\n",
       "      <td>3.800000</td>\n",
       "      <td>0.16</td>\n",
       "    </tr>\n",
       "    <tr>\n",
       "      <th>1</th>\n",
       "      <td>fffe3700360033003500</td>\n",
       "      <td>11/30/2008</td>\n",
       "      <td>Male</td>\n",
       "      <td>Service</td>\n",
       "      <td>Yes</td>\n",
       "      <td>1</td>\n",
       "      <td>2.000000</td>\n",
       "      <td>5.000000</td>\n",
       "      <td>0.36</td>\n",
       "    </tr>\n",
       "    <tr>\n",
       "      <th>2</th>\n",
       "      <td>fffe31003300320037003900</td>\n",
       "      <td>3/10/2008</td>\n",
       "      <td>Female</td>\n",
       "      <td>Product</td>\n",
       "      <td>Yes</td>\n",
       "      <td>2</td>\n",
       "      <td>4.483831</td>\n",
       "      <td>5.800000</td>\n",
       "      <td>0.49</td>\n",
       "    </tr>\n",
       "    <tr>\n",
       "      <th>3</th>\n",
       "      <td>fffe32003400380032003900</td>\n",
       "      <td>11/3/2008</td>\n",
       "      <td>Male</td>\n",
       "      <td>Service</td>\n",
       "      <td>Yes</td>\n",
       "      <td>1</td>\n",
       "      <td>1.000000</td>\n",
       "      <td>2.600000</td>\n",
       "      <td>0.20</td>\n",
       "    </tr>\n",
       "    <tr>\n",
       "      <th>4</th>\n",
       "      <td>fffe31003900340031003600</td>\n",
       "      <td>7/24/2008</td>\n",
       "      <td>Female</td>\n",
       "      <td>Service</td>\n",
       "      <td>No</td>\n",
       "      <td>3</td>\n",
       "      <td>7.000000</td>\n",
       "      <td>6.900000</td>\n",
       "      <td>0.52</td>\n",
       "    </tr>\n",
       "    <tr>\n",
       "      <th>...</th>\n",
       "      <td>...</td>\n",
       "      <td>...</td>\n",
       "      <td>...</td>\n",
       "      <td>...</td>\n",
       "      <td>...</td>\n",
       "      <td>...</td>\n",
       "      <td>...</td>\n",
       "      <td>...</td>\n",
       "      <td>...</td>\n",
       "    </tr>\n",
       "    <tr>\n",
       "      <th>22745</th>\n",
       "      <td>fffe31003500370039003100</td>\n",
       "      <td>12/30/2008</td>\n",
       "      <td>Female</td>\n",
       "      <td>Service</td>\n",
       "      <td>No</td>\n",
       "      <td>3</td>\n",
       "      <td>3.000000</td>\n",
       "      <td>5.729851</td>\n",
       "      <td>0.41</td>\n",
       "    </tr>\n",
       "    <tr>\n",
       "      <th>22746</th>\n",
       "      <td>fffe33003000350031003800</td>\n",
       "      <td>1/19/2008</td>\n",
       "      <td>Female</td>\n",
       "      <td>Product</td>\n",
       "      <td>Yes</td>\n",
       "      <td>3</td>\n",
       "      <td>6.000000</td>\n",
       "      <td>6.700000</td>\n",
       "      <td>0.59</td>\n",
       "    </tr>\n",
       "    <tr>\n",
       "      <th>22747</th>\n",
       "      <td>fffe390032003000</td>\n",
       "      <td>11/5/2008</td>\n",
       "      <td>Male</td>\n",
       "      <td>Service</td>\n",
       "      <td>Yes</td>\n",
       "      <td>3</td>\n",
       "      <td>7.000000</td>\n",
       "      <td>5.729851</td>\n",
       "      <td>0.72</td>\n",
       "    </tr>\n",
       "    <tr>\n",
       "      <th>22748</th>\n",
       "      <td>fffe33003300320036003900</td>\n",
       "      <td>1/10/2008</td>\n",
       "      <td>Female</td>\n",
       "      <td>Service</td>\n",
       "      <td>No</td>\n",
       "      <td>3</td>\n",
       "      <td>5.000000</td>\n",
       "      <td>5.900000</td>\n",
       "      <td>0.52</td>\n",
       "    </tr>\n",
       "    <tr>\n",
       "      <th>22749</th>\n",
       "      <td>fffe3400350031003800</td>\n",
       "      <td>1/6/2008</td>\n",
       "      <td>Male</td>\n",
       "      <td>Product</td>\n",
       "      <td>No</td>\n",
       "      <td>3</td>\n",
       "      <td>6.000000</td>\n",
       "      <td>7.800000</td>\n",
       "      <td>0.61</td>\n",
       "    </tr>\n",
       "  </tbody>\n",
       "</table>\n",
       "<p>21626 rows × 9 columns</p>\n",
       "</div>"
      ],
      "text/plain": [
       "                    Employee ID Joining Date  Gender Industry WFH Available  \\\n",
       "0      fffe32003000360033003200    9/30/2008  Female  Service            No   \n",
       "1          fffe3700360033003500   11/30/2008    Male  Service           Yes   \n",
       "2      fffe31003300320037003900    3/10/2008  Female  Product           Yes   \n",
       "3      fffe32003400380032003900    11/3/2008    Male  Service           Yes   \n",
       "4      fffe31003900340031003600    7/24/2008  Female  Service            No   \n",
       "...                         ...          ...     ...      ...           ...   \n",
       "22745  fffe31003500370039003100   12/30/2008  Female  Service            No   \n",
       "22746  fffe33003000350031003800    1/19/2008  Female  Product           Yes   \n",
       "22747          fffe390032003000    11/5/2008    Male  Service           Yes   \n",
       "22748  fffe33003300320036003900    1/10/2008  Female  Service            No   \n",
       "22749      fffe3400350031003800     1/6/2008    Male  Product            No   \n",
       "\n",
       "       Designations  Resource Allocation  Mental Fatigue Score  Burn Rate  \n",
       "0                 2             3.000000              3.800000       0.16  \n",
       "1                 1             2.000000              5.000000       0.36  \n",
       "2                 2             4.483831              5.800000       0.49  \n",
       "3                 1             1.000000              2.600000       0.20  \n",
       "4                 3             7.000000              6.900000       0.52  \n",
       "...             ...                  ...                   ...        ...  \n",
       "22745             3             3.000000              5.729851       0.41  \n",
       "22746             3             6.000000              6.700000       0.59  \n",
       "22747             3             7.000000              5.729851       0.72  \n",
       "22748             3             5.000000              5.900000       0.52  \n",
       "22749             3             6.000000              7.800000       0.61  \n",
       "\n",
       "[21626 rows x 9 columns]"
      ]
     },
     "execution_count": 19,
     "metadata": {},
     "output_type": "execute_result"
    }
   ],
   "source": [
    "df"
   ]
  },
  {
   "cell_type": "markdown",
   "id": "a2ae9fa9",
   "metadata": {},
   "source": [
    "# Extracting Day Month and Year From Joining Date Variable"
   ]
  },
  {
   "cell_type": "code",
   "execution_count": 18,
   "id": "d72997b9",
   "metadata": {},
   "outputs": [],
   "source": [
    "df['year'] = pd.to_datetime(df['Joining Date']).dt.year\n",
    "df['month'] = pd.to_datetime(df['Joining Date']).dt.month_name()\n",
    "df['day'] = pd.to_datetime(df['Joining Date']).dt.day"
   ]
  },
  {
   "cell_type": "code",
   "execution_count": 21,
   "id": "1dfd7bf0",
   "metadata": {},
   "outputs": [
    {
     "data": {
      "text/html": [
       "<div>\n",
       "<style scoped>\n",
       "    .dataframe tbody tr th:only-of-type {\n",
       "        vertical-align: middle;\n",
       "    }\n",
       "\n",
       "    .dataframe tbody tr th {\n",
       "        vertical-align: top;\n",
       "    }\n",
       "\n",
       "    .dataframe thead th {\n",
       "        text-align: right;\n",
       "    }\n",
       "</style>\n",
       "<table border=\"1\" class=\"dataframe\">\n",
       "  <thead>\n",
       "    <tr style=\"text-align: right;\">\n",
       "      <th></th>\n",
       "      <th>Employee ID</th>\n",
       "      <th>Joining Date</th>\n",
       "      <th>Gender</th>\n",
       "      <th>Industry</th>\n",
       "      <th>WFH Available</th>\n",
       "      <th>Designations</th>\n",
       "      <th>Resource Allocation</th>\n",
       "      <th>Mental Fatigue Score</th>\n",
       "      <th>Burn Rate</th>\n",
       "      <th>year</th>\n",
       "      <th>month</th>\n",
       "      <th>day</th>\n",
       "    </tr>\n",
       "  </thead>\n",
       "  <tbody>\n",
       "    <tr>\n",
       "      <th>0</th>\n",
       "      <td>fffe32003000360033003200</td>\n",
       "      <td>9/30/2008</td>\n",
       "      <td>Female</td>\n",
       "      <td>Service</td>\n",
       "      <td>No</td>\n",
       "      <td>2</td>\n",
       "      <td>3.000000</td>\n",
       "      <td>3.800000</td>\n",
       "      <td>0.16</td>\n",
       "      <td>2008</td>\n",
       "      <td>September</td>\n",
       "      <td>30</td>\n",
       "    </tr>\n",
       "    <tr>\n",
       "      <th>1</th>\n",
       "      <td>fffe3700360033003500</td>\n",
       "      <td>11/30/2008</td>\n",
       "      <td>Male</td>\n",
       "      <td>Service</td>\n",
       "      <td>Yes</td>\n",
       "      <td>1</td>\n",
       "      <td>2.000000</td>\n",
       "      <td>5.000000</td>\n",
       "      <td>0.36</td>\n",
       "      <td>2008</td>\n",
       "      <td>November</td>\n",
       "      <td>30</td>\n",
       "    </tr>\n",
       "    <tr>\n",
       "      <th>2</th>\n",
       "      <td>fffe31003300320037003900</td>\n",
       "      <td>3/10/2008</td>\n",
       "      <td>Female</td>\n",
       "      <td>Product</td>\n",
       "      <td>Yes</td>\n",
       "      <td>2</td>\n",
       "      <td>4.483831</td>\n",
       "      <td>5.800000</td>\n",
       "      <td>0.49</td>\n",
       "      <td>2008</td>\n",
       "      <td>March</td>\n",
       "      <td>10</td>\n",
       "    </tr>\n",
       "    <tr>\n",
       "      <th>3</th>\n",
       "      <td>fffe32003400380032003900</td>\n",
       "      <td>11/3/2008</td>\n",
       "      <td>Male</td>\n",
       "      <td>Service</td>\n",
       "      <td>Yes</td>\n",
       "      <td>1</td>\n",
       "      <td>1.000000</td>\n",
       "      <td>2.600000</td>\n",
       "      <td>0.20</td>\n",
       "      <td>2008</td>\n",
       "      <td>November</td>\n",
       "      <td>3</td>\n",
       "    </tr>\n",
       "    <tr>\n",
       "      <th>4</th>\n",
       "      <td>fffe31003900340031003600</td>\n",
       "      <td>7/24/2008</td>\n",
       "      <td>Female</td>\n",
       "      <td>Service</td>\n",
       "      <td>No</td>\n",
       "      <td>3</td>\n",
       "      <td>7.000000</td>\n",
       "      <td>6.900000</td>\n",
       "      <td>0.52</td>\n",
       "      <td>2008</td>\n",
       "      <td>July</td>\n",
       "      <td>24</td>\n",
       "    </tr>\n",
       "    <tr>\n",
       "      <th>...</th>\n",
       "      <td>...</td>\n",
       "      <td>...</td>\n",
       "      <td>...</td>\n",
       "      <td>...</td>\n",
       "      <td>...</td>\n",
       "      <td>...</td>\n",
       "      <td>...</td>\n",
       "      <td>...</td>\n",
       "      <td>...</td>\n",
       "      <td>...</td>\n",
       "      <td>...</td>\n",
       "      <td>...</td>\n",
       "    </tr>\n",
       "    <tr>\n",
       "      <th>22745</th>\n",
       "      <td>fffe31003500370039003100</td>\n",
       "      <td>12/30/2008</td>\n",
       "      <td>Female</td>\n",
       "      <td>Service</td>\n",
       "      <td>No</td>\n",
       "      <td>3</td>\n",
       "      <td>3.000000</td>\n",
       "      <td>5.729851</td>\n",
       "      <td>0.41</td>\n",
       "      <td>2008</td>\n",
       "      <td>December</td>\n",
       "      <td>30</td>\n",
       "    </tr>\n",
       "    <tr>\n",
       "      <th>22746</th>\n",
       "      <td>fffe33003000350031003800</td>\n",
       "      <td>1/19/2008</td>\n",
       "      <td>Female</td>\n",
       "      <td>Product</td>\n",
       "      <td>Yes</td>\n",
       "      <td>3</td>\n",
       "      <td>6.000000</td>\n",
       "      <td>6.700000</td>\n",
       "      <td>0.59</td>\n",
       "      <td>2008</td>\n",
       "      <td>January</td>\n",
       "      <td>19</td>\n",
       "    </tr>\n",
       "    <tr>\n",
       "      <th>22747</th>\n",
       "      <td>fffe390032003000</td>\n",
       "      <td>11/5/2008</td>\n",
       "      <td>Male</td>\n",
       "      <td>Service</td>\n",
       "      <td>Yes</td>\n",
       "      <td>3</td>\n",
       "      <td>7.000000</td>\n",
       "      <td>5.729851</td>\n",
       "      <td>0.72</td>\n",
       "      <td>2008</td>\n",
       "      <td>November</td>\n",
       "      <td>5</td>\n",
       "    </tr>\n",
       "    <tr>\n",
       "      <th>22748</th>\n",
       "      <td>fffe33003300320036003900</td>\n",
       "      <td>1/10/2008</td>\n",
       "      <td>Female</td>\n",
       "      <td>Service</td>\n",
       "      <td>No</td>\n",
       "      <td>3</td>\n",
       "      <td>5.000000</td>\n",
       "      <td>5.900000</td>\n",
       "      <td>0.52</td>\n",
       "      <td>2008</td>\n",
       "      <td>January</td>\n",
       "      <td>10</td>\n",
       "    </tr>\n",
       "    <tr>\n",
       "      <th>22749</th>\n",
       "      <td>fffe3400350031003800</td>\n",
       "      <td>1/6/2008</td>\n",
       "      <td>Male</td>\n",
       "      <td>Product</td>\n",
       "      <td>No</td>\n",
       "      <td>3</td>\n",
       "      <td>6.000000</td>\n",
       "      <td>7.800000</td>\n",
       "      <td>0.61</td>\n",
       "      <td>2008</td>\n",
       "      <td>January</td>\n",
       "      <td>6</td>\n",
       "    </tr>\n",
       "  </tbody>\n",
       "</table>\n",
       "<p>21626 rows × 12 columns</p>\n",
       "</div>"
      ],
      "text/plain": [
       "                    Employee ID Joining Date  Gender Industry WFH Available  \\\n",
       "0      fffe32003000360033003200    9/30/2008  Female  Service            No   \n",
       "1          fffe3700360033003500   11/30/2008    Male  Service           Yes   \n",
       "2      fffe31003300320037003900    3/10/2008  Female  Product           Yes   \n",
       "3      fffe32003400380032003900    11/3/2008    Male  Service           Yes   \n",
       "4      fffe31003900340031003600    7/24/2008  Female  Service            No   \n",
       "...                         ...          ...     ...      ...           ...   \n",
       "22745  fffe31003500370039003100   12/30/2008  Female  Service            No   \n",
       "22746  fffe33003000350031003800    1/19/2008  Female  Product           Yes   \n",
       "22747          fffe390032003000    11/5/2008    Male  Service           Yes   \n",
       "22748  fffe33003300320036003900    1/10/2008  Female  Service            No   \n",
       "22749      fffe3400350031003800     1/6/2008    Male  Product            No   \n",
       "\n",
       "       Designations  Resource Allocation  Mental Fatigue Score  Burn Rate  \\\n",
       "0                 2             3.000000              3.800000       0.16   \n",
       "1                 1             2.000000              5.000000       0.36   \n",
       "2                 2             4.483831              5.800000       0.49   \n",
       "3                 1             1.000000              2.600000       0.20   \n",
       "4                 3             7.000000              6.900000       0.52   \n",
       "...             ...                  ...                   ...        ...   \n",
       "22745             3             3.000000              5.729851       0.41   \n",
       "22746             3             6.000000              6.700000       0.59   \n",
       "22747             3             7.000000              5.729851       0.72   \n",
       "22748             3             5.000000              5.900000       0.52   \n",
       "22749             3             6.000000              7.800000       0.61   \n",
       "\n",
       "       year      month  day  \n",
       "0      2008  September   30  \n",
       "1      2008   November   30  \n",
       "2      2008      March   10  \n",
       "3      2008   November    3  \n",
       "4      2008       July   24  \n",
       "...     ...        ...  ...  \n",
       "22745  2008   December   30  \n",
       "22746  2008    January   19  \n",
       "22747  2008   November    5  \n",
       "22748  2008    January   10  \n",
       "22749  2008    January    6  \n",
       "\n",
       "[21626 rows x 12 columns]"
      ]
     },
     "execution_count": 21,
     "metadata": {},
     "output_type": "execute_result"
    }
   ],
   "source": [
    "df"
   ]
  },
  {
   "cell_type": "markdown",
   "id": "dff47053",
   "metadata": {},
   "source": [
    "# Converting Burn Rate to Percentage"
   ]
  },
  {
   "cell_type": "code",
   "execution_count": 19,
   "id": "637a79a4",
   "metadata": {},
   "outputs": [],
   "source": [
    "df[['Burn Rate']] = ( 100 * df[['Burn Rate']] )\n",
    "df[\"Burn Rate\"] = df['Burn Rate'].apply(int) # removing decimal and converting from float to integer"
   ]
  },
  {
   "cell_type": "code",
   "execution_count": 21,
   "id": "864dbed2",
   "metadata": {},
   "outputs": [
    {
     "data": {
      "text/plain": [
       "Employee ID              object\n",
       "Joining Date             object\n",
       "Gender                   object\n",
       "Industry                 object\n",
       "WFH Available            object\n",
       "Designations              int64\n",
       "Resource Allocation     float64\n",
       "Mental Fatigue Score    float64\n",
       "Burn Rate                 int64\n",
       "year                      int64\n",
       "month                    object\n",
       "day                       int64\n",
       "dtype: object"
      ]
     },
     "execution_count": 21,
     "metadata": {},
     "output_type": "execute_result"
    }
   ],
   "source": [
    "df.dtypes"
   ]
  },
  {
   "cell_type": "code",
   "execution_count": 20,
   "id": "7e88d085",
   "metadata": {},
   "outputs": [
    {
     "data": {
      "text/html": [
       "<div>\n",
       "<style scoped>\n",
       "    .dataframe tbody tr th:only-of-type {\n",
       "        vertical-align: middle;\n",
       "    }\n",
       "\n",
       "    .dataframe tbody tr th {\n",
       "        vertical-align: top;\n",
       "    }\n",
       "\n",
       "    .dataframe thead th {\n",
       "        text-align: right;\n",
       "    }\n",
       "</style>\n",
       "<table border=\"1\" class=\"dataframe\">\n",
       "  <thead>\n",
       "    <tr style=\"text-align: right;\">\n",
       "      <th></th>\n",
       "      <th>Employee ID</th>\n",
       "      <th>Joining Date</th>\n",
       "      <th>Gender</th>\n",
       "      <th>Industry</th>\n",
       "      <th>WFH Available</th>\n",
       "      <th>Designations</th>\n",
       "      <th>Resource Allocation</th>\n",
       "      <th>Mental Fatigue Score</th>\n",
       "      <th>Burn Rate</th>\n",
       "      <th>year</th>\n",
       "      <th>month</th>\n",
       "      <th>day</th>\n",
       "    </tr>\n",
       "  </thead>\n",
       "  <tbody>\n",
       "    <tr>\n",
       "      <th>0</th>\n",
       "      <td>fffe32003000360033003200</td>\n",
       "      <td>9/30/2008</td>\n",
       "      <td>Female</td>\n",
       "      <td>Service</td>\n",
       "      <td>No</td>\n",
       "      <td>2</td>\n",
       "      <td>3.000000</td>\n",
       "      <td>3.800000</td>\n",
       "      <td>16</td>\n",
       "      <td>2008</td>\n",
       "      <td>September</td>\n",
       "      <td>30</td>\n",
       "    </tr>\n",
       "    <tr>\n",
       "      <th>1</th>\n",
       "      <td>fffe3700360033003500</td>\n",
       "      <td>11/30/2008</td>\n",
       "      <td>Male</td>\n",
       "      <td>Service</td>\n",
       "      <td>Yes</td>\n",
       "      <td>1</td>\n",
       "      <td>2.000000</td>\n",
       "      <td>5.000000</td>\n",
       "      <td>36</td>\n",
       "      <td>2008</td>\n",
       "      <td>November</td>\n",
       "      <td>30</td>\n",
       "    </tr>\n",
       "    <tr>\n",
       "      <th>2</th>\n",
       "      <td>fffe31003300320037003900</td>\n",
       "      <td>3/10/2008</td>\n",
       "      <td>Female</td>\n",
       "      <td>Product</td>\n",
       "      <td>Yes</td>\n",
       "      <td>2</td>\n",
       "      <td>4.483831</td>\n",
       "      <td>5.800000</td>\n",
       "      <td>49</td>\n",
       "      <td>2008</td>\n",
       "      <td>March</td>\n",
       "      <td>10</td>\n",
       "    </tr>\n",
       "    <tr>\n",
       "      <th>3</th>\n",
       "      <td>fffe32003400380032003900</td>\n",
       "      <td>11/3/2008</td>\n",
       "      <td>Male</td>\n",
       "      <td>Service</td>\n",
       "      <td>Yes</td>\n",
       "      <td>1</td>\n",
       "      <td>1.000000</td>\n",
       "      <td>2.600000</td>\n",
       "      <td>20</td>\n",
       "      <td>2008</td>\n",
       "      <td>November</td>\n",
       "      <td>3</td>\n",
       "    </tr>\n",
       "    <tr>\n",
       "      <th>4</th>\n",
       "      <td>fffe31003900340031003600</td>\n",
       "      <td>7/24/2008</td>\n",
       "      <td>Female</td>\n",
       "      <td>Service</td>\n",
       "      <td>No</td>\n",
       "      <td>3</td>\n",
       "      <td>7.000000</td>\n",
       "      <td>6.900000</td>\n",
       "      <td>52</td>\n",
       "      <td>2008</td>\n",
       "      <td>July</td>\n",
       "      <td>24</td>\n",
       "    </tr>\n",
       "    <tr>\n",
       "      <th>...</th>\n",
       "      <td>...</td>\n",
       "      <td>...</td>\n",
       "      <td>...</td>\n",
       "      <td>...</td>\n",
       "      <td>...</td>\n",
       "      <td>...</td>\n",
       "      <td>...</td>\n",
       "      <td>...</td>\n",
       "      <td>...</td>\n",
       "      <td>...</td>\n",
       "      <td>...</td>\n",
       "      <td>...</td>\n",
       "    </tr>\n",
       "    <tr>\n",
       "      <th>22745</th>\n",
       "      <td>fffe31003500370039003100</td>\n",
       "      <td>12/30/2008</td>\n",
       "      <td>Female</td>\n",
       "      <td>Service</td>\n",
       "      <td>No</td>\n",
       "      <td>3</td>\n",
       "      <td>3.000000</td>\n",
       "      <td>5.729851</td>\n",
       "      <td>41</td>\n",
       "      <td>2008</td>\n",
       "      <td>December</td>\n",
       "      <td>30</td>\n",
       "    </tr>\n",
       "    <tr>\n",
       "      <th>22746</th>\n",
       "      <td>fffe33003000350031003800</td>\n",
       "      <td>1/19/2008</td>\n",
       "      <td>Female</td>\n",
       "      <td>Product</td>\n",
       "      <td>Yes</td>\n",
       "      <td>3</td>\n",
       "      <td>6.000000</td>\n",
       "      <td>6.700000</td>\n",
       "      <td>59</td>\n",
       "      <td>2008</td>\n",
       "      <td>January</td>\n",
       "      <td>19</td>\n",
       "    </tr>\n",
       "    <tr>\n",
       "      <th>22747</th>\n",
       "      <td>fffe390032003000</td>\n",
       "      <td>11/5/2008</td>\n",
       "      <td>Male</td>\n",
       "      <td>Service</td>\n",
       "      <td>Yes</td>\n",
       "      <td>3</td>\n",
       "      <td>7.000000</td>\n",
       "      <td>5.729851</td>\n",
       "      <td>72</td>\n",
       "      <td>2008</td>\n",
       "      <td>November</td>\n",
       "      <td>5</td>\n",
       "    </tr>\n",
       "    <tr>\n",
       "      <th>22748</th>\n",
       "      <td>fffe33003300320036003900</td>\n",
       "      <td>1/10/2008</td>\n",
       "      <td>Female</td>\n",
       "      <td>Service</td>\n",
       "      <td>No</td>\n",
       "      <td>3</td>\n",
       "      <td>5.000000</td>\n",
       "      <td>5.900000</td>\n",
       "      <td>52</td>\n",
       "      <td>2008</td>\n",
       "      <td>January</td>\n",
       "      <td>10</td>\n",
       "    </tr>\n",
       "    <tr>\n",
       "      <th>22749</th>\n",
       "      <td>fffe3400350031003800</td>\n",
       "      <td>1/6/2008</td>\n",
       "      <td>Male</td>\n",
       "      <td>Product</td>\n",
       "      <td>No</td>\n",
       "      <td>3</td>\n",
       "      <td>6.000000</td>\n",
       "      <td>7.800000</td>\n",
       "      <td>61</td>\n",
       "      <td>2008</td>\n",
       "      <td>January</td>\n",
       "      <td>6</td>\n",
       "    </tr>\n",
       "  </tbody>\n",
       "</table>\n",
       "<p>21626 rows × 12 columns</p>\n",
       "</div>"
      ],
      "text/plain": [
       "                    Employee ID Joining Date  Gender Industry WFH Available  \\\n",
       "0      fffe32003000360033003200    9/30/2008  Female  Service            No   \n",
       "1          fffe3700360033003500   11/30/2008    Male  Service           Yes   \n",
       "2      fffe31003300320037003900    3/10/2008  Female  Product           Yes   \n",
       "3      fffe32003400380032003900    11/3/2008    Male  Service           Yes   \n",
       "4      fffe31003900340031003600    7/24/2008  Female  Service            No   \n",
       "...                         ...          ...     ...      ...           ...   \n",
       "22745  fffe31003500370039003100   12/30/2008  Female  Service            No   \n",
       "22746  fffe33003000350031003800    1/19/2008  Female  Product           Yes   \n",
       "22747          fffe390032003000    11/5/2008    Male  Service           Yes   \n",
       "22748  fffe33003300320036003900    1/10/2008  Female  Service            No   \n",
       "22749      fffe3400350031003800     1/6/2008    Male  Product            No   \n",
       "\n",
       "       Designations  Resource Allocation  Mental Fatigue Score  Burn Rate  \\\n",
       "0                 2             3.000000              3.800000         16   \n",
       "1                 1             2.000000              5.000000         36   \n",
       "2                 2             4.483831              5.800000         49   \n",
       "3                 1             1.000000              2.600000         20   \n",
       "4                 3             7.000000              6.900000         52   \n",
       "...             ...                  ...                   ...        ...   \n",
       "22745             3             3.000000              5.729851         41   \n",
       "22746             3             6.000000              6.700000         59   \n",
       "22747             3             7.000000              5.729851         72   \n",
       "22748             3             5.000000              5.900000         52   \n",
       "22749             3             6.000000              7.800000         61   \n",
       "\n",
       "       year      month  day  \n",
       "0      2008  September   30  \n",
       "1      2008   November   30  \n",
       "2      2008      March   10  \n",
       "3      2008   November    3  \n",
       "4      2008       July   24  \n",
       "...     ...        ...  ...  \n",
       "22745  2008   December   30  \n",
       "22746  2008    January   19  \n",
       "22747  2008   November    5  \n",
       "22748  2008    January   10  \n",
       "22749  2008    January    6  \n",
       "\n",
       "[21626 rows x 12 columns]"
      ]
     },
     "execution_count": 20,
     "metadata": {},
     "output_type": "execute_result"
    }
   ],
   "source": [
    "df"
   ]
  },
  {
   "cell_type": "markdown",
   "id": "539c09f6",
   "metadata": {},
   "source": [
    "# Dropping columns that doesnt add any meaningful information"
   ]
  },
  {
   "cell_type": "code",
   "execution_count": 21,
   "id": "9913a418",
   "metadata": {},
   "outputs": [],
   "source": [
    "df=df.drop([\"Employee ID\"],axis=1)"
   ]
  },
  {
   "cell_type": "markdown",
   "id": "9b7ecae6",
   "metadata": {},
   "source": [
    "# Finding duplicated values "
   ]
  },
  {
   "cell_type": "code",
   "execution_count": 22,
   "id": "6efac572",
   "metadata": {},
   "outputs": [
    {
     "data": {
      "text/plain": [
       "20"
      ]
     },
     "execution_count": 22,
     "metadata": {},
     "output_type": "execute_result"
    }
   ],
   "source": [
    "df.duplicated().sum()"
   ]
  },
  {
   "cell_type": "markdown",
   "id": "94ffdc96",
   "metadata": {},
   "source": [
    "There are 20 duplicated values in the dataset. we have to remove them "
   ]
  },
  {
   "cell_type": "markdown",
   "id": "0c0d3114",
   "metadata": {},
   "source": [
    "# Removing duplicated values "
   ]
  },
  {
   "cell_type": "code",
   "execution_count": 23,
   "id": "8f533a23",
   "metadata": {},
   "outputs": [
    {
     "name": "stdout",
     "output_type": "stream",
     "text": [
      "(21626, 11) (21606, 11) \n",
      " Number of duplicate data:  20\n"
     ]
    }
   ],
   "source": [
    "df_nodub=df.drop_duplicates()\n",
    "\n",
    "print (df.shape,df_nodub.shape,'\\n Number of duplicate data: ',df.shape[0]-df_nodub.shape[0])\n",
    "\n",
    "df=df_nodub\n"
   ]
  },
  {
   "cell_type": "code",
   "execution_count": 25,
   "id": "bc452cc6",
   "metadata": {},
   "outputs": [
    {
     "data": {
      "text/html": [
       "<div>\n",
       "<style scoped>\n",
       "    .dataframe tbody tr th:only-of-type {\n",
       "        vertical-align: middle;\n",
       "    }\n",
       "\n",
       "    .dataframe tbody tr th {\n",
       "        vertical-align: top;\n",
       "    }\n",
       "\n",
       "    .dataframe thead th {\n",
       "        text-align: right;\n",
       "    }\n",
       "</style>\n",
       "<table border=\"1\" class=\"dataframe\">\n",
       "  <thead>\n",
       "    <tr style=\"text-align: right;\">\n",
       "      <th></th>\n",
       "      <th>Designations</th>\n",
       "      <th>Resource Allocation</th>\n",
       "      <th>Mental Fatigue Score</th>\n",
       "      <th>Burn Rate</th>\n",
       "      <th>year</th>\n",
       "      <th>day</th>\n",
       "    </tr>\n",
       "  </thead>\n",
       "  <tbody>\n",
       "    <tr>\n",
       "      <th>count</th>\n",
       "      <td>21606.000000</td>\n",
       "      <td>21606.000000</td>\n",
       "      <td>21606.000000</td>\n",
       "      <td>21606.000000</td>\n",
       "      <td>21606.0</td>\n",
       "      <td>21606.000000</td>\n",
       "    </tr>\n",
       "    <tr>\n",
       "      <th>mean</th>\n",
       "      <td>2.998149</td>\n",
       "      <td>4.483816</td>\n",
       "      <td>5.730170</td>\n",
       "      <td>45.151301</td>\n",
       "      <td>2008.0</td>\n",
       "      <td>15.758215</td>\n",
       "    </tr>\n",
       "    <tr>\n",
       "      <th>std</th>\n",
       "      <td>0.060823</td>\n",
       "      <td>1.987099</td>\n",
       "      <td>1.832461</td>\n",
       "      <td>19.816663</td>\n",
       "      <td>0.0</td>\n",
       "      <td>8.780617</td>\n",
       "    </tr>\n",
       "    <tr>\n",
       "      <th>min</th>\n",
       "      <td>0.000000</td>\n",
       "      <td>1.000000</td>\n",
       "      <td>0.000000</td>\n",
       "      <td>0.000000</td>\n",
       "      <td>2008.0</td>\n",
       "      <td>1.000000</td>\n",
       "    </tr>\n",
       "    <tr>\n",
       "      <th>25%</th>\n",
       "      <td>3.000000</td>\n",
       "      <td>3.000000</td>\n",
       "      <td>4.700000</td>\n",
       "      <td>31.000000</td>\n",
       "      <td>2008.0</td>\n",
       "      <td>8.000000</td>\n",
       "    </tr>\n",
       "    <tr>\n",
       "      <th>50%</th>\n",
       "      <td>3.000000</td>\n",
       "      <td>4.483831</td>\n",
       "      <td>5.729851</td>\n",
       "      <td>45.000000</td>\n",
       "      <td>2008.0</td>\n",
       "      <td>16.000000</td>\n",
       "    </tr>\n",
       "    <tr>\n",
       "      <th>75%</th>\n",
       "      <td>3.000000</td>\n",
       "      <td>6.000000</td>\n",
       "      <td>6.900000</td>\n",
       "      <td>59.000000</td>\n",
       "      <td>2008.0</td>\n",
       "      <td>23.000000</td>\n",
       "    </tr>\n",
       "    <tr>\n",
       "      <th>max</th>\n",
       "      <td>4.000000</td>\n",
       "      <td>10.000000</td>\n",
       "      <td>10.000000</td>\n",
       "      <td>100.000000</td>\n",
       "      <td>2008.0</td>\n",
       "      <td>31.000000</td>\n",
       "    </tr>\n",
       "  </tbody>\n",
       "</table>\n",
       "</div>"
      ],
      "text/plain": [
       "       Designations  Resource Allocation  Mental Fatigue Score     Burn Rate  \\\n",
       "count  21606.000000         21606.000000          21606.000000  21606.000000   \n",
       "mean       2.998149             4.483816              5.730170     45.151301   \n",
       "std        0.060823             1.987099              1.832461     19.816663   \n",
       "min        0.000000             1.000000              0.000000      0.000000   \n",
       "25%        3.000000             3.000000              4.700000     31.000000   \n",
       "50%        3.000000             4.483831              5.729851     45.000000   \n",
       "75%        3.000000             6.000000              6.900000     59.000000   \n",
       "max        4.000000            10.000000             10.000000    100.000000   \n",
       "\n",
       "          year           day  \n",
       "count  21606.0  21606.000000  \n",
       "mean    2008.0     15.758215  \n",
       "std        0.0      8.780617  \n",
       "min     2008.0      1.000000  \n",
       "25%     2008.0      8.000000  \n",
       "50%     2008.0     16.000000  \n",
       "75%     2008.0     23.000000  \n",
       "max     2008.0     31.000000  "
      ]
     },
     "execution_count": 25,
     "metadata": {},
     "output_type": "execute_result"
    }
   ],
   "source": [
    "df.describe()"
   ]
  },
  {
   "cell_type": "code",
   "execution_count": 24,
   "id": "6648faaf",
   "metadata": {},
   "outputs": [
    {
     "data": {
      "text/plain": [
       "0"
      ]
     },
     "execution_count": 24,
     "metadata": {},
     "output_type": "execute_result"
    }
   ],
   "source": [
    "df.duplicated().sum()"
   ]
  },
  {
   "cell_type": "markdown",
   "id": "5d608288",
   "metadata": {},
   "source": [
    "# Finding the Column Names in the dataset"
   ]
  },
  {
   "cell_type": "code",
   "execution_count": 222,
   "id": "270528a6",
   "metadata": {},
   "outputs": [
    {
     "data": {
      "text/plain": [
       "Index(['Joining Date', 'Gender', 'Industry', 'WFH Available', 'Designations',\n",
       "       'Resource Allocation', 'Mental Fatigue Score', 'Burn Rate', 'year',\n",
       "       'month', 'day'],\n",
       "      dtype='object')"
      ]
     },
     "execution_count": 222,
     "metadata": {},
     "output_type": "execute_result"
    }
   ],
   "source": [
    "df.columns"
   ]
  },
  {
   "cell_type": "markdown",
   "id": "fb106e3b",
   "metadata": {},
   "source": [
    "# Finding Numerical Variables in the dataset"
   ]
  },
  {
   "cell_type": "code",
   "execution_count": 30,
   "id": "24dc1d4e",
   "metadata": {},
   "outputs": [
    {
     "data": {
      "text/plain": [
       "Index(['Designations', 'Resource Allocation', 'Mental Fatigue Score',\n",
       "       'Burn Rate', 'year', 'day'],\n",
       "      dtype='object')"
      ]
     },
     "execution_count": 30,
     "metadata": {},
     "output_type": "execute_result"
    }
   ],
   "source": [
    "df_num=df.select_dtypes(exclude='object')# getting numeric variables\n",
    "df_num.columns"
   ]
  },
  {
   "cell_type": "markdown",
   "id": "fcefd3ca",
   "metadata": {},
   "source": [
    "# Finding Categorical Variable in the Dataset"
   ]
  },
  {
   "cell_type": "code",
   "execution_count": 31,
   "id": "341cd291",
   "metadata": {},
   "outputs": [
    {
     "data": {
      "text/plain": [
       "Index(['Joining Date', 'Gender', 'Industry', 'WFH Available', 'month'], dtype='object')"
      ]
     },
     "execution_count": 31,
     "metadata": {},
     "output_type": "execute_result"
    }
   ],
   "source": [
    "df_num=df.select_dtypes(include='object')# getting categorical variables\n",
    "df_num.columns"
   ]
  },
  {
   "cell_type": "markdown",
   "id": "c1342fc4",
   "metadata": {},
   "source": [
    "# Finding Unique Values and Level's in the Data"
   ]
  },
  {
   "cell_type": "code",
   "execution_count": 32,
   "id": "778bf344",
   "metadata": {},
   "outputs": [
    {
     "data": {
      "text/html": [
       "<div>\n",
       "<style scoped>\n",
       "    .dataframe tbody tr th:only-of-type {\n",
       "        vertical-align: middle;\n",
       "    }\n",
       "\n",
       "    .dataframe tbody tr th {\n",
       "        vertical-align: top;\n",
       "    }\n",
       "\n",
       "    .dataframe thead th {\n",
       "        text-align: right;\n",
       "    }\n",
       "</style>\n",
       "<table border=\"1\" class=\"dataframe\">\n",
       "  <thead>\n",
       "    <tr style=\"text-align: right;\">\n",
       "      <th></th>\n",
       "      <th>count</th>\n",
       "      <th>unique</th>\n",
       "      <th>top</th>\n",
       "      <th>freq</th>\n",
       "    </tr>\n",
       "  </thead>\n",
       "  <tbody>\n",
       "    <tr>\n",
       "      <th>Joining Date</th>\n",
       "      <td>21606</td>\n",
       "      <td>366</td>\n",
       "      <td>5/21/2008</td>\n",
       "      <td>83</td>\n",
       "    </tr>\n",
       "    <tr>\n",
       "      <th>Gender</th>\n",
       "      <td>21606</td>\n",
       "      <td>2</td>\n",
       "      <td>Female</td>\n",
       "      <td>11334</td>\n",
       "    </tr>\n",
       "    <tr>\n",
       "      <th>Industry</th>\n",
       "      <td>21606</td>\n",
       "      <td>2</td>\n",
       "      <td>Service</td>\n",
       "      <td>14109</td>\n",
       "    </tr>\n",
       "    <tr>\n",
       "      <th>WFH Available</th>\n",
       "      <td>21606</td>\n",
       "      <td>2</td>\n",
       "      <td>Yes</td>\n",
       "      <td>11678</td>\n",
       "    </tr>\n",
       "    <tr>\n",
       "      <th>Designations</th>\n",
       "      <td>21606</td>\n",
       "      <td>5</td>\n",
       "      <td>3</td>\n",
       "      <td>21580</td>\n",
       "    </tr>\n",
       "    <tr>\n",
       "      <th>Resource Allocation</th>\n",
       "      <td>21606.0</td>\n",
       "      <td>11.0</td>\n",
       "      <td>4.0</td>\n",
       "      <td>3690.0</td>\n",
       "    </tr>\n",
       "    <tr>\n",
       "      <th>Mental Fatigue Score</th>\n",
       "      <td>21606.0</td>\n",
       "      <td>102.0</td>\n",
       "      <td>5.729851</td>\n",
       "      <td>1938.0</td>\n",
       "    </tr>\n",
       "    <tr>\n",
       "      <th>Burn Rate</th>\n",
       "      <td>21606</td>\n",
       "      <td>99</td>\n",
       "      <td>56</td>\n",
       "      <td>748</td>\n",
       "    </tr>\n",
       "    <tr>\n",
       "      <th>year</th>\n",
       "      <td>21606</td>\n",
       "      <td>1</td>\n",
       "      <td>2008</td>\n",
       "      <td>21606</td>\n",
       "    </tr>\n",
       "    <tr>\n",
       "      <th>month</th>\n",
       "      <td>21606</td>\n",
       "      <td>12</td>\n",
       "      <td>October</td>\n",
       "      <td>1887</td>\n",
       "    </tr>\n",
       "    <tr>\n",
       "      <th>day</th>\n",
       "      <td>21606</td>\n",
       "      <td>31</td>\n",
       "      <td>11</td>\n",
       "      <td>755</td>\n",
       "    </tr>\n",
       "  </tbody>\n",
       "</table>\n",
       "</div>"
      ],
      "text/plain": [
       "                        count unique        top    freq\n",
       "Joining Date            21606    366  5/21/2008      83\n",
       "Gender                  21606      2     Female   11334\n",
       "Industry                21606      2    Service   14109\n",
       "WFH Available           21606      2        Yes   11678\n",
       "Designations            21606      5          3   21580\n",
       "Resource Allocation   21606.0   11.0        4.0  3690.0\n",
       "Mental Fatigue Score  21606.0  102.0   5.729851  1938.0\n",
       "Burn Rate               21606     99         56     748\n",
       "year                    21606      1       2008   21606\n",
       "month                   21606     12    October    1887\n",
       "day                     21606     31         11     755"
      ]
     },
     "execution_count": 32,
     "metadata": {},
     "output_type": "execute_result"
    }
   ],
   "source": [
    "df.astype('object').describe().transpose()#transpose to swap rows and columns"
   ]
  },
  {
   "cell_type": "code",
   "execution_count": 33,
   "id": "49c5740c",
   "metadata": {
    "scrolled": true
   },
   "outputs": [
    {
     "name": "stdout",
     "output_type": "stream",
     "text": [
      "Joining Date\n",
      "366\n",
      "--------------------------\n",
      "Gender\n",
      "2\n",
      "--------------------------\n",
      "Industry\n",
      "2\n",
      "--------------------------\n",
      "WFH Available\n",
      "2\n",
      "--------------------------\n",
      "Designations\n",
      "5\n",
      "--------------------------\n",
      "Resource Allocation\n",
      "11\n",
      "--------------------------\n",
      "Mental Fatigue Score\n",
      "102\n",
      "--------------------------\n",
      "Burn Rate\n",
      "99\n",
      "--------------------------\n",
      "year\n",
      "1\n",
      "--------------------------\n",
      "month\n",
      "12\n",
      "--------------------------\n",
      "day\n",
      "31\n",
      "--------------------------\n"
     ]
    }
   ],
   "source": [
    "for i in df.columns:\n",
    "    print(i)\n",
    "    print(len(df[i].unique()))\n",
    "    print(\"--------------------------\")"
   ]
  },
  {
   "cell_type": "markdown",
   "id": "66b76a12",
   "metadata": {},
   "source": [
    "# Segmenting Designations into different levels"
   ]
  },
  {
   "cell_type": "code",
   "execution_count": 26,
   "id": "2a82d90b",
   "metadata": {},
   "outputs": [],
   "source": [
    "df.loc[df['Designations'] == 0, 'Designation'] = 'Level 0' \n",
    "df.loc[df['Designations'] == 1, 'Designation'] = 'Level 1'\n",
    "df.loc[df['Designations'] == 2, 'Designation'] = 'Level 2' \n",
    "df.loc[df['Designations'] == 3, 'Designation'] = 'Level 3'\n",
    "df.loc[df['Designations'] == 4, 'Designation'] = 'Level 3'"
   ]
  },
  {
   "cell_type": "code",
   "execution_count": 116,
   "id": "a0d49e0e",
   "metadata": {},
   "outputs": [
    {
     "data": {
      "text/html": [
       "<div>\n",
       "<style scoped>\n",
       "    .dataframe tbody tr th:only-of-type {\n",
       "        vertical-align: middle;\n",
       "    }\n",
       "\n",
       "    .dataframe tbody tr th {\n",
       "        vertical-align: top;\n",
       "    }\n",
       "\n",
       "    .dataframe thead th {\n",
       "        text-align: right;\n",
       "    }\n",
       "</style>\n",
       "<table border=\"1\" class=\"dataframe\">\n",
       "  <thead>\n",
       "    <tr style=\"text-align: right;\">\n",
       "      <th></th>\n",
       "      <th>Joining Date</th>\n",
       "      <th>Gender</th>\n",
       "      <th>Industry</th>\n",
       "      <th>WFH Available</th>\n",
       "      <th>Designations</th>\n",
       "      <th>Resource Allocation</th>\n",
       "      <th>Mental Fatigue Score</th>\n",
       "      <th>Burn Rate</th>\n",
       "      <th>year</th>\n",
       "      <th>month</th>\n",
       "      <th>Designation</th>\n",
       "      <th>Burn Rate Segment</th>\n",
       "      <th>Days_in_Company</th>\n",
       "    </tr>\n",
       "  </thead>\n",
       "  <tbody>\n",
       "    <tr>\n",
       "      <th>0</th>\n",
       "      <td>2008-09-30</td>\n",
       "      <td>Female</td>\n",
       "      <td>Service</td>\n",
       "      <td>No</td>\n",
       "      <td>2</td>\n",
       "      <td>3.000000</td>\n",
       "      <td>3.800000</td>\n",
       "      <td>16</td>\n",
       "      <td>2008</td>\n",
       "      <td>September</td>\n",
       "      <td>Level 2</td>\n",
       "      <td>Low Burn Rate</td>\n",
       "      <td>4967</td>\n",
       "    </tr>\n",
       "    <tr>\n",
       "      <th>1</th>\n",
       "      <td>2008-11-30</td>\n",
       "      <td>Male</td>\n",
       "      <td>Service</td>\n",
       "      <td>Yes</td>\n",
       "      <td>1</td>\n",
       "      <td>2.000000</td>\n",
       "      <td>5.000000</td>\n",
       "      <td>36</td>\n",
       "      <td>2008</td>\n",
       "      <td>November</td>\n",
       "      <td>Level 1</td>\n",
       "      <td>Medium Burn Rate</td>\n",
       "      <td>4906</td>\n",
       "    </tr>\n",
       "    <tr>\n",
       "      <th>2</th>\n",
       "      <td>2008-03-10</td>\n",
       "      <td>Female</td>\n",
       "      <td>Product</td>\n",
       "      <td>Yes</td>\n",
       "      <td>2</td>\n",
       "      <td>4.483831</td>\n",
       "      <td>5.800000</td>\n",
       "      <td>49</td>\n",
       "      <td>2008</td>\n",
       "      <td>March</td>\n",
       "      <td>Level 2</td>\n",
       "      <td>Medium Burn Rate</td>\n",
       "      <td>5171</td>\n",
       "    </tr>\n",
       "    <tr>\n",
       "      <th>3</th>\n",
       "      <td>2008-11-03</td>\n",
       "      <td>Male</td>\n",
       "      <td>Service</td>\n",
       "      <td>Yes</td>\n",
       "      <td>1</td>\n",
       "      <td>1.000000</td>\n",
       "      <td>2.600000</td>\n",
       "      <td>20</td>\n",
       "      <td>2008</td>\n",
       "      <td>November</td>\n",
       "      <td>Level 1</td>\n",
       "      <td>Low Burn Rate</td>\n",
       "      <td>4933</td>\n",
       "    </tr>\n",
       "    <tr>\n",
       "      <th>4</th>\n",
       "      <td>2008-07-24</td>\n",
       "      <td>Female</td>\n",
       "      <td>Service</td>\n",
       "      <td>No</td>\n",
       "      <td>3</td>\n",
       "      <td>7.000000</td>\n",
       "      <td>6.900000</td>\n",
       "      <td>52</td>\n",
       "      <td>2008</td>\n",
       "      <td>July</td>\n",
       "      <td>Level 3</td>\n",
       "      <td>Medium Burn Rate</td>\n",
       "      <td>5035</td>\n",
       "    </tr>\n",
       "    <tr>\n",
       "      <th>...</th>\n",
       "      <td>...</td>\n",
       "      <td>...</td>\n",
       "      <td>...</td>\n",
       "      <td>...</td>\n",
       "      <td>...</td>\n",
       "      <td>...</td>\n",
       "      <td>...</td>\n",
       "      <td>...</td>\n",
       "      <td>...</td>\n",
       "      <td>...</td>\n",
       "      <td>...</td>\n",
       "      <td>...</td>\n",
       "      <td>...</td>\n",
       "    </tr>\n",
       "    <tr>\n",
       "      <th>22745</th>\n",
       "      <td>2008-12-30</td>\n",
       "      <td>Female</td>\n",
       "      <td>Service</td>\n",
       "      <td>No</td>\n",
       "      <td>3</td>\n",
       "      <td>3.000000</td>\n",
       "      <td>5.729851</td>\n",
       "      <td>41</td>\n",
       "      <td>2008</td>\n",
       "      <td>December</td>\n",
       "      <td>Level 3</td>\n",
       "      <td>Medium Burn Rate</td>\n",
       "      <td>4876</td>\n",
       "    </tr>\n",
       "    <tr>\n",
       "      <th>22746</th>\n",
       "      <td>2008-01-19</td>\n",
       "      <td>Female</td>\n",
       "      <td>Product</td>\n",
       "      <td>Yes</td>\n",
       "      <td>3</td>\n",
       "      <td>6.000000</td>\n",
       "      <td>6.700000</td>\n",
       "      <td>59</td>\n",
       "      <td>2008</td>\n",
       "      <td>January</td>\n",
       "      <td>Level 3</td>\n",
       "      <td>Medium Burn Rate</td>\n",
       "      <td>5222</td>\n",
       "    </tr>\n",
       "    <tr>\n",
       "      <th>22747</th>\n",
       "      <td>2008-11-05</td>\n",
       "      <td>Male</td>\n",
       "      <td>Service</td>\n",
       "      <td>Yes</td>\n",
       "      <td>3</td>\n",
       "      <td>7.000000</td>\n",
       "      <td>5.729851</td>\n",
       "      <td>72</td>\n",
       "      <td>2008</td>\n",
       "      <td>November</td>\n",
       "      <td>Level 3</td>\n",
       "      <td>High Burn Rate</td>\n",
       "      <td>4931</td>\n",
       "    </tr>\n",
       "    <tr>\n",
       "      <th>22748</th>\n",
       "      <td>2008-01-10</td>\n",
       "      <td>Female</td>\n",
       "      <td>Service</td>\n",
       "      <td>No</td>\n",
       "      <td>3</td>\n",
       "      <td>5.000000</td>\n",
       "      <td>5.900000</td>\n",
       "      <td>52</td>\n",
       "      <td>2008</td>\n",
       "      <td>January</td>\n",
       "      <td>Level 3</td>\n",
       "      <td>Medium Burn Rate</td>\n",
       "      <td>5231</td>\n",
       "    </tr>\n",
       "    <tr>\n",
       "      <th>22749</th>\n",
       "      <td>2008-01-06</td>\n",
       "      <td>Male</td>\n",
       "      <td>Product</td>\n",
       "      <td>No</td>\n",
       "      <td>3</td>\n",
       "      <td>6.000000</td>\n",
       "      <td>7.800000</td>\n",
       "      <td>61</td>\n",
       "      <td>2008</td>\n",
       "      <td>January</td>\n",
       "      <td>Level 3</td>\n",
       "      <td>High Burn Rate</td>\n",
       "      <td>5235</td>\n",
       "    </tr>\n",
       "  </tbody>\n",
       "</table>\n",
       "<p>21606 rows × 13 columns</p>\n",
       "</div>"
      ],
      "text/plain": [
       "      Joining Date  Gender Industry WFH Available  Designations  \\\n",
       "0       2008-09-30  Female  Service            No             2   \n",
       "1       2008-11-30    Male  Service           Yes             1   \n",
       "2       2008-03-10  Female  Product           Yes             2   \n",
       "3       2008-11-03    Male  Service           Yes             1   \n",
       "4       2008-07-24  Female  Service            No             3   \n",
       "...            ...     ...      ...           ...           ...   \n",
       "22745   2008-12-30  Female  Service            No             3   \n",
       "22746   2008-01-19  Female  Product           Yes             3   \n",
       "22747   2008-11-05    Male  Service           Yes             3   \n",
       "22748   2008-01-10  Female  Service            No             3   \n",
       "22749   2008-01-06    Male  Product            No             3   \n",
       "\n",
       "       Resource Allocation  Mental Fatigue Score  Burn Rate  year      month  \\\n",
       "0                 3.000000              3.800000         16  2008  September   \n",
       "1                 2.000000              5.000000         36  2008   November   \n",
       "2                 4.483831              5.800000         49  2008      March   \n",
       "3                 1.000000              2.600000         20  2008   November   \n",
       "4                 7.000000              6.900000         52  2008       July   \n",
       "...                    ...                   ...        ...   ...        ...   \n",
       "22745             3.000000              5.729851         41  2008   December   \n",
       "22746             6.000000              6.700000         59  2008    January   \n",
       "22747             7.000000              5.729851         72  2008   November   \n",
       "22748             5.000000              5.900000         52  2008    January   \n",
       "22749             6.000000              7.800000         61  2008    January   \n",
       "\n",
       "      Designation Burn Rate Segment  Days_in_Company  \n",
       "0         Level 2     Low Burn Rate             4967  \n",
       "1         Level 1  Medium Burn Rate             4906  \n",
       "2         Level 2  Medium Burn Rate             5171  \n",
       "3         Level 1     Low Burn Rate             4933  \n",
       "4         Level 3  Medium Burn Rate             5035  \n",
       "...           ...               ...              ...  \n",
       "22745     Level 3  Medium Burn Rate             4876  \n",
       "22746     Level 3  Medium Burn Rate             5222  \n",
       "22747     Level 3    High Burn Rate             4931  \n",
       "22748     Level 3  Medium Burn Rate             5231  \n",
       "22749     Level 3    High Burn Rate             5235  \n",
       "\n",
       "[21606 rows x 13 columns]"
      ]
     },
     "execution_count": 116,
     "metadata": {},
     "output_type": "execute_result"
    }
   ],
   "source": [
    "df"
   ]
  },
  {
   "cell_type": "markdown",
   "id": "c51da2f7",
   "metadata": {},
   "source": [
    "# Segmenting Burn Rate to different segments for helping to analyze the data "
   ]
  },
  {
   "cell_type": "code",
   "execution_count": 27,
   "id": "f53303bb",
   "metadata": {},
   "outputs": [
    {
     "data": {
      "text/html": [
       "<div>\n",
       "<style scoped>\n",
       "    .dataframe tbody tr th:only-of-type {\n",
       "        vertical-align: middle;\n",
       "    }\n",
       "\n",
       "    .dataframe tbody tr th {\n",
       "        vertical-align: top;\n",
       "    }\n",
       "\n",
       "    .dataframe thead th {\n",
       "        text-align: right;\n",
       "    }\n",
       "</style>\n",
       "<table border=\"1\" class=\"dataframe\">\n",
       "  <thead>\n",
       "    <tr style=\"text-align: right;\">\n",
       "      <th></th>\n",
       "      <th>Joining Date</th>\n",
       "      <th>Gender</th>\n",
       "      <th>Industry</th>\n",
       "      <th>WFH Available</th>\n",
       "      <th>Designations</th>\n",
       "      <th>Resource Allocation</th>\n",
       "      <th>Mental Fatigue Score</th>\n",
       "      <th>Burn Rate</th>\n",
       "      <th>year</th>\n",
       "      <th>month</th>\n",
       "      <th>day</th>\n",
       "      <th>Designation</th>\n",
       "      <th>Burn Rate Segment</th>\n",
       "    </tr>\n",
       "  </thead>\n",
       "  <tbody>\n",
       "    <tr>\n",
       "      <th>0</th>\n",
       "      <td>9/30/2008</td>\n",
       "      <td>Female</td>\n",
       "      <td>Service</td>\n",
       "      <td>No</td>\n",
       "      <td>2</td>\n",
       "      <td>3.000000</td>\n",
       "      <td>3.8</td>\n",
       "      <td>16</td>\n",
       "      <td>2008</td>\n",
       "      <td>September</td>\n",
       "      <td>30</td>\n",
       "      <td>Level 2</td>\n",
       "      <td>Low Burn Rate</td>\n",
       "    </tr>\n",
       "    <tr>\n",
       "      <th>1</th>\n",
       "      <td>11/30/2008</td>\n",
       "      <td>Male</td>\n",
       "      <td>Service</td>\n",
       "      <td>Yes</td>\n",
       "      <td>1</td>\n",
       "      <td>2.000000</td>\n",
       "      <td>5.0</td>\n",
       "      <td>36</td>\n",
       "      <td>2008</td>\n",
       "      <td>November</td>\n",
       "      <td>30</td>\n",
       "      <td>Level 1</td>\n",
       "      <td>Medium Burn Rate</td>\n",
       "    </tr>\n",
       "    <tr>\n",
       "      <th>2</th>\n",
       "      <td>3/10/2008</td>\n",
       "      <td>Female</td>\n",
       "      <td>Product</td>\n",
       "      <td>Yes</td>\n",
       "      <td>2</td>\n",
       "      <td>4.483831</td>\n",
       "      <td>5.8</td>\n",
       "      <td>49</td>\n",
       "      <td>2008</td>\n",
       "      <td>March</td>\n",
       "      <td>10</td>\n",
       "      <td>Level 2</td>\n",
       "      <td>Medium Burn Rate</td>\n",
       "    </tr>\n",
       "    <tr>\n",
       "      <th>3</th>\n",
       "      <td>11/3/2008</td>\n",
       "      <td>Male</td>\n",
       "      <td>Service</td>\n",
       "      <td>Yes</td>\n",
       "      <td>1</td>\n",
       "      <td>1.000000</td>\n",
       "      <td>2.6</td>\n",
       "      <td>20</td>\n",
       "      <td>2008</td>\n",
       "      <td>November</td>\n",
       "      <td>3</td>\n",
       "      <td>Level 1</td>\n",
       "      <td>Low Burn Rate</td>\n",
       "    </tr>\n",
       "    <tr>\n",
       "      <th>4</th>\n",
       "      <td>7/24/2008</td>\n",
       "      <td>Female</td>\n",
       "      <td>Service</td>\n",
       "      <td>No</td>\n",
       "      <td>3</td>\n",
       "      <td>7.000000</td>\n",
       "      <td>6.9</td>\n",
       "      <td>52</td>\n",
       "      <td>2008</td>\n",
       "      <td>July</td>\n",
       "      <td>24</td>\n",
       "      <td>Level 3</td>\n",
       "      <td>Medium Burn Rate</td>\n",
       "    </tr>\n",
       "  </tbody>\n",
       "</table>\n",
       "</div>"
      ],
      "text/plain": [
       "  Joining Date  Gender Industry WFH Available  Designations  \\\n",
       "0    9/30/2008  Female  Service            No             2   \n",
       "1   11/30/2008    Male  Service           Yes             1   \n",
       "2    3/10/2008  Female  Product           Yes             2   \n",
       "3    11/3/2008    Male  Service           Yes             1   \n",
       "4    7/24/2008  Female  Service            No             3   \n",
       "\n",
       "   Resource Allocation  Mental Fatigue Score  Burn Rate  year      month  day  \\\n",
       "0             3.000000                   3.8         16  2008  September   30   \n",
       "1             2.000000                   5.0         36  2008   November   30   \n",
       "2             4.483831                   5.8         49  2008      March   10   \n",
       "3             1.000000                   2.6         20  2008   November    3   \n",
       "4             7.000000                   6.9         52  2008       July   24   \n",
       "\n",
       "  Designation Burn Rate Segment  \n",
       "0     Level 2     Low Burn Rate  \n",
       "1     Level 1  Medium Burn Rate  \n",
       "2     Level 2  Medium Burn Rate  \n",
       "3     Level 1     Low Burn Rate  \n",
       "4     Level 3  Medium Burn Rate  "
      ]
     },
     "execution_count": 27,
     "metadata": {},
     "output_type": "execute_result"
    }
   ],
   "source": [
    "conditions = [\n",
    "    (df['Burn Rate'] < 30),\n",
    "    (df['Burn Rate'] >= 30) & (df['Burn Rate'] <= 60),\n",
    "    (df['Burn Rate'] > 60)\n",
    "    ]\n",
    "\n",
    "# create a list of the values we want to assign for each condition\n",
    "values = ['Low Burn Rate', 'Medium Burn Rate', 'High Burn Rate']\n",
    "\n",
    "# create a new column and use np.select to assign values to it using our lists as arguments\n",
    "df['Burn Rate Segment'] = np.select(conditions, values)\n",
    "\n",
    "# display updated DataFrame\n",
    "df.head()"
   ]
  },
  {
   "cell_type": "markdown",
   "id": "301b660f",
   "metadata": {},
   "source": [
    "# Finding correlation of Numerical variables using heatmap"
   ]
  },
  {
   "cell_type": "code",
   "execution_count": 38,
   "id": "532582a2",
   "metadata": {},
   "outputs": [],
   "source": [
    "df=df.drop([\"day\"],axis=1)"
   ]
  },
  {
   "cell_type": "code",
   "execution_count": 225,
   "id": "ba3741e3",
   "metadata": {},
   "outputs": [
    {
     "data": {
      "image/png": "[encoded data removed]",
      "text/plain": [
       "<Figure size 1152x432 with 2 Axes>"
      ]
     },
     "metadata": {
      "needs_background": "light"
     },
     "output_type": "display_data"
    }
   ],
   "source": [
    "plt.figure(figsize=(16, 6))\n",
    "heatmap = sns.heatmap(df.corr(), vmin=-1, vmax=1, annot=True)\n",
    "heatmap.set_title('Correlation Heatmap', fontdict={'fontsize':15}, pad=12);\n",
    "plt.savefig(\"correlation_heatmap.png\")"
   ]
  },
  {
   "cell_type": "code",
   "execution_count": 40,
   "id": "3e5033b6",
   "metadata": {},
   "outputs": [
    {
     "data": {
      "text/html": [
       "<div>\n",
       "<style scoped>\n",
       "    .dataframe tbody tr th:only-of-type {\n",
       "        vertical-align: middle;\n",
       "    }\n",
       "\n",
       "    .dataframe tbody tr th {\n",
       "        vertical-align: top;\n",
       "    }\n",
       "\n",
       "    .dataframe thead th {\n",
       "        text-align: right;\n",
       "    }\n",
       "</style>\n",
       "<table border=\"1\" class=\"dataframe\">\n",
       "  <thead>\n",
       "    <tr style=\"text-align: right;\">\n",
       "      <th></th>\n",
       "      <th>skew</th>\n",
       "      <th>kurtosis</th>\n",
       "    </tr>\n",
       "  </thead>\n",
       "  <tbody>\n",
       "    <tr>\n",
       "      <th>Designations</th>\n",
       "      <td>-35.293234</td>\n",
       "      <td>1400.015449</td>\n",
       "    </tr>\n",
       "    <tr>\n",
       "      <th>Resource Allocation</th>\n",
       "      <td>0.208410</td>\n",
       "      <td>-0.328182</td>\n",
       "    </tr>\n",
       "    <tr>\n",
       "      <th>Mental Fatigue Score</th>\n",
       "      <td>-0.453119</td>\n",
       "      <td>0.478910</td>\n",
       "    </tr>\n",
       "    <tr>\n",
       "      <th>Burn Rate</th>\n",
       "      <td>0.050287</td>\n",
       "      <td>-0.256719</td>\n",
       "    </tr>\n",
       "    <tr>\n",
       "      <th>year</th>\n",
       "      <td>0.000000</td>\n",
       "      <td>0.000000</td>\n",
       "    </tr>\n",
       "  </tbody>\n",
       "</table>\n",
       "</div>"
      ],
      "text/plain": [
       "                           skew     kurtosis\n",
       "Designations         -35.293234  1400.015449\n",
       "Resource Allocation    0.208410    -0.328182\n",
       "Mental Fatigue Score  -0.453119     0.478910\n",
       "Burn Rate              0.050287    -0.256719\n",
       "year                   0.000000     0.000000"
      ]
     },
     "execution_count": 40,
     "metadata": {},
     "output_type": "execute_result"
    }
   ],
   "source": [
    " df.agg(['skew', 'kurtosis']).transpose()"
   ]
  },
  {
   "cell_type": "markdown",
   "id": "f8620cb6",
   "metadata": {},
   "source": [
    "# Calculating Number of Days employee has been in the Company"
   ]
  },
  {
   "cell_type": "code",
   "execution_count": 28,
   "id": "79edbc1b",
   "metadata": {},
   "outputs": [],
   "source": [
    "Date_Today = pd.to_datetime('today')\n",
    "\n",
    "df[\"Joining Date\"] = pd.to_datetime(df[\"Joining Date\"])"
   ]
  },
  {
   "cell_type": "code",
   "execution_count": 29,
   "id": "31fb8570",
   "metadata": {},
   "outputs": [],
   "source": [
    "Date_Today = pd.to_datetime('today')\n",
    "def No_Days_in_Company(data):\n",
    "    return (Date_Today - data[\"Joining Date\"])\n",
    "\n",
    "df[\"Days_in_Company\"] = df.apply(No_Days_in_Company, axis=1)\n",
    "df[\"Days_in_Company\"] = df[\"Days_in_Company\"].dt.days\n",
    "\n"
   ]
  },
  {
   "cell_type": "code",
   "execution_count": 253,
   "id": "e903f010",
   "metadata": {},
   "outputs": [
    {
     "data": {
      "text/html": [
       "<div>\n",
       "<style scoped>\n",
       "    .dataframe tbody tr th:only-of-type {\n",
       "        vertical-align: middle;\n",
       "    }\n",
       "\n",
       "    .dataframe tbody tr th {\n",
       "        vertical-align: top;\n",
       "    }\n",
       "\n",
       "    .dataframe thead th {\n",
       "        text-align: right;\n",
       "    }\n",
       "</style>\n",
       "<table border=\"1\" class=\"dataframe\">\n",
       "  <thead>\n",
       "    <tr style=\"text-align: right;\">\n",
       "      <th></th>\n",
       "      <th>Joining Date</th>\n",
       "      <th>Gender</th>\n",
       "      <th>Industry</th>\n",
       "      <th>WFH Available</th>\n",
       "      <th>Designations</th>\n",
       "      <th>Resource Allocation</th>\n",
       "      <th>Mental Fatigue Score</th>\n",
       "      <th>Burn Rate</th>\n",
       "      <th>year</th>\n",
       "      <th>month</th>\n",
       "      <th>day</th>\n",
       "      <th>Designation</th>\n",
       "      <th>Burn Rate Segment</th>\n",
       "      <th>Days_in_Company</th>\n",
       "    </tr>\n",
       "  </thead>\n",
       "  <tbody>\n",
       "    <tr>\n",
       "      <th>0</th>\n",
       "      <td>2008-09-30</td>\n",
       "      <td>Female</td>\n",
       "      <td>Service</td>\n",
       "      <td>No</td>\n",
       "      <td>2</td>\n",
       "      <td>3.000000</td>\n",
       "      <td>3.800000</td>\n",
       "      <td>16</td>\n",
       "      <td>2008</td>\n",
       "      <td>September</td>\n",
       "      <td>30</td>\n",
       "      <td>Level 2</td>\n",
       "      <td>Low Burn Rate</td>\n",
       "      <td>4968</td>\n",
       "    </tr>\n",
       "    <tr>\n",
       "      <th>1</th>\n",
       "      <td>2008-11-30</td>\n",
       "      <td>Male</td>\n",
       "      <td>Service</td>\n",
       "      <td>Yes</td>\n",
       "      <td>1</td>\n",
       "      <td>2.000000</td>\n",
       "      <td>5.000000</td>\n",
       "      <td>36</td>\n",
       "      <td>2008</td>\n",
       "      <td>November</td>\n",
       "      <td>30</td>\n",
       "      <td>Level 1</td>\n",
       "      <td>Medium Burn Rate</td>\n",
       "      <td>4907</td>\n",
       "    </tr>\n",
       "    <tr>\n",
       "      <th>2</th>\n",
       "      <td>2008-03-10</td>\n",
       "      <td>Female</td>\n",
       "      <td>Product</td>\n",
       "      <td>Yes</td>\n",
       "      <td>2</td>\n",
       "      <td>4.483831</td>\n",
       "      <td>5.800000</td>\n",
       "      <td>49</td>\n",
       "      <td>2008</td>\n",
       "      <td>March</td>\n",
       "      <td>10</td>\n",
       "      <td>Level 2</td>\n",
       "      <td>Medium Burn Rate</td>\n",
       "      <td>5172</td>\n",
       "    </tr>\n",
       "    <tr>\n",
       "      <th>3</th>\n",
       "      <td>2008-11-03</td>\n",
       "      <td>Male</td>\n",
       "      <td>Service</td>\n",
       "      <td>Yes</td>\n",
       "      <td>1</td>\n",
       "      <td>1.000000</td>\n",
       "      <td>2.600000</td>\n",
       "      <td>20</td>\n",
       "      <td>2008</td>\n",
       "      <td>November</td>\n",
       "      <td>3</td>\n",
       "      <td>Level 1</td>\n",
       "      <td>Low Burn Rate</td>\n",
       "      <td>4934</td>\n",
       "    </tr>\n",
       "    <tr>\n",
       "      <th>4</th>\n",
       "      <td>2008-07-24</td>\n",
       "      <td>Female</td>\n",
       "      <td>Service</td>\n",
       "      <td>No</td>\n",
       "      <td>3</td>\n",
       "      <td>7.000000</td>\n",
       "      <td>6.900000</td>\n",
       "      <td>52</td>\n",
       "      <td>2008</td>\n",
       "      <td>July</td>\n",
       "      <td>24</td>\n",
       "      <td>Level 3</td>\n",
       "      <td>Medium Burn Rate</td>\n",
       "      <td>5036</td>\n",
       "    </tr>\n",
       "    <tr>\n",
       "      <th>...</th>\n",
       "      <td>...</td>\n",
       "      <td>...</td>\n",
       "      <td>...</td>\n",
       "      <td>...</td>\n",
       "      <td>...</td>\n",
       "      <td>...</td>\n",
       "      <td>...</td>\n",
       "      <td>...</td>\n",
       "      <td>...</td>\n",
       "      <td>...</td>\n",
       "      <td>...</td>\n",
       "      <td>...</td>\n",
       "      <td>...</td>\n",
       "      <td>...</td>\n",
       "    </tr>\n",
       "    <tr>\n",
       "      <th>22745</th>\n",
       "      <td>2008-12-30</td>\n",
       "      <td>Female</td>\n",
       "      <td>Service</td>\n",
       "      <td>No</td>\n",
       "      <td>3</td>\n",
       "      <td>3.000000</td>\n",
       "      <td>5.729851</td>\n",
       "      <td>41</td>\n",
       "      <td>2008</td>\n",
       "      <td>December</td>\n",
       "      <td>30</td>\n",
       "      <td>Level 3</td>\n",
       "      <td>Medium Burn Rate</td>\n",
       "      <td>4877</td>\n",
       "    </tr>\n",
       "    <tr>\n",
       "      <th>22746</th>\n",
       "      <td>2008-01-19</td>\n",
       "      <td>Female</td>\n",
       "      <td>Product</td>\n",
       "      <td>Yes</td>\n",
       "      <td>3</td>\n",
       "      <td>6.000000</td>\n",
       "      <td>6.700000</td>\n",
       "      <td>59</td>\n",
       "      <td>2008</td>\n",
       "      <td>January</td>\n",
       "      <td>19</td>\n",
       "      <td>Level 3</td>\n",
       "      <td>Medium Burn Rate</td>\n",
       "      <td>5223</td>\n",
       "    </tr>\n",
       "    <tr>\n",
       "      <th>22747</th>\n",
       "      <td>2008-11-05</td>\n",
       "      <td>Male</td>\n",
       "      <td>Service</td>\n",
       "      <td>Yes</td>\n",
       "      <td>3</td>\n",
       "      <td>7.000000</td>\n",
       "      <td>5.729851</td>\n",
       "      <td>72</td>\n",
       "      <td>2008</td>\n",
       "      <td>November</td>\n",
       "      <td>5</td>\n",
       "      <td>Level 3</td>\n",
       "      <td>High Burn Rate</td>\n",
       "      <td>4932</td>\n",
       "    </tr>\n",
       "    <tr>\n",
       "      <th>22748</th>\n",
       "      <td>2008-01-10</td>\n",
       "      <td>Female</td>\n",
       "      <td>Service</td>\n",
       "      <td>No</td>\n",
       "      <td>3</td>\n",
       "      <td>5.000000</td>\n",
       "      <td>5.900000</td>\n",
       "      <td>52</td>\n",
       "      <td>2008</td>\n",
       "      <td>January</td>\n",
       "      <td>10</td>\n",
       "      <td>Level 3</td>\n",
       "      <td>Medium Burn Rate</td>\n",
       "      <td>5232</td>\n",
       "    </tr>\n",
       "    <tr>\n",
       "      <th>22749</th>\n",
       "      <td>2008-01-06</td>\n",
       "      <td>Male</td>\n",
       "      <td>Product</td>\n",
       "      <td>No</td>\n",
       "      <td>3</td>\n",
       "      <td>6.000000</td>\n",
       "      <td>7.800000</td>\n",
       "      <td>61</td>\n",
       "      <td>2008</td>\n",
       "      <td>January</td>\n",
       "      <td>6</td>\n",
       "      <td>Level 3</td>\n",
       "      <td>High Burn Rate</td>\n",
       "      <td>5236</td>\n",
       "    </tr>\n",
       "  </tbody>\n",
       "</table>\n",
       "<p>21606 rows × 14 columns</p>\n",
       "</div>"
      ],
      "text/plain": [
       "      Joining Date  Gender Industry WFH Available  Designations  \\\n",
       "0       2008-09-30  Female  Service            No             2   \n",
       "1       2008-11-30    Male  Service           Yes             1   \n",
       "2       2008-03-10  Female  Product           Yes             2   \n",
       "3       2008-11-03    Male  Service           Yes             1   \n",
       "4       2008-07-24  Female  Service            No             3   \n",
       "...            ...     ...      ...           ...           ...   \n",
       "22745   2008-12-30  Female  Service            No             3   \n",
       "22746   2008-01-19  Female  Product           Yes             3   \n",
       "22747   2008-11-05    Male  Service           Yes             3   \n",
       "22748   2008-01-10  Female  Service            No             3   \n",
       "22749   2008-01-06    Male  Product            No             3   \n",
       "\n",
       "       Resource Allocation  Mental Fatigue Score  Burn Rate  year      month  \\\n",
       "0                 3.000000              3.800000         16  2008  September   \n",
       "1                 2.000000              5.000000         36  2008   November   \n",
       "2                 4.483831              5.800000         49  2008      March   \n",
       "3                 1.000000              2.600000         20  2008   November   \n",
       "4                 7.000000              6.900000         52  2008       July   \n",
       "...                    ...                   ...        ...   ...        ...   \n",
       "22745             3.000000              5.729851         41  2008   December   \n",
       "22746             6.000000              6.700000         59  2008    January   \n",
       "22747             7.000000              5.729851         72  2008   November   \n",
       "22748             5.000000              5.900000         52  2008    January   \n",
       "22749             6.000000              7.800000         61  2008    January   \n",
       "\n",
       "       day Designation Burn Rate Segment  Days_in_Company  \n",
       "0       30     Level 2     Low Burn Rate             4968  \n",
       "1       30     Level 1  Medium Burn Rate             4907  \n",
       "2       10     Level 2  Medium Burn Rate             5172  \n",
       "3        3     Level 1     Low Burn Rate             4934  \n",
       "4       24     Level 3  Medium Burn Rate             5036  \n",
       "...    ...         ...               ...              ...  \n",
       "22745   30     Level 3  Medium Burn Rate             4877  \n",
       "22746   19     Level 3  Medium Burn Rate             5223  \n",
       "22747    5     Level 3    High Burn Rate             4932  \n",
       "22748   10     Level 3  Medium Burn Rate             5232  \n",
       "22749    6     Level 3    High Burn Rate             5236  \n",
       "\n",
       "[21606 rows x 14 columns]"
      ]
     },
     "execution_count": 253,
     "metadata": {},
     "output_type": "execute_result"
    }
   ],
   "source": [
    "df"
   ]
  },
  {
   "cell_type": "code",
   "execution_count": 44,
   "id": "c17d8b0d",
   "metadata": {},
   "outputs": [
    {
     "data": {
      "text/html": [
       "<div>\n",
       "<style scoped>\n",
       "    .dataframe tbody tr th:only-of-type {\n",
       "        vertical-align: middle;\n",
       "    }\n",
       "\n",
       "    .dataframe tbody tr th {\n",
       "        vertical-align: top;\n",
       "    }\n",
       "\n",
       "    .dataframe thead th {\n",
       "        text-align: right;\n",
       "    }\n",
       "</style>\n",
       "<table border=\"1\" class=\"dataframe\">\n",
       "  <thead>\n",
       "    <tr style=\"text-align: right;\">\n",
       "      <th></th>\n",
       "      <th>Designations</th>\n",
       "      <th>Resource Allocation</th>\n",
       "      <th>Mental Fatigue Score</th>\n",
       "      <th>Burn Rate</th>\n",
       "      <th>year</th>\n",
       "      <th>Days_in_Company</th>\n",
       "    </tr>\n",
       "  </thead>\n",
       "  <tbody>\n",
       "    <tr>\n",
       "      <th>count</th>\n",
       "      <td>21606.000000</td>\n",
       "      <td>21606.000000</td>\n",
       "      <td>21606.000000</td>\n",
       "      <td>21606.000000</td>\n",
       "      <td>21606.0</td>\n",
       "      <td>21606.000000</td>\n",
       "    </tr>\n",
       "    <tr>\n",
       "      <th>mean</th>\n",
       "      <td>2.998149</td>\n",
       "      <td>4.483816</td>\n",
       "      <td>5.730170</td>\n",
       "      <td>45.151301</td>\n",
       "      <td>2008.0</td>\n",
       "      <td>5057.618578</td>\n",
       "    </tr>\n",
       "    <tr>\n",
       "      <th>std</th>\n",
       "      <td>0.060823</td>\n",
       "      <td>1.987099</td>\n",
       "      <td>1.832461</td>\n",
       "      <td>19.816663</td>\n",
       "      <td>0.0</td>\n",
       "      <td>105.393124</td>\n",
       "    </tr>\n",
       "    <tr>\n",
       "      <th>min</th>\n",
       "      <td>0.000000</td>\n",
       "      <td>1.000000</td>\n",
       "      <td>0.000000</td>\n",
       "      <td>0.000000</td>\n",
       "      <td>2008.0</td>\n",
       "      <td>4875.000000</td>\n",
       "    </tr>\n",
       "    <tr>\n",
       "      <th>25%</th>\n",
       "      <td>3.000000</td>\n",
       "      <td>3.000000</td>\n",
       "      <td>4.700000</td>\n",
       "      <td>31.000000</td>\n",
       "      <td>2008.0</td>\n",
       "      <td>4967.000000</td>\n",
       "    </tr>\n",
       "    <tr>\n",
       "      <th>50%</th>\n",
       "      <td>3.000000</td>\n",
       "      <td>4.483831</td>\n",
       "      <td>5.729851</td>\n",
       "      <td>45.000000</td>\n",
       "      <td>2008.0</td>\n",
       "      <td>5057.000000</td>\n",
       "    </tr>\n",
       "    <tr>\n",
       "      <th>75%</th>\n",
       "      <td>3.000000</td>\n",
       "      <td>6.000000</td>\n",
       "      <td>6.900000</td>\n",
       "      <td>59.000000</td>\n",
       "      <td>2008.0</td>\n",
       "      <td>5150.000000</td>\n",
       "    </tr>\n",
       "    <tr>\n",
       "      <th>max</th>\n",
       "      <td>4.000000</td>\n",
       "      <td>10.000000</td>\n",
       "      <td>10.000000</td>\n",
       "      <td>100.000000</td>\n",
       "      <td>2008.0</td>\n",
       "      <td>5240.000000</td>\n",
       "    </tr>\n",
       "  </tbody>\n",
       "</table>\n",
       "</div>"
      ],
      "text/plain": [
       "       Designations  Resource Allocation  Mental Fatigue Score     Burn Rate  \\\n",
       "count  21606.000000         21606.000000          21606.000000  21606.000000   \n",
       "mean       2.998149             4.483816              5.730170     45.151301   \n",
       "std        0.060823             1.987099              1.832461     19.816663   \n",
       "min        0.000000             1.000000              0.000000      0.000000   \n",
       "25%        3.000000             3.000000              4.700000     31.000000   \n",
       "50%        3.000000             4.483831              5.729851     45.000000   \n",
       "75%        3.000000             6.000000              6.900000     59.000000   \n",
       "max        4.000000            10.000000             10.000000    100.000000   \n",
       "\n",
       "          year  Days_in_Company  \n",
       "count  21606.0     21606.000000  \n",
       "mean    2008.0      5057.618578  \n",
       "std        0.0       105.393124  \n",
       "min     2008.0      4875.000000  \n",
       "25%     2008.0      4967.000000  \n",
       "50%     2008.0      5057.000000  \n",
       "75%     2008.0      5150.000000  \n",
       "max     2008.0      5240.000000  "
      ]
     },
     "execution_count": 44,
     "metadata": {},
     "output_type": "execute_result"
    }
   ],
   "source": [
    "df.describe()"
   ]
  },
  {
   "cell_type": "code",
   "execution_count": 45,
   "id": "388eac54",
   "metadata": {},
   "outputs": [
    {
     "data": {
      "text/plain": [
       "Index(['Joining Date', 'Gender', 'Industry', 'WFH Available', 'Designations',\n",
       "       'Resource Allocation', 'Mental Fatigue Score', 'Burn Rate', 'year',\n",
       "       'month', 'Designation', 'Burn Rate Segment', 'Days_in_Company'],\n",
       "      dtype='object')"
      ]
     },
     "execution_count": 45,
     "metadata": {},
     "output_type": "execute_result"
    }
   ],
   "source": [
    "df.columns"
   ]
  },
  {
   "cell_type": "markdown",
   "id": "5274f460",
   "metadata": {},
   "source": [
    "# Univariate Analysis"
   ]
  },
  {
   "cell_type": "markdown",
   "id": "d0459356",
   "metadata": {},
   "source": [
    "# What is the distribution of Gender in data set?"
   ]
  },
  {
   "cell_type": "code",
   "execution_count": 46,
   "id": "e89e9538",
   "metadata": {},
   "outputs": [
    {
     "data": {
      "text/plain": [
       "Female    11334\n",
       "Male      10272\n",
       "Name: Gender, dtype: int64"
      ]
     },
     "execution_count": 46,
     "metadata": {},
     "output_type": "execute_result"
    }
   ],
   "source": [
    " \n",
    " df[\"Gender\"].value_counts() \n"
   ]
  },
  {
   "cell_type": "code",
   "execution_count": 47,
   "id": "9329d576",
   "metadata": {
    "scrolled": true
   },
   "outputs": [
    {
     "data": {
      "image/png": "[encoded data removed]",
      "text/plain": [
       "<Figure size 576x576 with 1 Axes>"
      ]
     },
     "metadata": {},
     "output_type": "display_data"
    }
   ],
   "source": [
    "#Pie chart\n",
    "plt.figure(figsize=(8,8))\n",
    "plt.pie(x=df['Gender'].value_counts(),labels=df['Gender'].value_counts().index, autopct='%0.2f%%')\n",
    "plt.title(\"Distribution of Gender\")\n",
    "plt.show()\n",
    "\n"
   ]
  },
  {
   "cell_type": "markdown",
   "id": "cbd49962",
   "metadata": {},
   "source": [
    "# What are the different types of industry in our dataset?"
   ]
  },
  {
   "cell_type": "code",
   "execution_count": 48,
   "id": "e4ad20cc",
   "metadata": {},
   "outputs": [
    {
     "data": {
      "text/plain": [
       "Service    14109\n",
       "Product     7497\n",
       "Name: Industry, dtype: int64"
      ]
     },
     "execution_count": 48,
     "metadata": {},
     "output_type": "execute_result"
    }
   ],
   "source": [
    " df[\"Industry\"].value_counts() "
   ]
  },
  {
   "cell_type": "code",
   "execution_count": 49,
   "id": "5e155e95",
   "metadata": {},
   "outputs": [
    {
     "data": {
      "text/plain": [
       "<AxesSubplot:xlabel='Industry', ylabel='count'>"
      ]
     },
     "execution_count": 49,
     "metadata": {},
     "output_type": "execute_result"
    },
    {
     "data": {
      "image/png": "[encoded data removed]",
      "text/plain": [
       "<Figure size 432x288 with 1 Axes>"
      ]
     },
     "metadata": {
      "needs_background": "light"
     },
     "output_type": "display_data"
    }
   ],
   "source": [
    "sns.countplot(df['Industry'])"
   ]
  },
  {
   "cell_type": "markdown",
   "id": "8d488a0f",
   "metadata": {},
   "source": [
    "# Availability of work from home for workers "
   ]
  },
  {
   "cell_type": "code",
   "execution_count": 50,
   "id": "fea6a3b0",
   "metadata": {},
   "outputs": [
    {
     "data": {
      "text/plain": [
       "Yes    11678\n",
       "No      9928\n",
       "Name: WFH Available, dtype: int64"
      ]
     },
     "execution_count": 50,
     "metadata": {},
     "output_type": "execute_result"
    }
   ],
   "source": [
    " df[\"WFH Available\"].value_counts() "
   ]
  },
  {
   "cell_type": "code",
   "execution_count": 51,
   "id": "4686f4b4",
   "metadata": {},
   "outputs": [
    {
     "data": {
      "text/plain": [
       "<AxesSubplot:xlabel='WFH Available', ylabel='count'>"
      ]
     },
     "execution_count": 51,
     "metadata": {},
     "output_type": "execute_result"
    },
    {
     "data": {
      "image/png": "[encoded data removed]",
      "text/plain": [
       "<Figure size 432x288 with 1 Axes>"
      ]
     },
     "metadata": {
      "needs_background": "light"
     },
     "output_type": "display_data"
    }
   ],
   "source": [
    "sns.countplot(df['WFH Available'])"
   ]
  },
  {
   "cell_type": "markdown",
   "id": "dee21001",
   "metadata": {},
   "source": [
    "# What are the different types of designation working in the industry?"
   ]
  },
  {
   "cell_type": "code",
   "execution_count": 52,
   "id": "b7f64b8d",
   "metadata": {},
   "outputs": [
    {
     "data": {
      "text/plain": [
       "Level 3    21580\n",
       "Level 2       12\n",
       "Level 1       10\n",
       "Level 0        3\n",
       "Level 4        1\n",
       "Name: Designation, dtype: int64"
      ]
     },
     "execution_count": 52,
     "metadata": {},
     "output_type": "execute_result"
    }
   ],
   "source": [
    " df[\"Designation\"].value_counts() "
   ]
  },
  {
   "cell_type": "code",
   "execution_count": 53,
   "id": "f684d583",
   "metadata": {
    "scrolled": true
   },
   "outputs": [
    {
     "data": {
      "text/plain": [
       "<AxesSubplot:xlabel='Designation', ylabel='count'>"
      ]
     },
     "execution_count": 53,
     "metadata": {},
     "output_type": "execute_result"
    },
    {
     "data": {
      "image/png": "[encoded data removed]",
      "text/plain": [
       "<Figure size 432x288 with 1 Axes>"
      ]
     },
     "metadata": {
      "needs_background": "light"
     },
     "output_type": "display_data"
    }
   ],
   "source": [
    "sns.countplot(df['Designation'])\n"
   ]
  },
  {
   "cell_type": "markdown",
   "id": "8f37231c",
   "metadata": {},
   "source": [
    "# Univariate analysis of numerical variables"
   ]
  },
  {
   "cell_type": "markdown",
   "id": "20a85d34",
   "metadata": {},
   "source": [
    "# what is the distribution of resource allocation to employees?"
   ]
  },
  {
   "cell_type": "code",
   "execution_count": 54,
   "id": "b6f72651",
   "metadata": {},
   "outputs": [
    {
     "data": {
      "text/plain": [
       "count    21606.000000\n",
       "mean         4.483816\n",
       "std          1.987099\n",
       "min          1.000000\n",
       "25%          3.000000\n",
       "50%          4.483831\n",
       "75%          6.000000\n",
       "max         10.000000\n",
       "Name: Resource Allocation, dtype: float64"
      ]
     },
     "execution_count": 54,
     "metadata": {},
     "output_type": "execute_result"
    }
   ],
   "source": [
    "df[\"Resource Allocation\"].describe()"
   ]
  },
  {
   "cell_type": "code",
   "execution_count": 55,
   "id": "1d04dce3",
   "metadata": {},
   "outputs": [
    {
     "data": {
      "text/plain": [
       "<AxesSubplot:ylabel='Resource Allocation'>"
      ]
     },
     "execution_count": 55,
     "metadata": {},
     "output_type": "execute_result"
    },
    {
     "data": {
      "image/png": "[encoded data removed]",
      "text/plain": [
       "<Figure size 432x288 with 1 Axes>"
      ]
     },
     "metadata": {
      "needs_background": "light"
     },
     "output_type": "display_data"
    }
   ],
   "source": [
    "sns.boxplot( y=df['Resource Allocation'] )"
   ]
  },
  {
   "cell_type": "markdown",
   "id": "8e173897",
   "metadata": {},
   "source": [
    "# How is mental fatigue score of each employee distributed in the dataset?"
   ]
  },
  {
   "cell_type": "code",
   "execution_count": 56,
   "id": "42a39bd2",
   "metadata": {
    "scrolled": true
   },
   "outputs": [
    {
     "data": {
      "text/plain": [
       "[Text(0.5, 1.0, 'Mental Fatique Score of Each Employee')]"
      ]
     },
     "execution_count": 56,
     "metadata": {},
     "output_type": "execute_result"
    },
    {
     "data": {
      "image/png": "[encoded data removed]",
      "text/plain": [
       "<Figure size 432x288 with 1 Axes>"
      ]
     },
     "metadata": {
      "needs_background": "light"
     },
     "output_type": "display_data"
    }
   ],
   "source": [
    "sns.histplot(data=df, x='Mental Fatigue Score').set(title='Mental Fatique Score of Each Employee')"
   ]
  },
  {
   "cell_type": "markdown",
   "id": "c107d252",
   "metadata": {},
   "source": [
    "# what is the distribution of burn rate to employees?"
   ]
  },
  {
   "cell_type": "code",
   "execution_count": 57,
   "id": "ad0e4b14",
   "metadata": {},
   "outputs": [
    {
     "data": {
      "text/plain": [
       "count    21606.000000\n",
       "mean        45.151301\n",
       "std         19.816663\n",
       "min          0.000000\n",
       "25%         31.000000\n",
       "50%         45.000000\n",
       "75%         59.000000\n",
       "max        100.000000\n",
       "Name: Burn Rate, dtype: float64"
      ]
     },
     "execution_count": 57,
     "metadata": {},
     "output_type": "execute_result"
    }
   ],
   "source": [
    "df[\"Burn Rate\"].describe()"
   ]
  },
  {
   "cell_type": "code",
   "execution_count": 58,
   "id": "1e09dbe8",
   "metadata": {},
   "outputs": [
    {
     "data": {
      "text/plain": [
       "<AxesSubplot:ylabel='Burn Rate'>"
      ]
     },
     "execution_count": 58,
     "metadata": {},
     "output_type": "execute_result"
    },
    {
     "data": {
      "image/png": "[encoded data removed]",
      "text/plain": [
       "<Figure size 432x288 with 1 Axes>"
      ]
     },
     "metadata": {
      "needs_background": "light"
     },
     "output_type": "display_data"
    }
   ],
   "source": [
    "sns.boxplot( y=df['Burn Rate'] )"
   ]
  },
  {
   "cell_type": "code",
   "execution_count": 59,
   "id": "352eca0d",
   "metadata": {},
   "outputs": [
    {
     "data": {
      "text/plain": [
       "[Text(0.5, 1.0, 'Burn Rate Distribution of Employees')]"
      ]
     },
     "execution_count": 59,
     "metadata": {},
     "output_type": "execute_result"
    },
    {
     "data": {
      "image/png": "[encoded data removed]",
      "text/plain": [
       "<Figure size 432x288 with 1 Axes>"
      ]
     },
     "metadata": {
      "needs_background": "light"
     },
     "output_type": "display_data"
    }
   ],
   "source": [
    "sns.kdeplot(data=df,x='Burn Rate') .set(title='Burn Rate Distribution of Employees')"
   ]
  },
  {
   "cell_type": "markdown",
   "id": "de7eda58",
   "metadata": {},
   "source": [
    "# Bivariate Analysis"
   ]
  },
  {
   "cell_type": "markdown",
   "id": "01a7cc93",
   "metadata": {},
   "source": [
    "# Is there any association between Resource allocation and Burn Rate "
   ]
  },
  {
   "cell_type": "code",
   "execution_count": 60,
   "id": "25f2c322",
   "metadata": {},
   "outputs": [],
   "source": [
    "resourceburn=df.loc[:,[ 'Resource Allocation',  'Burn Rate']]"
   ]
  },
  {
   "cell_type": "code",
   "execution_count": 61,
   "id": "46e5a73f",
   "metadata": {},
   "outputs": [
    {
     "data": {
      "text/html": [
       "<div>\n",
       "<style scoped>\n",
       "    .dataframe tbody tr th:only-of-type {\n",
       "        vertical-align: middle;\n",
       "    }\n",
       "\n",
       "    .dataframe tbody tr th {\n",
       "        vertical-align: top;\n",
       "    }\n",
       "\n",
       "    .dataframe thead th {\n",
       "        text-align: right;\n",
       "    }\n",
       "</style>\n",
       "<table border=\"1\" class=\"dataframe\">\n",
       "  <thead>\n",
       "    <tr style=\"text-align: right;\">\n",
       "      <th></th>\n",
       "      <th>Resource Allocation</th>\n",
       "      <th>Burn Rate</th>\n",
       "    </tr>\n",
       "  </thead>\n",
       "  <tbody>\n",
       "    <tr>\n",
       "      <th>0</th>\n",
       "      <td>3.000000</td>\n",
       "      <td>16</td>\n",
       "    </tr>\n",
       "    <tr>\n",
       "      <th>1</th>\n",
       "      <td>2.000000</td>\n",
       "      <td>36</td>\n",
       "    </tr>\n",
       "    <tr>\n",
       "      <th>2</th>\n",
       "      <td>4.483831</td>\n",
       "      <td>49</td>\n",
       "    </tr>\n",
       "    <tr>\n",
       "      <th>3</th>\n",
       "      <td>1.000000</td>\n",
       "      <td>20</td>\n",
       "    </tr>\n",
       "    <tr>\n",
       "      <th>4</th>\n",
       "      <td>7.000000</td>\n",
       "      <td>52</td>\n",
       "    </tr>\n",
       "    <tr>\n",
       "      <th>...</th>\n",
       "      <td>...</td>\n",
       "      <td>...</td>\n",
       "    </tr>\n",
       "    <tr>\n",
       "      <th>22745</th>\n",
       "      <td>3.000000</td>\n",
       "      <td>41</td>\n",
       "    </tr>\n",
       "    <tr>\n",
       "      <th>22746</th>\n",
       "      <td>6.000000</td>\n",
       "      <td>59</td>\n",
       "    </tr>\n",
       "    <tr>\n",
       "      <th>22747</th>\n",
       "      <td>7.000000</td>\n",
       "      <td>72</td>\n",
       "    </tr>\n",
       "    <tr>\n",
       "      <th>22748</th>\n",
       "      <td>5.000000</td>\n",
       "      <td>52</td>\n",
       "    </tr>\n",
       "    <tr>\n",
       "      <th>22749</th>\n",
       "      <td>6.000000</td>\n",
       "      <td>61</td>\n",
       "    </tr>\n",
       "  </tbody>\n",
       "</table>\n",
       "<p>21606 rows × 2 columns</p>\n",
       "</div>"
      ],
      "text/plain": [
       "       Resource Allocation  Burn Rate\n",
       "0                 3.000000         16\n",
       "1                 2.000000         36\n",
       "2                 4.483831         49\n",
       "3                 1.000000         20\n",
       "4                 7.000000         52\n",
       "...                    ...        ...\n",
       "22745             3.000000         41\n",
       "22746             6.000000         59\n",
       "22747             7.000000         72\n",
       "22748             5.000000         52\n",
       "22749             6.000000         61\n",
       "\n",
       "[21606 rows x 2 columns]"
      ]
     },
     "execution_count": 61,
     "metadata": {},
     "output_type": "execute_result"
    }
   ],
   "source": [
    "resourceburn"
   ]
  },
  {
   "cell_type": "code",
   "execution_count": 62,
   "id": "bc466419",
   "metadata": {},
   "outputs": [
    {
     "data": {
      "text/html": [
       "<div>\n",
       "<style scoped>\n",
       "    .dataframe tbody tr th:only-of-type {\n",
       "        vertical-align: middle;\n",
       "    }\n",
       "\n",
       "    .dataframe tbody tr th {\n",
       "        vertical-align: top;\n",
       "    }\n",
       "\n",
       "    .dataframe thead th {\n",
       "        text-align: right;\n",
       "    }\n",
       "</style>\n",
       "<table border=\"1\" class=\"dataframe\">\n",
       "  <thead>\n",
       "    <tr style=\"text-align: right;\">\n",
       "      <th></th>\n",
       "      <th>Resource Allocation</th>\n",
       "      <th>Burn Rate</th>\n",
       "    </tr>\n",
       "  </thead>\n",
       "  <tbody>\n",
       "    <tr>\n",
       "      <th>Resource Allocation</th>\n",
       "      <td>1.000000</td>\n",
       "      <td>0.830756</td>\n",
       "    </tr>\n",
       "    <tr>\n",
       "      <th>Burn Rate</th>\n",
       "      <td>0.830756</td>\n",
       "      <td>1.000000</td>\n",
       "    </tr>\n",
       "  </tbody>\n",
       "</table>\n",
       "</div>"
      ],
      "text/plain": [
       "                     Resource Allocation  Burn Rate\n",
       "Resource Allocation             1.000000   0.830756\n",
       "Burn Rate                       0.830756   1.000000"
      ]
     },
     "execution_count": 62,
     "metadata": {},
     "output_type": "execute_result"
    }
   ],
   "source": [
    "resourceburn.corr()"
   ]
  },
  {
   "cell_type": "code",
   "execution_count": 63,
   "id": "0b4a91a9",
   "metadata": {},
   "outputs": [],
   "source": [
    "X = resourceburn.drop(['Burn Rate'],axis=1) #X needs to be a DataFrame or 2D array\n",
    "y = resourceburn['Burn Rate']#y needs to be a Series or 1D array\n"
   ]
  },
  {
   "cell_type": "code",
   "execution_count": 64,
   "id": "ca8c613f",
   "metadata": {},
   "outputs": [
    {
     "name": "stdout",
     "output_type": "stream",
     "text": [
      "                            OLS Regression Results                            \n",
      "==============================================================================\n",
      "Dep. Variable:              Burn Rate   R-squared:                       0.690\n",
      "Model:                            OLS   Adj. R-squared:                  0.690\n",
      "Method:                 Least Squares   F-statistic:                 4.812e+04\n",
      "Date:                Sat, 07 May 2022   Prob (F-statistic):               0.00\n",
      "Time:                        13:42:34   Log-Likelihood:                -82526.\n",
      "No. Observations:               21606   AIC:                         1.651e+05\n",
      "Df Residuals:                   21604   BIC:                         1.651e+05\n",
      "Df Model:                           1                                         \n",
      "Covariance Type:            nonrobust                                         \n",
      "=======================================================================================\n",
      "                          coef    std err          t      P>|t|      [0.025      0.975]\n",
      "---------------------------------------------------------------------------------------\n",
      "const                   8.0036      0.185     43.210      0.000       7.641       8.367\n",
      "Resource Allocation     8.2848      0.038    219.365      0.000       8.211       8.359\n",
      "==============================================================================\n",
      "Omnibus:                      176.235   Durbin-Watson:                   2.021\n",
      "Prob(Omnibus):                  0.000   Jarque-Bera (JB):              273.391\n",
      "Skew:                           0.050   Prob(JB):                     4.30e-60\n",
      "Kurtosis:                       3.542   Cond. No.                         12.5\n",
      "==============================================================================\n",
      "\n",
      "Notes:\n",
      "[1] Standard Errors assume that the covariance matrix of the errors is correctly specified.\n"
     ]
    }
   ],
   "source": [
    "import statsmodels.api as sm\n",
    "X2 = sm.add_constant(X) \n",
    "ols = sm.OLS(y,X2)\n",
    "lr = ols.fit()\n",
    "print(lr.summary())\n",
    "\n"
   ]
  },
  {
   "cell_type": "markdown",
   "id": "19040c27",
   "metadata": {},
   "source": [
    "# since p-value is 0.000 and less than 5% you can reject null hypothese and conclude there is linear relationship between Resource Allocation and Burn Rate at 5% significant level\n",
    "\n"
   ]
  },
  {
   "cell_type": "code",
   "execution_count": 302,
   "id": "6ae4bdb1",
   "metadata": {},
   "outputs": [
    {
     "data": {
      "image/png": "[encoded data removed]",
      "text/plain": [
       "<Figure size 432x288 with 1 Axes>"
      ]
     },
     "metadata": {},
     "output_type": "display_data"
    }
   ],
   "source": [
    "dk.plot(kind='scatter',x='Burn Rate',y='Resource Allocation',color='blue')\n",
    "plt.show()\n"
   ]
  },
  {
   "cell_type": "markdown",
   "id": "5c9b069b",
   "metadata": {},
   "source": [
    "# Is there any relation between Resource Allocation and Mental Fatigue Score"
   ]
  },
  {
   "cell_type": "code",
   "execution_count": 67,
   "id": "0258e4da",
   "metadata": {},
   "outputs": [],
   "source": [
    "resourcefatigue=df.loc[:,[ 'Resource Allocation',  'Mental Fatigue Score']]"
   ]
  },
  {
   "cell_type": "code",
   "execution_count": 68,
   "id": "c3e52ee9",
   "metadata": {},
   "outputs": [
    {
     "data": {
      "text/html": [
       "<div>\n",
       "<style scoped>\n",
       "    .dataframe tbody tr th:only-of-type {\n",
       "        vertical-align: middle;\n",
       "    }\n",
       "\n",
       "    .dataframe tbody tr th {\n",
       "        vertical-align: top;\n",
       "    }\n",
       "\n",
       "    .dataframe thead th {\n",
       "        text-align: right;\n",
       "    }\n",
       "</style>\n",
       "<table border=\"1\" class=\"dataframe\">\n",
       "  <thead>\n",
       "    <tr style=\"text-align: right;\">\n",
       "      <th></th>\n",
       "      <th>Resource Allocation</th>\n",
       "      <th>Mental Fatigue Score</th>\n",
       "    </tr>\n",
       "  </thead>\n",
       "  <tbody>\n",
       "    <tr>\n",
       "      <th>Resource Allocation</th>\n",
       "      <td>1.000000</td>\n",
       "      <td>0.741454</td>\n",
       "    </tr>\n",
       "    <tr>\n",
       "      <th>Mental Fatigue Score</th>\n",
       "      <td>0.741454</td>\n",
       "      <td>1.000000</td>\n",
       "    </tr>\n",
       "  </tbody>\n",
       "</table>\n",
       "</div>"
      ],
      "text/plain": [
       "                      Resource Allocation  Mental Fatigue Score\n",
       "Resource Allocation              1.000000              0.741454\n",
       "Mental Fatigue Score             0.741454              1.000000"
      ]
     },
     "execution_count": 68,
     "metadata": {},
     "output_type": "execute_result"
    }
   ],
   "source": [
    "resourcefatigue.corr()"
   ]
  },
  {
   "cell_type": "code",
   "execution_count": 69,
   "id": "d076080d",
   "metadata": {},
   "outputs": [],
   "source": [
    "X = resourcefatigue.drop(['Mental Fatigue Score'],axis=1) #X needs to be a DataFrame or 2D array\n",
    "y = resourcefatigue['Mental Fatigue Score']#y needs to be a Series or 1D array"
   ]
  },
  {
   "cell_type": "code",
   "execution_count": 70,
   "id": "9ac2dd3a",
   "metadata": {},
   "outputs": [
    {
     "name": "stdout",
     "output_type": "stream",
     "text": [
      "                             OLS Regression Results                             \n",
      "================================================================================\n",
      "Dep. Variable:     Mental Fatigue Score   R-squared:                       0.550\n",
      "Model:                              OLS   Adj. R-squared:                  0.550\n",
      "Method:                   Least Squares   F-statistic:                 2.638e+04\n",
      "Date:                  Sat, 07 May 2022   Prob (F-statistic):               0.00\n",
      "Time:                          13:42:55   Log-Likelihood:                -35123.\n",
      "No. Observations:                 21606   AIC:                         7.025e+04\n",
      "Df Residuals:                     21604   BIC:                         7.027e+04\n",
      "Df Model:                             1                                         \n",
      "Covariance Type:              nonrobust                                         \n",
      "=======================================================================================\n",
      "                          coef    std err          t      P>|t|      [0.025      0.975]\n",
      "---------------------------------------------------------------------------------------\n",
      "const                   2.6643      0.021    129.043      0.000       2.624       2.705\n",
      "Resource Allocation     0.6838      0.004    162.415      0.000       0.676       0.692\n",
      "==============================================================================\n",
      "Omnibus:                      533.672   Durbin-Watson:                   2.016\n",
      "Prob(Omnibus):                  0.000   Jarque-Bera (JB):              609.918\n",
      "Skew:                          -0.351   Prob(JB):                    3.61e-133\n",
      "Kurtosis:                       3.430   Cond. No.                         12.5\n",
      "==============================================================================\n",
      "\n",
      "Notes:\n",
      "[1] Standard Errors assume that the covariance matrix of the errors is correctly specified.\n"
     ]
    }
   ],
   "source": [
    "import statsmodels.api as sm\n",
    "X2 = sm.add_constant(X) \n",
    "ols = sm.OLS(y,X2)\n",
    "lr = ols.fit()\n",
    "print(lr.summary())\n"
   ]
  },
  {
   "cell_type": "markdown",
   "id": "c2ee8936",
   "metadata": {},
   "source": [
    "# since p-value is 0.000 and less than 5% you can reject null hypothese and conclude there is linear relationship between Resource Allocation and Mental Fatigue Score at 5% significant level"
   ]
  },
  {
   "cell_type": "code",
   "execution_count": 71,
   "id": "9620fd17",
   "metadata": {},
   "outputs": [
    {
     "data": {
      "image/png": "[encoded data removed]",
      "text/plain": [
       "<Figure size 432x288 with 1 Axes>"
      ]
     },
     "metadata": {
      "needs_background": "light"
     },
     "output_type": "display_data"
    }
   ],
   "source": [
    "df.plot(kind='scatter',x='Resource Allocation',y='Mental Fatigue Score',color='blue')\n",
    "plt.show()"
   ]
  },
  {
   "cell_type": "markdown",
   "id": "40f99272",
   "metadata": {},
   "source": [
    "# Is Mental Fatigue Score of each employee related to Burn Rate ?"
   ]
  },
  {
   "cell_type": "code",
   "execution_count": 196,
   "id": "82a7c7c8",
   "metadata": {},
   "outputs": [],
   "source": [
    "resourcefatigue=df.loc[:,[ 'Mental Fatigue Score',  'Burn Rate']]"
   ]
  },
  {
   "cell_type": "code",
   "execution_count": 197,
   "id": "cab3582f",
   "metadata": {},
   "outputs": [
    {
     "data": {
      "text/html": [
       "<div>\n",
       "<style scoped>\n",
       "    .dataframe tbody tr th:only-of-type {\n",
       "        vertical-align: middle;\n",
       "    }\n",
       "\n",
       "    .dataframe tbody tr th {\n",
       "        vertical-align: top;\n",
       "    }\n",
       "\n",
       "    .dataframe thead th {\n",
       "        text-align: right;\n",
       "    }\n",
       "</style>\n",
       "<table border=\"1\" class=\"dataframe\">\n",
       "  <thead>\n",
       "    <tr style=\"text-align: right;\">\n",
       "      <th></th>\n",
       "      <th>Mental Fatigue Score</th>\n",
       "      <th>Burn Rate</th>\n",
       "    </tr>\n",
       "  </thead>\n",
       "  <tbody>\n",
       "    <tr>\n",
       "      <th>Mental Fatigue Score</th>\n",
       "      <td>1.000000</td>\n",
       "      <td>0.899178</td>\n",
       "    </tr>\n",
       "    <tr>\n",
       "      <th>Burn Rate</th>\n",
       "      <td>0.899178</td>\n",
       "      <td>1.000000</td>\n",
       "    </tr>\n",
       "  </tbody>\n",
       "</table>\n",
       "</div>"
      ],
      "text/plain": [
       "                      Mental Fatigue Score  Burn Rate\n",
       "Mental Fatigue Score              1.000000   0.899178\n",
       "Burn Rate                         0.899178   1.000000"
      ]
     },
     "execution_count": 197,
     "metadata": {},
     "output_type": "execute_result"
    }
   ],
   "source": [
    "resourcefatigue.corr()"
   ]
  },
  {
   "cell_type": "code",
   "execution_count": 73,
   "id": "ace793af",
   "metadata": {},
   "outputs": [],
   "source": [
    "X = resourcefatigue.drop(['Burn Rate'],axis=1) #X needs to be a DataFrame or 2D array\n",
    "y = resourcefatigue['Burn Rate']#y needs to be a Series or 1D array"
   ]
  },
  {
   "cell_type": "code",
   "execution_count": 74,
   "id": "73f07c84",
   "metadata": {},
   "outputs": [
    {
     "name": "stdout",
     "output_type": "stream",
     "text": [
      "                            OLS Regression Results                            \n",
      "==============================================================================\n",
      "Dep. Variable:              Burn Rate   R-squared:                       0.809\n",
      "Model:                            OLS   Adj. R-squared:                  0.809\n",
      "Method:                 Least Squares   F-statistic:                 9.122e+04\n",
      "Date:                Sat, 07 May 2022   Prob (F-statistic):               0.00\n",
      "Time:                        13:43:05   Log-Likelihood:                -77327.\n",
      "No. Observations:               21606   AIC:                         1.547e+05\n",
      "Df Residuals:                   21604   BIC:                         1.547e+05\n",
      "Df Model:                           1                                         \n",
      "Covariance Type:            nonrobust                                         \n",
      "========================================================================================\n",
      "                           coef    std err          t      P>|t|      [0.025      0.975]\n",
      "----------------------------------------------------------------------------------------\n",
      "const                  -10.5684      0.194    -54.565      0.000     -10.948     -10.189\n",
      "Mental Fatigue Score     9.7239      0.032    302.032      0.000       9.661       9.787\n",
      "==============================================================================\n",
      "Omnibus:                     2337.301   Durbin-Watson:                   1.991\n",
      "Prob(Omnibus):                  0.000   Jarque-Bera (JB):            20890.140\n",
      "Skew:                           0.098   Prob(JB):                         0.00\n",
      "Kurtosis:                       7.813   Cond. No.                         20.2\n",
      "==============================================================================\n",
      "\n",
      "Notes:\n",
      "[1] Standard Errors assume that the covariance matrix of the errors is correctly specified.\n"
     ]
    }
   ],
   "source": [
    "import statsmodels.api as sm\n",
    "X2 = sm.add_constant(X) \n",
    "ols = sm.OLS(y,X2)\n",
    "lr = ols.fit()\n",
    "print(lr.summary())\n",
    "\n"
   ]
  },
  {
   "cell_type": "markdown",
   "id": "18c3ad32",
   "metadata": {},
   "source": [
    "# Since p-value is 0.000 and less than 5% you can reject null hypothese and conclude there is linear relationship between Burn Rate and Mental Fatigue Score at 5% significant level"
   ]
  },
  {
   "cell_type": "code",
   "execution_count": 274,
   "id": "d513c8ff",
   "metadata": {},
   "outputs": [
    {
     "data": {
      "text/plain": [
       "<Figure size 1152x1152 with 0 Axes>"
      ]
     },
     "metadata": {},
     "output_type": "display_data"
    },
    {
     "data": {
      "image/png": "[encoded data removed]",
      "text/plain": [
       "<Figure size 432x288 with 1 Axes>"
      ]
     },
     "metadata": {},
     "output_type": "display_data"
    }
   ],
   "source": [
    "plt.figure(figsize=(16, 16))\n",
    "dk.plot(kind='scatter',x='Mental Fatigue Score',y='Burn Rate',color='blue')\n",
    "plt.title('Relation Between Mental Fatigue Score and Burn Rate')\n",
    "plt.show()\n"
   ]
  },
  {
   "cell_type": "code",
   "execution_count": 268,
   "id": "def28220",
   "metadata": {},
   "outputs": [
    {
     "data": {
      "text/html": [
       "<div>\n",
       "<style scoped>\n",
       "    .dataframe tbody tr th:only-of-type {\n",
       "        vertical-align: middle;\n",
       "    }\n",
       "\n",
       "    .dataframe tbody tr th {\n",
       "        vertical-align: top;\n",
       "    }\n",
       "\n",
       "    .dataframe thead th {\n",
       "        text-align: right;\n",
       "    }\n",
       "</style>\n",
       "<table border=\"1\" class=\"dataframe\">\n",
       "  <thead>\n",
       "    <tr style=\"text-align: right;\">\n",
       "      <th></th>\n",
       "      <th>Joining Date</th>\n",
       "      <th>Gender</th>\n",
       "      <th>Industry</th>\n",
       "      <th>WFH Available</th>\n",
       "      <th>Designations</th>\n",
       "      <th>Resource Allocation</th>\n",
       "      <th>Mental Fatigue Score</th>\n",
       "      <th>Burn Rate</th>\n",
       "      <th>year</th>\n",
       "      <th>month</th>\n",
       "      <th>day</th>\n",
       "      <th>Designation</th>\n",
       "      <th>Burn Rate Segment</th>\n",
       "      <th>Days_in_Company</th>\n",
       "    </tr>\n",
       "  </thead>\n",
       "  <tbody>\n",
       "    <tr>\n",
       "      <th>0</th>\n",
       "      <td>2008-09-30</td>\n",
       "      <td>Female</td>\n",
       "      <td>Service</td>\n",
       "      <td>No</td>\n",
       "      <td>2</td>\n",
       "      <td>3.000000</td>\n",
       "      <td>3.800000</td>\n",
       "      <td>16</td>\n",
       "      <td>2008</td>\n",
       "      <td>September</td>\n",
       "      <td>30</td>\n",
       "      <td>Level 2</td>\n",
       "      <td>Low Burn Rate</td>\n",
       "      <td>4968</td>\n",
       "    </tr>\n",
       "    <tr>\n",
       "      <th>1</th>\n",
       "      <td>2008-11-30</td>\n",
       "      <td>Male</td>\n",
       "      <td>Service</td>\n",
       "      <td>Yes</td>\n",
       "      <td>1</td>\n",
       "      <td>2.000000</td>\n",
       "      <td>5.000000</td>\n",
       "      <td>36</td>\n",
       "      <td>2008</td>\n",
       "      <td>November</td>\n",
       "      <td>30</td>\n",
       "      <td>Level 1</td>\n",
       "      <td>Medium Burn Rate</td>\n",
       "      <td>4907</td>\n",
       "    </tr>\n",
       "    <tr>\n",
       "      <th>2</th>\n",
       "      <td>2008-03-10</td>\n",
       "      <td>Female</td>\n",
       "      <td>Product</td>\n",
       "      <td>Yes</td>\n",
       "      <td>2</td>\n",
       "      <td>4.483831</td>\n",
       "      <td>5.800000</td>\n",
       "      <td>49</td>\n",
       "      <td>2008</td>\n",
       "      <td>March</td>\n",
       "      <td>10</td>\n",
       "      <td>Level 2</td>\n",
       "      <td>Medium Burn Rate</td>\n",
       "      <td>5172</td>\n",
       "    </tr>\n",
       "    <tr>\n",
       "      <th>3</th>\n",
       "      <td>2008-11-03</td>\n",
       "      <td>Male</td>\n",
       "      <td>Service</td>\n",
       "      <td>Yes</td>\n",
       "      <td>1</td>\n",
       "      <td>1.000000</td>\n",
       "      <td>2.600000</td>\n",
       "      <td>20</td>\n",
       "      <td>2008</td>\n",
       "      <td>November</td>\n",
       "      <td>3</td>\n",
       "      <td>Level 1</td>\n",
       "      <td>Low Burn Rate</td>\n",
       "      <td>4934</td>\n",
       "    </tr>\n",
       "    <tr>\n",
       "      <th>4</th>\n",
       "      <td>2008-07-24</td>\n",
       "      <td>Female</td>\n",
       "      <td>Service</td>\n",
       "      <td>No</td>\n",
       "      <td>3</td>\n",
       "      <td>7.000000</td>\n",
       "      <td>6.900000</td>\n",
       "      <td>52</td>\n",
       "      <td>2008</td>\n",
       "      <td>July</td>\n",
       "      <td>24</td>\n",
       "      <td>Level 3</td>\n",
       "      <td>Medium Burn Rate</td>\n",
       "      <td>5036</td>\n",
       "    </tr>\n",
       "    <tr>\n",
       "      <th>...</th>\n",
       "      <td>...</td>\n",
       "      <td>...</td>\n",
       "      <td>...</td>\n",
       "      <td>...</td>\n",
       "      <td>...</td>\n",
       "      <td>...</td>\n",
       "      <td>...</td>\n",
       "      <td>...</td>\n",
       "      <td>...</td>\n",
       "      <td>...</td>\n",
       "      <td>...</td>\n",
       "      <td>...</td>\n",
       "      <td>...</td>\n",
       "      <td>...</td>\n",
       "    </tr>\n",
       "    <tr>\n",
       "      <th>22745</th>\n",
       "      <td>2008-12-30</td>\n",
       "      <td>Female</td>\n",
       "      <td>Service</td>\n",
       "      <td>No</td>\n",
       "      <td>3</td>\n",
       "      <td>3.000000</td>\n",
       "      <td>5.729851</td>\n",
       "      <td>41</td>\n",
       "      <td>2008</td>\n",
       "      <td>December</td>\n",
       "      <td>30</td>\n",
       "      <td>Level 3</td>\n",
       "      <td>Medium Burn Rate</td>\n",
       "      <td>4877</td>\n",
       "    </tr>\n",
       "    <tr>\n",
       "      <th>22746</th>\n",
       "      <td>2008-01-19</td>\n",
       "      <td>Female</td>\n",
       "      <td>Product</td>\n",
       "      <td>Yes</td>\n",
       "      <td>3</td>\n",
       "      <td>6.000000</td>\n",
       "      <td>6.700000</td>\n",
       "      <td>59</td>\n",
       "      <td>2008</td>\n",
       "      <td>January</td>\n",
       "      <td>19</td>\n",
       "      <td>Level 3</td>\n",
       "      <td>Medium Burn Rate</td>\n",
       "      <td>5223</td>\n",
       "    </tr>\n",
       "    <tr>\n",
       "      <th>22747</th>\n",
       "      <td>2008-11-05</td>\n",
       "      <td>Male</td>\n",
       "      <td>Service</td>\n",
       "      <td>Yes</td>\n",
       "      <td>3</td>\n",
       "      <td>7.000000</td>\n",
       "      <td>5.729851</td>\n",
       "      <td>72</td>\n",
       "      <td>2008</td>\n",
       "      <td>November</td>\n",
       "      <td>5</td>\n",
       "      <td>Level 3</td>\n",
       "      <td>High Burn Rate</td>\n",
       "      <td>4932</td>\n",
       "    </tr>\n",
       "    <tr>\n",
       "      <th>22748</th>\n",
       "      <td>2008-01-10</td>\n",
       "      <td>Female</td>\n",
       "      <td>Service</td>\n",
       "      <td>No</td>\n",
       "      <td>3</td>\n",
       "      <td>5.000000</td>\n",
       "      <td>5.900000</td>\n",
       "      <td>52</td>\n",
       "      <td>2008</td>\n",
       "      <td>January</td>\n",
       "      <td>10</td>\n",
       "      <td>Level 3</td>\n",
       "      <td>Medium Burn Rate</td>\n",
       "      <td>5232</td>\n",
       "    </tr>\n",
       "    <tr>\n",
       "      <th>22749</th>\n",
       "      <td>2008-01-06</td>\n",
       "      <td>Male</td>\n",
       "      <td>Product</td>\n",
       "      <td>No</td>\n",
       "      <td>3</td>\n",
       "      <td>6.000000</td>\n",
       "      <td>7.800000</td>\n",
       "      <td>61</td>\n",
       "      <td>2008</td>\n",
       "      <td>January</td>\n",
       "      <td>6</td>\n",
       "      <td>Level 3</td>\n",
       "      <td>High Burn Rate</td>\n",
       "      <td>5236</td>\n",
       "    </tr>\n",
       "  </tbody>\n",
       "</table>\n",
       "<p>21606 rows × 14 columns</p>\n",
       "</div>"
      ],
      "text/plain": [
       "      Joining Date  Gender Industry WFH Available  Designations  \\\n",
       "0       2008-09-30  Female  Service            No             2   \n",
       "1       2008-11-30    Male  Service           Yes             1   \n",
       "2       2008-03-10  Female  Product           Yes             2   \n",
       "3       2008-11-03    Male  Service           Yes             1   \n",
       "4       2008-07-24  Female  Service            No             3   \n",
       "...            ...     ...      ...           ...           ...   \n",
       "22745   2008-12-30  Female  Service            No             3   \n",
       "22746   2008-01-19  Female  Product           Yes             3   \n",
       "22747   2008-11-05    Male  Service           Yes             3   \n",
       "22748   2008-01-10  Female  Service            No             3   \n",
       "22749   2008-01-06    Male  Product            No             3   \n",
       "\n",
       "       Resource Allocation  Mental Fatigue Score  Burn Rate  year      month  \\\n",
       "0                 3.000000              3.800000         16  2008  September   \n",
       "1                 2.000000              5.000000         36  2008   November   \n",
       "2                 4.483831              5.800000         49  2008      March   \n",
       "3                 1.000000              2.600000         20  2008   November   \n",
       "4                 7.000000              6.900000         52  2008       July   \n",
       "...                    ...                   ...        ...   ...        ...   \n",
       "22745             3.000000              5.729851         41  2008   December   \n",
       "22746             6.000000              6.700000         59  2008    January   \n",
       "22747             7.000000              5.729851         72  2008   November   \n",
       "22748             5.000000              5.900000         52  2008    January   \n",
       "22749             6.000000              7.800000         61  2008    January   \n",
       "\n",
       "       day Designation Burn Rate Segment  Days_in_Company  \n",
       "0       30     Level 2     Low Burn Rate             4968  \n",
       "1       30     Level 1  Medium Burn Rate             4907  \n",
       "2       10     Level 2  Medium Burn Rate             5172  \n",
       "3        3     Level 1     Low Burn Rate             4934  \n",
       "4       24     Level 3  Medium Burn Rate             5036  \n",
       "...    ...         ...               ...              ...  \n",
       "22745   30     Level 3  Medium Burn Rate             4877  \n",
       "22746   19     Level 3  Medium Burn Rate             5223  \n",
       "22747    5     Level 3    High Burn Rate             4932  \n",
       "22748   10     Level 3  Medium Burn Rate             5232  \n",
       "22749    6     Level 3    High Burn Rate             5236  \n",
       "\n",
       "[21606 rows x 14 columns]"
      ]
     },
     "execution_count": 268,
     "metadata": {},
     "output_type": "execute_result"
    }
   ],
   "source": [
    "df"
   ]
  },
  {
   "cell_type": "markdown",
   "id": "323ba06a",
   "metadata": {},
   "source": [
    "# Categorical Vs Categorical Analysis"
   ]
  },
  {
   "cell_type": "markdown",
   "id": "a0f80032",
   "metadata": {},
   "source": [
    "# What is the distribution of female and male employees in each job level?"
   ]
  },
  {
   "cell_type": "code",
   "execution_count": 75,
   "id": "131e8b42",
   "metadata": {},
   "outputs": [
    {
     "data": {
      "text/html": [
       "<div>\n",
       "<style scoped>\n",
       "    .dataframe tbody tr th:only-of-type {\n",
       "        vertical-align: middle;\n",
       "    }\n",
       "\n",
       "    .dataframe tbody tr th {\n",
       "        vertical-align: top;\n",
       "    }\n",
       "\n",
       "    .dataframe thead th {\n",
       "        text-align: right;\n",
       "    }\n",
       "</style>\n",
       "<table border=\"1\" class=\"dataframe\">\n",
       "  <thead>\n",
       "    <tr style=\"text-align: right;\">\n",
       "      <th>Gender</th>\n",
       "      <th>Female</th>\n",
       "      <th>Male</th>\n",
       "      <th>All</th>\n",
       "    </tr>\n",
       "    <tr>\n",
       "      <th>Designation</th>\n",
       "      <th></th>\n",
       "      <th></th>\n",
       "      <th></th>\n",
       "    </tr>\n",
       "  </thead>\n",
       "  <tbody>\n",
       "    <tr>\n",
       "      <th>Level 0</th>\n",
       "      <td>2</td>\n",
       "      <td>1</td>\n",
       "      <td>3</td>\n",
       "    </tr>\n",
       "    <tr>\n",
       "      <th>Level 1</th>\n",
       "      <td>3</td>\n",
       "      <td>7</td>\n",
       "      <td>10</td>\n",
       "    </tr>\n",
       "    <tr>\n",
       "      <th>Level 2</th>\n",
       "      <td>7</td>\n",
       "      <td>5</td>\n",
       "      <td>12</td>\n",
       "    </tr>\n",
       "    <tr>\n",
       "      <th>Level 3</th>\n",
       "      <td>11322</td>\n",
       "      <td>10258</td>\n",
       "      <td>21580</td>\n",
       "    </tr>\n",
       "    <tr>\n",
       "      <th>Level 4</th>\n",
       "      <td>0</td>\n",
       "      <td>1</td>\n",
       "      <td>1</td>\n",
       "    </tr>\n",
       "    <tr>\n",
       "      <th>All</th>\n",
       "      <td>11334</td>\n",
       "      <td>10272</td>\n",
       "      <td>21606</td>\n",
       "    </tr>\n",
       "  </tbody>\n",
       "</table>\n",
       "</div>"
      ],
      "text/plain": [
       "Gender       Female   Male    All\n",
       "Designation                      \n",
       "Level 0           2      1      3\n",
       "Level 1           3      7     10\n",
       "Level 2           7      5     12\n",
       "Level 3       11322  10258  21580\n",
       "Level 4           0      1      1\n",
       "All           11334  10272  21606"
      ]
     },
     "execution_count": 75,
     "metadata": {},
     "output_type": "execute_result"
    }
   ],
   "source": [
    "tablededgen = pd.crosstab(df['Designation'],df['Gender'],margins = True)\n",
    "tablededgen\n"
   ]
  },
  {
   "cell_type": "code",
   "execution_count": 76,
   "id": "3baa5241",
   "metadata": {},
   "outputs": [],
   "source": [
    "from scipy.stats import chi2_contingency\n",
    "def chi_square(c1,c2):\n",
    "    chi_2, p_val, dof, exp_val = chi2_contingency(pd.crosstab(df[c1],df[c2],margins = False))# make sure margins = False\n",
    "    print(\"Expected values: \\n\")\n",
    "    print(exp_val)\n",
    "    print(f'\\nChi-square is : {chi_2}', f'\\n\\np_value is : {p_val}', f'\\n\\ndegree of freedom is :{dof}')\n",
    "    if exp_val.min()<10 : print(\"\\n********************************************\\nWarning :We have some small expected \\\n",
    "values\\n******************************************** \")\n",
    "    elif p_val < 0.05:# consider significan level is 5%\n",
    "        print(F\"\\nThere is statistiacally significant correlation between {c1} and {c2} at 0.05 significant level\")\n",
    "    else:\n",
    "        print(F\"\\nThere is no correlation between the two variables( we don't have enough evidence to conclude there is a a statistically significant relationship between {c1} and {c2}\")        \n"
   ]
  },
  {
   "cell_type": "code",
   "execution_count": 77,
   "id": "0d782301",
   "metadata": {},
   "outputs": [
    {
     "name": "stdout",
     "output_type": "stream",
     "text": [
      "Expected values: \n",
      "\n",
      "[[1.57372952e+00 1.42627048e+00]\n",
      " [5.24576507e+00 4.75423493e+00]\n",
      " [6.29491808e+00 5.70508192e+00]\n",
      " [1.13203610e+04 1.02596390e+04]\n",
      " [5.24576507e-01 4.75423493e-01]]\n",
      "\n",
      "Chi-square is : 3.535134076191368 \n",
      "\n",
      "p_value is : 0.4725562793302892 \n",
      "\n",
      "degree of freedom is :4\n",
      "\n",
      "********************************************\n",
      "Warning :We have some small expected values\n",
      "******************************************** \n"
     ]
    }
   ],
   "source": [
    "chi_square('Designation','Gender')"
   ]
  },
  {
   "cell_type": "markdown",
   "id": "48fc54df",
   "metadata": {},
   "source": [
    "# Since p value >5% accept null hypothesis and conclude there is no statistical relation ship between Designation and Gender"
   ]
  },
  {
   "cell_type": "code",
   "execution_count": 119,
   "id": "187f4103",
   "metadata": {},
   "outputs": [
    {
     "data": {
      "image/png": "[encoded data removed]",
      "text/plain": [
       "<Figure size 432x288 with 1 Axes>"
      ]
     },
     "metadata": {
      "needs_background": "light"
     },
     "output_type": "display_data"
    }
   ],
   "source": [
    "# plot and add annotations\n",
    "p = sns.countplot(data=df, x='Designation', hue='Gender')\n",
    "p.legend(title='Gender', bbox_to_anchor=(1, 1), loc='upper left')\n",
    "p.set_yscale(\"log\")\n",
    "for c in p.containers:\n",
    "    # set the bar label\n",
    "    p.bar_label(c, fmt='%.0f', label_type='edge')"
   ]
  },
  {
   "cell_type": "code",
   "execution_count": 118,
   "id": "cc4c08fc",
   "metadata": {},
   "outputs": [
    {
     "data": {
      "image/png": "[encoded data removed]",
      "text/plain": [
       "<Figure size 432x288 with 1 Axes>"
      ]
     },
     "metadata": {
      "needs_background": "light"
     },
     "output_type": "display_data"
    }
   ],
   "source": [
    "# plot and add annotations\n",
    "p = sns.countplot(data=df, x='Designation', hue='Gender',)\n",
    "p.legend(title='Gender', bbox_to_anchor=(1, 1), loc='upper left')\n",
    "p.set_yscale(\"log\")\n",
    "for c in p.containers:\n",
    "    # set the bar label\n",
    "    p.bar_label(c, fmt='%.0f', label_type='edge')"
   ]
  },
  {
   "cell_type": "code",
   "execution_count": null,
   "id": "45c2d19e",
   "metadata": {},
   "outputs": [],
   "source": [
    "g = sns.barplot(x=xs, y=ys, hue=hue)\n",
    "g.set_yscale(\"log\")"
   ]
  },
  {
   "cell_type": "markdown",
   "id": "42a92753",
   "metadata": {},
   "source": [
    "# Designation Vs Industry"
   ]
  },
  {
   "cell_type": "code",
   "execution_count": 80,
   "id": "a80675a4",
   "metadata": {},
   "outputs": [
    {
     "data": {
      "text/html": [
       "<div>\n",
       "<style scoped>\n",
       "    .dataframe tbody tr th:only-of-type {\n",
       "        vertical-align: middle;\n",
       "    }\n",
       "\n",
       "    .dataframe tbody tr th {\n",
       "        vertical-align: top;\n",
       "    }\n",
       "\n",
       "    .dataframe thead th {\n",
       "        text-align: right;\n",
       "    }\n",
       "</style>\n",
       "<table border=\"1\" class=\"dataframe\">\n",
       "  <thead>\n",
       "    <tr style=\"text-align: right;\">\n",
       "      <th>Industry</th>\n",
       "      <th>Product</th>\n",
       "      <th>Service</th>\n",
       "      <th>All</th>\n",
       "    </tr>\n",
       "    <tr>\n",
       "      <th>Designation</th>\n",
       "      <th></th>\n",
       "      <th></th>\n",
       "      <th></th>\n",
       "    </tr>\n",
       "  </thead>\n",
       "  <tbody>\n",
       "    <tr>\n",
       "      <th>Level 0</th>\n",
       "      <td>1</td>\n",
       "      <td>2</td>\n",
       "      <td>3</td>\n",
       "    </tr>\n",
       "    <tr>\n",
       "      <th>Level 1</th>\n",
       "      <td>3</td>\n",
       "      <td>7</td>\n",
       "      <td>10</td>\n",
       "    </tr>\n",
       "    <tr>\n",
       "      <th>Level 2</th>\n",
       "      <td>5</td>\n",
       "      <td>7</td>\n",
       "      <td>12</td>\n",
       "    </tr>\n",
       "    <tr>\n",
       "      <th>Level 3</th>\n",
       "      <td>7487</td>\n",
       "      <td>14093</td>\n",
       "      <td>21580</td>\n",
       "    </tr>\n",
       "    <tr>\n",
       "      <th>Level 4</th>\n",
       "      <td>1</td>\n",
       "      <td>0</td>\n",
       "      <td>1</td>\n",
       "    </tr>\n",
       "    <tr>\n",
       "      <th>All</th>\n",
       "      <td>7497</td>\n",
       "      <td>14109</td>\n",
       "      <td>21606</td>\n",
       "    </tr>\n",
       "  </tbody>\n",
       "</table>\n",
       "</div>"
      ],
      "text/plain": [
       "Industry     Product  Service    All\n",
       "Designation                         \n",
       "Level 0            1        2      3\n",
       "Level 1            3        7     10\n",
       "Level 2            5        7     12\n",
       "Level 3         7487    14093  21580\n",
       "Level 4            1        0      1\n",
       "All             7497    14109  21606"
      ]
     },
     "execution_count": 80,
     "metadata": {},
     "output_type": "execute_result"
    }
   ],
   "source": [
    "tabledesin = pd.crosstab(df['Designation'],df['Industry'],margins = True)\n",
    "tabledesin"
   ]
  },
  {
   "cell_type": "code",
   "execution_count": 81,
   "id": "7ce07577",
   "metadata": {},
   "outputs": [],
   "source": [
    "from scipy.stats import chi2_contingency\n",
    "def chi_square(c1,c2):\n",
    "    chi_2, p_val, dof, exp_val = chi2_contingency(pd.crosstab(df[c1],df[c2],margins = False))# make sure margins = False\n",
    "    print(\"Expected values: \\n\")\n",
    "    print(exp_val)\n",
    "    print(f'\\nChi-square is : {chi_2}', f'\\n\\np_value is : {p_val}', f'\\n\\ndegree of freedom is :{dof}')\n",
    "    if exp_val.min()<10 : print(\"\\n********************************************\\nWarning :We have some small expected \\\n",
    "values\\n******************************************** \")\n",
    "    elif p_val < 0.05:# consider significan level is 5%\n",
    "        print(F\"\\nThere is statistiacally significant correlation between {c1} and {c2} at 0.05 significant level\")\n",
    "    else:\n",
    "        print(F\"\\nThere is no correlation between the two variables( we don't have enough evidence to conclude there is a a statistically significant relationship between {c1} and {c2}\")        \n"
   ]
  },
  {
   "cell_type": "code",
   "execution_count": 82,
   "id": "b45571d1",
   "metadata": {
    "scrolled": true
   },
   "outputs": [
    {
     "name": "stdout",
     "output_type": "stream",
     "text": [
      "Expected values: \n",
      "\n",
      "[[1.04096084e+00 1.95903916e+00]\n",
      " [3.46986948e+00 6.53013052e+00]\n",
      " [4.16384338e+00 7.83615662e+00]\n",
      " [7.48797834e+03 1.40920217e+04]\n",
      " [3.46986948e-01 6.53013052e-01]]\n",
      "\n",
      "Chi-square is : 2.2391864530726133 \n",
      "\n",
      "p_value is : 0.6918618164345434 \n",
      "\n",
      "degree of freedom is :4\n",
      "\n",
      "********************************************\n",
      "Warning :We have some small expected values\n",
      "******************************************** \n"
     ]
    }
   ],
   "source": [
    "chi_square('Designation','Industry')"
   ]
  },
  {
   "cell_type": "markdown",
   "id": "470ff7fe",
   "metadata": {},
   "source": [
    "# Since p value >5% accept null hypothesis and conclude there is no statistical relation ship between Designation and Industry"
   ]
  },
  {
   "cell_type": "code",
   "execution_count": 83,
   "id": "d59986cf",
   "metadata": {},
   "outputs": [
    {
     "data": {
      "text/plain": [
       "<AxesSubplot:xlabel='Designation'>"
      ]
     },
     "execution_count": 83,
     "metadata": {},
     "output_type": "execute_result"
    },
    {
     "data": {
      "image/png": "[encoded data removed]",
      "text/plain": [
       "<Figure size 432x288 with 1 Axes>"
      ]
     },
     "metadata": {
      "needs_background": "light"
     },
     "output_type": "display_data"
    }
   ],
   "source": [
    "df_pivot = pd.pivot_table(df, index='Designation', columns='Industry', values='Burn Rate', aggfunc='sum')\n",
    "df_pivot.plot.bar(stacked=True, colormap='tab20')"
   ]
  },
  {
   "cell_type": "markdown",
   "id": "5505146f",
   "metadata": {},
   "source": [
    "# Designation Vs WFH Availablity"
   ]
  },
  {
   "cell_type": "code",
   "execution_count": 84,
   "id": "30c358ab",
   "metadata": {},
   "outputs": [
    {
     "data": {
      "text/html": [
       "<div>\n",
       "<style scoped>\n",
       "    .dataframe tbody tr th:only-of-type {\n",
       "        vertical-align: middle;\n",
       "    }\n",
       "\n",
       "    .dataframe tbody tr th {\n",
       "        vertical-align: top;\n",
       "    }\n",
       "\n",
       "    .dataframe thead th {\n",
       "        text-align: right;\n",
       "    }\n",
       "</style>\n",
       "<table border=\"1\" class=\"dataframe\">\n",
       "  <thead>\n",
       "    <tr style=\"text-align: right;\">\n",
       "      <th>WFH Available</th>\n",
       "      <th>No</th>\n",
       "      <th>Yes</th>\n",
       "      <th>All</th>\n",
       "    </tr>\n",
       "    <tr>\n",
       "      <th>Designation</th>\n",
       "      <th></th>\n",
       "      <th></th>\n",
       "      <th></th>\n",
       "    </tr>\n",
       "  </thead>\n",
       "  <tbody>\n",
       "    <tr>\n",
       "      <th>Level 0</th>\n",
       "      <td>1</td>\n",
       "      <td>2</td>\n",
       "      <td>3</td>\n",
       "    </tr>\n",
       "    <tr>\n",
       "      <th>Level 1</th>\n",
       "      <td>2</td>\n",
       "      <td>8</td>\n",
       "      <td>10</td>\n",
       "    </tr>\n",
       "    <tr>\n",
       "      <th>Level 2</th>\n",
       "      <td>5</td>\n",
       "      <td>7</td>\n",
       "      <td>12</td>\n",
       "    </tr>\n",
       "    <tr>\n",
       "      <th>Level 3</th>\n",
       "      <td>9919</td>\n",
       "      <td>11661</td>\n",
       "      <td>21580</td>\n",
       "    </tr>\n",
       "    <tr>\n",
       "      <th>Level 4</th>\n",
       "      <td>1</td>\n",
       "      <td>0</td>\n",
       "      <td>1</td>\n",
       "    </tr>\n",
       "    <tr>\n",
       "      <th>All</th>\n",
       "      <td>9928</td>\n",
       "      <td>11678</td>\n",
       "      <td>21606</td>\n",
       "    </tr>\n",
       "  </tbody>\n",
       "</table>\n",
       "</div>"
      ],
      "text/plain": [
       "WFH Available    No    Yes    All\n",
       "Designation                      \n",
       "Level 0           1      2      3\n",
       "Level 1           2      8     10\n",
       "Level 2           5      7     12\n",
       "Level 3        9919  11661  21580\n",
       "Level 4           1      0      1\n",
       "All            9928  11678  21606"
      ]
     },
     "execution_count": 84,
     "metadata": {},
     "output_type": "execute_result"
    }
   ],
   "source": [
    "tabledeswfh = pd.crosstab(df['Designation'],df['WFH Available'],margins = True)\n",
    "tabledeswfh"
   ]
  },
  {
   "cell_type": "code",
   "execution_count": 85,
   "id": "09765814",
   "metadata": {},
   "outputs": [],
   "source": [
    "from scipy.stats import chi2_contingency\n",
    "def chi_square(c1,c2):\n",
    "    chi_2, p_val, dof, exp_val = chi2_contingency(pd.crosstab(df[c1],df[c2],margins = False))# make sure margins = False\n",
    "    print(\"Expected values: \\n\")\n",
    "    print(exp_val)\n",
    "    print(f'\\nChi-square is : {chi_2}', f'\\n\\np_value is : {p_val}', f'\\n\\ndegree of freedom is :{dof}')\n",
    "    if exp_val.min()<10 : print(\"\\n********************************************\\nWarning :We have some small expected \\\n",
    "values\\n******************************************** \")\n",
    "    elif p_val < 0.05:# consider significan level is 5%\n",
    "        print(F\"\\nThere is statistiacally significant correlation between {c1} and {c2} at 0.05 significant level\")\n",
    "    else:\n",
    "        print(F\"\\nThere is no correlation between the two variables( we don't have enough evidence to conclude there is a a statistically significant relationship between {c1} and {c2}\")        \n"
   ]
  },
  {
   "cell_type": "code",
   "execution_count": 86,
   "id": "00e81f17",
   "metadata": {},
   "outputs": [
    {
     "name": "stdout",
     "output_type": "stream",
     "text": [
      "Expected values: \n",
      "\n",
      "[[1.37850597e+00 1.62149403e+00]\n",
      " [4.59501990e+00 5.40498010e+00]\n",
      " [5.51402388e+00 6.48597612e+00]\n",
      " [9.91605295e+03 1.16639471e+04]\n",
      " [4.59501990e-01 5.40498010e-01]]\n",
      "\n",
      "Chi-square is : 4.170267871281823 \n",
      "\n",
      "p_value is : 0.3834527534354617 \n",
      "\n",
      "degree of freedom is :4\n",
      "\n",
      "********************************************\n",
      "Warning :We have some small expected values\n",
      "******************************************** \n"
     ]
    }
   ],
   "source": [
    "chi_square('Designation','WFH Available')"
   ]
  },
  {
   "cell_type": "markdown",
   "id": "fbc31301",
   "metadata": {},
   "source": [
    "# Since p value >5% accept null hypothesis and conclude there is no statistical relation ship between Designation and WFH Availiability"
   ]
  },
  {
   "cell_type": "code",
   "execution_count": 120,
   "id": "10485f69",
   "metadata": {},
   "outputs": [
    {
     "data": {
      "image/png": "[encoded data removed]",
      "text/plain": [
       "<Figure size 432x288 with 1 Axes>"
      ]
     },
     "metadata": {
      "needs_background": "light"
     },
     "output_type": "display_data"
    }
   ],
   "source": [
    "# plot and add annotations\n",
    "p = sns.countplot(data=df, x='Designation', hue='WFH Available')\n",
    "p.legend(title='WFH Available', bbox_to_anchor=(1, 1), loc='upper left')\n",
    "p.set_yscale(\"log\")\n",
    "for c in p.containers:\n",
    "    # set the bar label\n",
    "    p.bar_label(c, fmt='%.0f', label_type='edge')"
   ]
  },
  {
   "cell_type": "markdown",
   "id": "922613d1",
   "metadata": {},
   "source": [
    "# What is the distribution of female and male employees in different type of industry?\n"
   ]
  },
  {
   "cell_type": "code",
   "execution_count": 88,
   "id": "b7bac0cb",
   "metadata": {},
   "outputs": [
    {
     "data": {
      "text/html": [
       "<div>\n",
       "<style scoped>\n",
       "    .dataframe tbody tr th:only-of-type {\n",
       "        vertical-align: middle;\n",
       "    }\n",
       "\n",
       "    .dataframe tbody tr th {\n",
       "        vertical-align: top;\n",
       "    }\n",
       "\n",
       "    .dataframe thead th {\n",
       "        text-align: right;\n",
       "    }\n",
       "</style>\n",
       "<table border=\"1\" class=\"dataframe\">\n",
       "  <thead>\n",
       "    <tr style=\"text-align: right;\">\n",
       "      <th>Industry</th>\n",
       "      <th>Product</th>\n",
       "      <th>Service</th>\n",
       "      <th>All</th>\n",
       "    </tr>\n",
       "    <tr>\n",
       "      <th>Gender</th>\n",
       "      <th></th>\n",
       "      <th></th>\n",
       "      <th></th>\n",
       "    </tr>\n",
       "  </thead>\n",
       "  <tbody>\n",
       "    <tr>\n",
       "      <th>Female</th>\n",
       "      <td>3873</td>\n",
       "      <td>7461</td>\n",
       "      <td>11334</td>\n",
       "    </tr>\n",
       "    <tr>\n",
       "      <th>Male</th>\n",
       "      <td>3624</td>\n",
       "      <td>6648</td>\n",
       "      <td>10272</td>\n",
       "    </tr>\n",
       "    <tr>\n",
       "      <th>All</th>\n",
       "      <td>7497</td>\n",
       "      <td>14109</td>\n",
       "      <td>21606</td>\n",
       "    </tr>\n",
       "  </tbody>\n",
       "</table>\n",
       "</div>"
      ],
      "text/plain": [
       "Industry  Product  Service    All\n",
       "Gender                           \n",
       "Female       3873     7461  11334\n",
       "Male         3624     6648  10272\n",
       "All          7497    14109  21606"
      ]
     },
     "execution_count": 88,
     "metadata": {},
     "output_type": "execute_result"
    }
   ],
   "source": [
    "tablegenind = pd.crosstab(df['Gender'],df['Industry'],margins = True)\n",
    "tablegenind "
   ]
  },
  {
   "cell_type": "code",
   "execution_count": 89,
   "id": "325465d7",
   "metadata": {
    "scrolled": true
   },
   "outputs": [
    {
     "name": "stdout",
     "output_type": "stream",
     "text": [
      "Expected values: \n",
      "\n",
      "[[3932.75006943 7401.24993057]\n",
      " [3564.24993057 6707.75006943]]\n",
      "\n",
      "Chi-square is : 2.8752716287444207 \n",
      "\n",
      "p_value is : 0.08994979653846542 \n",
      "\n",
      "degree of freedom is :1\n",
      "\n",
      "There is no correlation between the two variables( we don't have enough evidence to conclude there is a a statistically significant relationship between Gender and Industry\n"
     ]
    }
   ],
   "source": [
    "chi_square('Gender','Industry')"
   ]
  },
  {
   "cell_type": "markdown",
   "id": "5c10f43e",
   "metadata": {},
   "source": [
    "# Since p value >5% accept null hypothesis and conclude there is no statistical relation ship between Gender and Industry"
   ]
  },
  {
   "cell_type": "code",
   "execution_count": 281,
   "id": "4ee24df0",
   "metadata": {},
   "outputs": [
    {
     "data": {
      "image/png": "[encoded data removed]",
      "text/plain": [
       "<Figure size 720x576 with 1 Axes>"
      ]
     },
     "metadata": {},
     "output_type": "display_data"
    }
   ],
   "source": [
    "# plot and add annotations\n",
    "plt.figure(figsize=(10, 8))\n",
    "p = sns.countplot(data=df, x='Industry', hue='Gender',palette=\"muted\")\n",
    "p.legend(title='Gender', bbox_to_anchor=(1, 1), loc='upper left')\n",
    "plt.title('Diatribution of Gender Based on Industry')\n",
    "for c in p.containers:\n",
    "    # set the bar label\n",
    "    p.bar_label(c, fmt='%.0f', label_type='edge')"
   ]
  },
  {
   "cell_type": "markdown",
   "id": "35bb71ab",
   "metadata": {},
   "source": [
    "# Gender Vs WFH Availability"
   ]
  },
  {
   "cell_type": "code",
   "execution_count": 91,
   "id": "a3b2d9f9",
   "metadata": {},
   "outputs": [
    {
     "data": {
      "text/html": [
       "<div>\n",
       "<style scoped>\n",
       "    .dataframe tbody tr th:only-of-type {\n",
       "        vertical-align: middle;\n",
       "    }\n",
       "\n",
       "    .dataframe tbody tr th {\n",
       "        vertical-align: top;\n",
       "    }\n",
       "\n",
       "    .dataframe thead th {\n",
       "        text-align: right;\n",
       "    }\n",
       "</style>\n",
       "<table border=\"1\" class=\"dataframe\">\n",
       "  <thead>\n",
       "    <tr style=\"text-align: right;\">\n",
       "      <th>WFH Available</th>\n",
       "      <th>No</th>\n",
       "      <th>Yes</th>\n",
       "      <th>All</th>\n",
       "    </tr>\n",
       "    <tr>\n",
       "      <th>Gender</th>\n",
       "      <th></th>\n",
       "      <th></th>\n",
       "      <th></th>\n",
       "    </tr>\n",
       "  </thead>\n",
       "  <tbody>\n",
       "    <tr>\n",
       "      <th>Female</th>\n",
       "      <td>4811</td>\n",
       "      <td>6523</td>\n",
       "      <td>11334</td>\n",
       "    </tr>\n",
       "    <tr>\n",
       "      <th>Male</th>\n",
       "      <td>5117</td>\n",
       "      <td>5155</td>\n",
       "      <td>10272</td>\n",
       "    </tr>\n",
       "    <tr>\n",
       "      <th>All</th>\n",
       "      <td>9928</td>\n",
       "      <td>11678</td>\n",
       "      <td>21606</td>\n",
       "    </tr>\n",
       "  </tbody>\n",
       "</table>\n",
       "</div>"
      ],
      "text/plain": [
       "WFH Available    No    Yes    All\n",
       "Gender                           \n",
       "Female         4811   6523  11334\n",
       "Male           5117   5155  10272\n",
       "All            9928  11678  21606"
      ]
     },
     "execution_count": 91,
     "metadata": {},
     "output_type": "execute_result"
    }
   ],
   "source": [
    "tablegenwfh = pd.crosstab(df['Gender'],df['WFH Available'],margins = True)\n",
    "tablegenwfh "
   ]
  },
  {
   "cell_type": "code",
   "execution_count": 92,
   "id": "f7982f52",
   "metadata": {},
   "outputs": [
    {
     "name": "stdout",
     "output_type": "stream",
     "text": [
      "Expected values: \n",
      "\n",
      "[[5207.99555679 6126.00444321]\n",
      " [4720.00444321 5551.99555679]]\n",
      "\n",
      "Chi-square is : 117.47117332846715 \n",
      "\n",
      "p_value is : 2.2636629379549866e-27 \n",
      "\n",
      "degree of freedom is :1\n",
      "\n",
      "There is statistiacally significant correlation between Gender and WFH Available at 0.05 significant level\n"
     ]
    }
   ],
   "source": [
    "chi_square('Gender','WFH Available')"
   ]
  },
  {
   "cell_type": "markdown",
   "id": "79377723",
   "metadata": {},
   "source": [
    "# Since p value <5% reject null hypothesis and conclude There is statistiacally significant correlation between Gender and WFH Availablity at 0.05 significant level"
   ]
  },
  {
   "cell_type": "code",
   "execution_count": 283,
   "id": "5ab88b3c",
   "metadata": {},
   "outputs": [
    {
     "data": {
      "text/plain": [
       "<AxesSubplot:xlabel='Gender'>"
      ]
     },
     "execution_count": 283,
     "metadata": {},
     "output_type": "execute_result"
    },
    {
     "data": {
      "image/png": "[encoded data removed]",
      "text/plain": [
       "<Figure size 432x288 with 1 Axes>"
      ]
     },
     "metadata": {},
     "output_type": "display_data"
    }
   ],
   "source": [
    "df_pivot = pd.pivot_table(df, index='Gender', columns='WFH Available', values='Burn Rate', aggfunc='sum')\n",
    "df_pivot.plot.bar(stacked=True, colormap='tab20')"
   ]
  },
  {
   "cell_type": "markdown",
   "id": "10ff3b42",
   "metadata": {},
   "source": [
    "# Which type of industry provide more work from home option for their employees? "
   ]
  },
  {
   "cell_type": "code",
   "execution_count": 94,
   "id": "10b2f201",
   "metadata": {},
   "outputs": [
    {
     "data": {
      "text/html": [
       "<div>\n",
       "<style scoped>\n",
       "    .dataframe tbody tr th:only-of-type {\n",
       "        vertical-align: middle;\n",
       "    }\n",
       "\n",
       "    .dataframe tbody tr th {\n",
       "        vertical-align: top;\n",
       "    }\n",
       "\n",
       "    .dataframe thead th {\n",
       "        text-align: right;\n",
       "    }\n",
       "</style>\n",
       "<table border=\"1\" class=\"dataframe\">\n",
       "  <thead>\n",
       "    <tr style=\"text-align: right;\">\n",
       "      <th>WFH Available</th>\n",
       "      <th>No</th>\n",
       "      <th>Yes</th>\n",
       "      <th>All</th>\n",
       "    </tr>\n",
       "    <tr>\n",
       "      <th>Industry</th>\n",
       "      <th></th>\n",
       "      <th></th>\n",
       "      <th></th>\n",
       "    </tr>\n",
       "  </thead>\n",
       "  <tbody>\n",
       "    <tr>\n",
       "      <th>Product</th>\n",
       "      <td>3462</td>\n",
       "      <td>4035</td>\n",
       "      <td>7497</td>\n",
       "    </tr>\n",
       "    <tr>\n",
       "      <th>Service</th>\n",
       "      <td>6466</td>\n",
       "      <td>7643</td>\n",
       "      <td>14109</td>\n",
       "    </tr>\n",
       "    <tr>\n",
       "      <th>All</th>\n",
       "      <td>9928</td>\n",
       "      <td>11678</td>\n",
       "      <td>21606</td>\n",
       "    </tr>\n",
       "  </tbody>\n",
       "</table>\n",
       "</div>"
      ],
      "text/plain": [
       "WFH Available    No    Yes    All\n",
       "Industry                         \n",
       "Product        3462   4035   7497\n",
       "Service        6466   7643  14109\n",
       "All            9928  11678  21606"
      ]
     },
     "execution_count": 94,
     "metadata": {},
     "output_type": "execute_result"
    }
   ],
   "source": [
    "tableinwfh = pd.crosstab(df['Industry'],df['WFH Available'],margins = True)\n",
    "tableinwfh "
   ]
  },
  {
   "cell_type": "code",
   "execution_count": 90,
   "id": "74f79369",
   "metadata": {},
   "outputs": [
    {
     "name": "stdout",
     "output_type": "stream",
     "text": [
      "Expected values: \n",
      "\n",
      "[[3226.93058835 3800.06941165]\n",
      " [6108.06941165 7192.93058835]]\n",
      "\n",
      "Chi-square is : 0.005781846217908308 \n",
      "\n",
      "p_value is : 0.9393885062788809 \n",
      "\n",
      "degree of freedom is :1\n",
      "\n",
      "There is no correlation between the two variables( we don't have enough evidence to conclude there is a a statistically significant relationship between Industry and WFH Available\n"
     ]
    }
   ],
   "source": [
    "chi_square('Industry','WFH Available')"
   ]
  },
  {
   "cell_type": "markdown",
   "id": "708a518d",
   "metadata": {},
   "source": [
    "# Since P value >0.05 ,There is no correlation between the two variables( we don't have enough evidence to conclude there is a a statistically significant relationship between Industry and WFH Availablity"
   ]
  },
  {
   "cell_type": "code",
   "execution_count": 290,
   "id": "80fd08ef",
   "metadata": {},
   "outputs": [
    {
     "data": {
      "image/png": "[encoded data removed]",
      "text/plain": [
       "<Figure size 720x576 with 1 Axes>"
      ]
     },
     "metadata": {},
     "output_type": "display_data"
    }
   ],
   "source": [
    "# plot and add annotations\n",
    "plt.figure(figsize=(10, 8))\n",
    "p = sns.countplot(data=df, x='Industry', hue='WFH Available')\n",
    "p.legend(title='WFH Available', bbox_to_anchor=(1, 1), loc='upper left')\n",
    "plt.title('Distribution of Work From Home Availability Based on Industry')\n",
    "for c in p.containers:\n",
    "    # set the bar label\n",
    "    p.bar_label(c, fmt='%.0f', label_type='edge')"
   ]
  },
  {
   "cell_type": "markdown",
   "id": "27f4e0fa",
   "metadata": {},
   "source": [
    "# Continous Vs Categorical"
   ]
  },
  {
   "cell_type": "markdown",
   "id": "f3e61e2b",
   "metadata": {},
   "source": [
    "# How does work from home affect burn rate of employees?"
   ]
  },
  {
   "cell_type": "markdown",
   "id": "47d3debc",
   "metadata": {},
   "source": [
    "# summarization"
   ]
  },
  {
   "cell_type": "code",
   "execution_count": 96,
   "id": "d505f798",
   "metadata": {},
   "outputs": [
    {
     "data": {
      "text/html": [
       "<div>\n",
       "<style scoped>\n",
       "    .dataframe tbody tr th:only-of-type {\n",
       "        vertical-align: middle;\n",
       "    }\n",
       "\n",
       "    .dataframe tbody tr th {\n",
       "        vertical-align: top;\n",
       "    }\n",
       "\n",
       "    .dataframe thead th {\n",
       "        text-align: right;\n",
       "    }\n",
       "</style>\n",
       "<table border=\"1\" class=\"dataframe\">\n",
       "  <thead>\n",
       "    <tr style=\"text-align: right;\">\n",
       "      <th></th>\n",
       "      <th>Burn Rate</th>\n",
       "    </tr>\n",
       "    <tr>\n",
       "      <th>WFH Available</th>\n",
       "      <th></th>\n",
       "    </tr>\n",
       "  </thead>\n",
       "  <tbody>\n",
       "    <tr>\n",
       "      <th>No</th>\n",
       "      <td>51.719682</td>\n",
       "    </tr>\n",
       "    <tr>\n",
       "      <th>Yes</th>\n",
       "      <td>39.567220</td>\n",
       "    </tr>\n",
       "  </tbody>\n",
       "</table>\n",
       "</div>"
      ],
      "text/plain": [
       "               Burn Rate\n",
       "WFH Available           \n",
       "No             51.719682\n",
       "Yes            39.567220"
      ]
     },
     "execution_count": 96,
     "metadata": {},
     "output_type": "execute_result"
    }
   ],
   "source": [
    "df.groupby(['WFH Available']).agg({'Burn Rate':'mean'})"
   ]
  },
  {
   "cell_type": "code",
   "execution_count": 97,
   "id": "871f2498",
   "metadata": {},
   "outputs": [
    {
     "data": {
      "text/html": [
       "<div>\n",
       "<style scoped>\n",
       "    .dataframe tbody tr th:only-of-type {\n",
       "        vertical-align: middle;\n",
       "    }\n",
       "\n",
       "    .dataframe tbody tr th {\n",
       "        vertical-align: top;\n",
       "    }\n",
       "\n",
       "    .dataframe thead tr th {\n",
       "        text-align: left;\n",
       "    }\n",
       "\n",
       "    .dataframe thead tr:last-of-type th {\n",
       "        text-align: right;\n",
       "    }\n",
       "</style>\n",
       "<table border=\"1\" class=\"dataframe\">\n",
       "  <thead>\n",
       "    <tr>\n",
       "      <th></th>\n",
       "      <th colspan=\"8\" halign=\"left\">Burn Rate</th>\n",
       "    </tr>\n",
       "    <tr>\n",
       "      <th></th>\n",
       "      <th>count</th>\n",
       "      <th>mean</th>\n",
       "      <th>std</th>\n",
       "      <th>min</th>\n",
       "      <th>25%</th>\n",
       "      <th>50%</th>\n",
       "      <th>75%</th>\n",
       "      <th>max</th>\n",
       "    </tr>\n",
       "    <tr>\n",
       "      <th>WFH Available</th>\n",
       "      <th></th>\n",
       "      <th></th>\n",
       "      <th></th>\n",
       "      <th></th>\n",
       "      <th></th>\n",
       "      <th></th>\n",
       "      <th></th>\n",
       "      <th></th>\n",
       "    </tr>\n",
       "  </thead>\n",
       "  <tbody>\n",
       "    <tr>\n",
       "      <th>No</th>\n",
       "      <td>9928.0</td>\n",
       "      <td>51.719682</td>\n",
       "      <td>19.601554</td>\n",
       "      <td>0.0</td>\n",
       "      <td>39.0</td>\n",
       "      <td>54.0</td>\n",
       "      <td>65.0</td>\n",
       "      <td>100.0</td>\n",
       "    </tr>\n",
       "    <tr>\n",
       "      <th>Yes</th>\n",
       "      <td>11678.0</td>\n",
       "      <td>39.567220</td>\n",
       "      <td>18.222956</td>\n",
       "      <td>0.0</td>\n",
       "      <td>28.0</td>\n",
       "      <td>39.0</td>\n",
       "      <td>49.0</td>\n",
       "      <td>100.0</td>\n",
       "    </tr>\n",
       "  </tbody>\n",
       "</table>\n",
       "</div>"
      ],
      "text/plain": [
       "              Burn Rate                                                    \n",
       "                  count       mean        std  min   25%   50%   75%    max\n",
       "WFH Available                                                              \n",
       "No               9928.0  51.719682  19.601554  0.0  39.0  54.0  65.0  100.0\n",
       "Yes             11678.0  39.567220  18.222956  0.0  28.0  39.0  49.0  100.0"
      ]
     },
     "execution_count": 97,
     "metadata": {},
     "output_type": "execute_result"
    }
   ],
   "source": [
    "df.groupby(['WFH Available']).agg({'Burn Rate':'describe'})"
   ]
  },
  {
   "cell_type": "markdown",
   "id": "8a3ad1a2",
   "metadata": {},
   "source": [
    "# Subsetting Data\n",
    "Splitting categorical variable ( WFH Available) in to 2 levels(Available and Not_Available) and creating two different datasets \n"
   ]
  },
  {
   "cell_type": "code",
   "execution_count": 101,
   "id": "f959cd41",
   "metadata": {},
   "outputs": [],
   "source": [
    "Available=df[(df['WFH Available']=='Yes')]\n",
    "Not_Available=df[(df['WFH Available']=='No')]"
   ]
  },
  {
   "cell_type": "markdown",
   "id": "2661d18a",
   "metadata": {},
   "source": [
    "# Checking Assumptions"
   ]
  },
  {
   "cell_type": "markdown",
   "id": "9183e74d",
   "metadata": {},
   "source": [
    "#Now checking for assumptions before proceeding \n",
    "\n",
    "\n",
    "Assumption 1: Are the two samples independent?\n",
    "Assumption 2: No extreme outliers\n",
    "Assumption 3: Are the data from each of the 2 groups following a normal distribution?\n",
    "Assumption 4: Do the two samples have the same variances (Homogeneity of Variance)?\n"
   ]
  },
  {
   "cell_type": "markdown",
   "id": "5c64a3f0",
   "metadata": {},
   "source": [
    "# Assumption 1\n",
    "first check if two groups are independent  \n",
    "just check by seeing the groups WFH Available and WFH Not_Available"
   ]
  },
  {
   "cell_type": "code",
   "execution_count": null,
   "id": "69b5fb63",
   "metadata": {},
   "outputs": [],
   "source": [
    "they are independant variables "
   ]
  },
  {
   "cell_type": "markdown",
   "id": "db3299da",
   "metadata": {},
   "source": [
    "# Assumption 2\n",
    "Check if two groups have any extreme outliers(this is done by plotting a grouped box plot of categorical and continous variables we are comparing)\n"
   ]
  },
  {
   "cell_type": "code",
   "execution_count": 99,
   "id": "96d07d5c",
   "metadata": {},
   "outputs": [
    {
     "data": {
      "image/png": "[encoded data removed]",
      "text/plain": [
       "<Figure size 432x288 with 1 Axes>"
      ]
     },
     "metadata": {
      "needs_background": "light"
     },
     "output_type": "display_data"
    }
   ],
   "source": [
    "ax = sns.boxplot(x='WFH Available', y='Burn Rate', data=df)"
   ]
  },
  {
   "cell_type": "code",
   "execution_count": 103,
   "id": "904d52ec",
   "metadata": {},
   "outputs": [
    {
     "data": {
      "text/plain": [
       "Joining Date            datetime64[ns]\n",
       "Gender                          object\n",
       "Industry                        object\n",
       "WFH Available                   object\n",
       "Designations                     int64\n",
       "Resource Allocation            float64\n",
       "Mental Fatigue Score           float64\n",
       "Burn Rate                        int64\n",
       "year                             int64\n",
       "month                           object\n",
       "Designation                     object\n",
       "Burn Rate Segment               object\n",
       "Days_in_Company                  int64\n",
       "dtype: object"
      ]
     },
     "execution_count": 103,
     "metadata": {},
     "output_type": "execute_result"
    }
   ],
   "source": [
    "df.dtypes"
   ]
  },
  {
   "cell_type": "code",
   "execution_count": null,
   "id": "ffd6b706",
   "metadata": {},
   "outputs": [],
   "source": [
    "Here they dont have any extreme outliers "
   ]
  },
  {
   "cell_type": "markdown",
   "id": "98558c61",
   "metadata": {},
   "source": [
    "# Assumption 3\n",
    "\n",
    "We check normality by doing normality tests \n",
    "Some of the commonly used normality tests are shapiro-wilk, de agostino,Anderson Darling, kolmogrov-smirnov test\n",
    "\n",
    "We can also rely on central limit theorem if sample size is large enough (n>30)\n",
    "\n",
    " Else check for normality using shapiro wilk test for both the subsetted groups separately\n"
   ]
  },
  {
   "cell_type": "code",
   "execution_count": 113,
   "id": "c1e17fa2",
   "metadata": {},
   "outputs": [
    {
     "data": {
      "text/plain": [
       "ShapiroResult(statistic=0.9902606010437012, pvalue=1.881988889741069e-27)"
      ]
     },
     "execution_count": 113,
     "metadata": {},
     "output_type": "execute_result"
    }
   ],
   "source": [
    "import scipy.stats as stats\n",
    "\n",
    "stats.shapiro(Available['Burn Rate'])"
   ]
  },
  {
   "cell_type": "code",
   "execution_count": 114,
   "id": "0b51e89e",
   "metadata": {},
   "outputs": [
    {
     "data": {
      "text/plain": [
       "ShapiroResult(statistic=0.9873746633529663, pvalue=9.096341062889017e-29)"
      ]
     },
     "execution_count": 114,
     "metadata": {},
     "output_type": "execute_result"
    }
   ],
   "source": [
    "stats.shapiro(Not_Available['Burn Rate'])"
   ]
  },
  {
   "cell_type": "markdown",
   "id": "a06ec794",
   "metadata": {},
   "source": [
    "Here for both groups p value< 5% hence we reject null hypothesis and data is not normally distributed.\n",
    "But as our sample size is greater than 30 we assume data to be normally distributed based on central limit theorem"
   ]
  },
  {
   "cell_type": "markdown",
   "id": "0598b7ee",
   "metadata": {},
   "source": [
    "# Assumption 4\n",
    "\n",
    "Checking the homogeneaty or equality of variance between two groups\n",
    "Here i am using Levenes test to test if two groups have equality of variance "
   ]
  },
  {
   "cell_type": "code",
   "execution_count": 107,
   "id": "99bc6bb8",
   "metadata": {},
   "outputs": [
    {
     "data": {
      "text/plain": [
       "LeveneResult(statistic=39.66981924140991, pvalue=3.065353149740305e-10)"
      ]
     },
     "execution_count": 107,
     "metadata": {},
     "output_type": "execute_result"
    }
   ],
   "source": [
    "stats.levene(Available[\"Burn Rate\"], Not_Available[\"Burn Rate\"])"
   ]
  },
  {
   "cell_type": "raw",
   "id": "740222cb",
   "metadata": {},
   "source": [
    "p value< 5% hence we reject null hypothesis the data does not have equal variance  "
   ]
  },
  {
   "cell_type": "markdown",
   "id": "ff9fe332",
   "metadata": {},
   "source": [
    "# As the data is independent, assumed to be normal but dont have equal variance we will go for Welch t test "
   ]
  },
  {
   "cell_type": "code",
   "execution_count": 108,
   "id": "de609d9e",
   "metadata": {},
   "outputs": [
    {
     "data": {
      "text/plain": [
       "Ttest_indResult(statistic=-46.90120471391753, pvalue=0.0)"
      ]
     },
     "execution_count": 108,
     "metadata": {},
     "output_type": "execute_result"
    }
   ],
   "source": [
    "stats.ttest_ind(Available[\"Burn Rate\"], Not_Available[\"Burn Rate\"], equal_var=False)"
   ]
  },
  {
   "cell_type": "code",
   "execution_count": 139,
   "id": "d6facf72",
   "metadata": {},
   "outputs": [
    {
     "name": "stdout",
     "output_type": "stream",
     "text": [
      "Reject Null Hypothesis\n"
     ]
    }
   ],
   "source": [
    "alpha = 0.05\n",
    "statistic , p_value = stats.ttest_ind(Available['Burn Rate'],Not_Available['Burn Rate'])\n",
    "if p_value > alpha:\n",
    "    print(f'Fail to reject Null Hypothesis p-value is {p_value}')\n",
    "else:\n",
    "    print('Reject Null Hypothesis')"
   ]
  },
  {
   "cell_type": "code",
   "execution_count": 232,
   "id": "2e3ef0f4",
   "metadata": {},
   "outputs": [
    {
     "data": {
      "text/plain": [
       "Text(0.5, 1.0, 'Relation Between Work From Home Availabily and Burn Rate')"
      ]
     },
     "execution_count": 232,
     "metadata": {},
     "output_type": "execute_result"
    },
    {
     "data": {
      "image/png": "[encoded data removed]",
      "text/plain": [
       "<Figure size 1152x432 with 1 Axes>"
      ]
     },
     "metadata": {},
     "output_type": "display_data"
    }
   ],
   "source": [
    "\n",
    "plt.figure(figsize=(16, 6))\n",
    "sns.set_theme( palette=\"pastel\")\n",
    "sns.barplot(x=\"WFH Available\", y=\"Burn Rate\",\n",
    "            hue=\"Gender\", \n",
    "            data=df,ci=None)\n",
    "sns.despine(offset=15, trim=True)\n",
    "plt.title('Relation Between Work From Home Availabily and Burn Rate')"
   ]
  },
  {
   "cell_type": "markdown",
   "id": "acc4e7e8",
   "metadata": {},
   "source": [
    "# WFH Availability Vs Mental Fatigue Score"
   ]
  },
  {
   "cell_type": "code",
   "execution_count": null,
   "id": "1ca5c314",
   "metadata": {},
   "outputs": [],
   "source": [
    "Available=df[(df['WFH Available']=='Yes')]\n",
    "Not_Available=df[(df['WFH Available']=='No')]"
   ]
  },
  {
   "cell_type": "markdown",
   "id": "6497c62e",
   "metadata": {},
   "source": [
    "# Assumption 1\n",
    "first check if two groups are independent\n",
    "just check by seeing the groups WFH Available and WFH Not_Available"
   ]
  },
  {
   "cell_type": "code",
   "execution_count": null,
   "id": "64de53be",
   "metadata": {},
   "outputs": [],
   "source": [
    "they are independant variables "
   ]
  },
  {
   "cell_type": "markdown",
   "id": "f1b42e4d",
   "metadata": {},
   "source": [
    "# Assumption 2\n",
    "Check if two groups have any extreme outliers(this is done by plotting a grouped box plot of categorical and continous variables we are comparing)"
   ]
  },
  {
   "cell_type": "code",
   "execution_count": 140,
   "id": "dd8f6a01",
   "metadata": {},
   "outputs": [
    {
     "data": {
      "image/png": "[encoded data removed]",
      "text/plain": [
       "<Figure size 432x288 with 1 Axes>"
      ]
     },
     "metadata": {
      "needs_background": "light"
     },
     "output_type": "display_data"
    }
   ],
   "source": [
    "ax = sns.boxplot(x='WFH Available', y='Mental Fatigue Score', data=df)"
   ]
  },
  {
   "cell_type": "code",
   "execution_count": null,
   "id": "f5805b96",
   "metadata": {},
   "outputs": [],
   "source": [
    "Here they dont have any extreme outliers "
   ]
  },
  {
   "cell_type": "markdown",
   "id": "17aaad59",
   "metadata": {},
   "source": [
    "# Assumption 3\n",
    "We check normality by doing normality tests Some of the commonly used normality tests are shapiro-wilk, de agostino,Anderson Darling, kolmogrov-smirnov test\n",
    "\n",
    "We can also rely on central limit theorem if sample size is large enough (n>30)\n",
    "\n",
    "Else check for normality using shapiro wilk test for both the subsetted groups separately"
   ]
  },
  {
   "cell_type": "code",
   "execution_count": 104,
   "id": "c254b0fc",
   "metadata": {},
   "outputs": [
    {
     "data": {
      "text/plain": [
       "ShapiroResult(statistic=0.9822758436203003, pvalue=1.2862719225136036e-35)"
      ]
     },
     "execution_count": 104,
     "metadata": {},
     "output_type": "execute_result"
    }
   ],
   "source": [
    "import scipy.stats as stats\n",
    "\n",
    "stats.shapiro(Available['Mental Fatigue Score'])\n"
   ]
  },
  {
   "cell_type": "code",
   "execution_count": 105,
   "id": "2673c44e",
   "metadata": {},
   "outputs": [
    {
     "data": {
      "text/plain": [
       "ShapiroResult(statistic=0.969451367855072, pvalue=1.9698052513013954e-41)"
      ]
     },
     "execution_count": 105,
     "metadata": {},
     "output_type": "execute_result"
    }
   ],
   "source": [
    "stats.shapiro(Not_Available['Mental Fatigue Score'])"
   ]
  },
  {
   "cell_type": "markdown",
   "id": "17045d43",
   "metadata": {},
   "source": [
    "Here for both groups p value< 5% hence we reject null hypothesis and data is not normally distributed.\n",
    "But as our sample size is greater than 30 we assume data to be normally distributed based on central limit theorem"
   ]
  },
  {
   "cell_type": "markdown",
   "id": "ac591986",
   "metadata": {},
   "source": [
    "# Assumption 4\n",
    "Checking the homogeneaty or equality of variance between two groups Here i am using Levenes test to test if two groups have equality of variance"
   ]
  },
  {
   "cell_type": "code",
   "execution_count": 146,
   "id": "3b97162d",
   "metadata": {},
   "outputs": [
    {
     "data": {
      "text/plain": [
       "LeveneResult(statistic=8.087017317644577, pvalue=0.0044627957230387975)"
      ]
     },
     "execution_count": 146,
     "metadata": {},
     "output_type": "execute_result"
    }
   ],
   "source": [
    "stats.levene(Available[\"Mental Fatigue Score\"], Not_Available[\"Mental Fatigue Score\"])"
   ]
  },
  {
   "cell_type": "code",
   "execution_count": null,
   "id": "55f3bbee",
   "metadata": {},
   "outputs": [],
   "source": [
    "p value< 5% hence we reject null hypothesis the data does not have equal variance"
   ]
  },
  {
   "cell_type": "markdown",
   "id": "7cd4aa16",
   "metadata": {},
   "source": [
    "# T Test for test of independancy"
   ]
  },
  {
   "cell_type": "code",
   "execution_count": 147,
   "id": "286b6ddc",
   "metadata": {},
   "outputs": [
    {
     "data": {
      "text/plain": [
       "Ttest_indResult(statistic=-39.175509286169614, pvalue=0.0)"
      ]
     },
     "execution_count": 147,
     "metadata": {},
     "output_type": "execute_result"
    }
   ],
   "source": [
    "stats.ttest_ind(Available[\"Mental Fatigue Score\"], Not_Available[\"Mental Fatigue Score\"], equal_var=False)"
   ]
  },
  {
   "cell_type": "code",
   "execution_count": 148,
   "id": "2bed85b4",
   "metadata": {},
   "outputs": [
    {
     "name": "stdout",
     "output_type": "stream",
     "text": [
      "Reject Null Hypothesis\n"
     ]
    }
   ],
   "source": [
    "alpha = 0.05\n",
    "statistic , p_value = stats.ttest_ind(Available['Burn Rate'],Not_Available['Burn Rate'])\n",
    "if p_value > alpha:\n",
    "    print(f'Fail to reject Null Hypothesis p-value is {p_value}')\n",
    "else:\n",
    "    print('Reject Null Hypothesis')"
   ]
  },
  {
   "cell_type": "markdown",
   "id": "cf487a5a",
   "metadata": {},
   "source": [
    "# WFH Availability Vs Resource Allocation"
   ]
  },
  {
   "cell_type": "markdown",
   "id": "e79a511d",
   "metadata": {},
   "source": [
    "# Assumption 1\n",
    "first check if two groups are independent just check by seeing the groups WFH Available and WFH Not_Available"
   ]
  },
  {
   "cell_type": "code",
   "execution_count": null,
   "id": "536addae",
   "metadata": {},
   "outputs": [],
   "source": [
    "Two group are independant "
   ]
  },
  {
   "cell_type": "markdown",
   "id": "e322d563",
   "metadata": {},
   "source": [
    "# Assumption 2\n",
    "Check if two groups have any extreme outliers(this is done by plotting a grouped box plot of categorical and continous variables we are comparing)"
   ]
  },
  {
   "cell_type": "code",
   "execution_count": 149,
   "id": "4b01bd4e",
   "metadata": {},
   "outputs": [
    {
     "data": {
      "image/png": "[encoded data removed]",
      "text/plain": [
       "<Figure size 432x288 with 1 Axes>"
      ]
     },
     "metadata": {
      "needs_background": "light"
     },
     "output_type": "display_data"
    }
   ],
   "source": [
    "ax = sns.boxplot(x='WFH Available', y='Resource Allocation', data=df)"
   ]
  },
  {
   "cell_type": "markdown",
   "id": "b368c167",
   "metadata": {},
   "source": [
    "There is no extreme outliers"
   ]
  },
  {
   "cell_type": "markdown",
   "id": "fad00320",
   "metadata": {},
   "source": [
    "# Assumption 3\n",
    "We check normality by doing normality tests Some of the commonly used normality tests are shapiro-wilk, de agostino,Anderson Darling, kolmogrov-smirnov test\n",
    "\n",
    "We can also rely on central limit theorem if sample size is large enough (n>30)\n",
    "\n",
    "Else check for normality using shapiro wilk test for both the subsetted groups separately"
   ]
  },
  {
   "cell_type": "code",
   "execution_count": 150,
   "id": "0dc69f31",
   "metadata": {},
   "outputs": [
    {
     "data": {
      "text/plain": [
       "ShapiroResult(statistic=0.9533918499946594, pvalue=0.0)"
      ]
     },
     "execution_count": 150,
     "metadata": {},
     "output_type": "execute_result"
    }
   ],
   "source": [
    "import scipy.stats as stats\n",
    "\n",
    "stats.shapiro(Available['Resource Allocation'])\n"
   ]
  },
  {
   "cell_type": "code",
   "execution_count": 151,
   "id": "1291bcc0",
   "metadata": {},
   "outputs": [
    {
     "data": {
      "text/plain": [
       "ShapiroResult(statistic=0.9693765640258789, pvalue=1.6478989680766984e-40)"
      ]
     },
     "execution_count": 151,
     "metadata": {},
     "output_type": "execute_result"
    }
   ],
   "source": [
    "stats.shapiro(Not_Available['Resource Allocation'])"
   ]
  },
  {
   "cell_type": "markdown",
   "id": "d8b609f0",
   "metadata": {},
   "source": [
    "Here for both groups p value< 5% hence we reject null hypothesis and data is not normally distributed.\n",
    "But as our sample size is greater than 30 we assume data to be normally distributed based on central limit theorem"
   ]
  },
  {
   "cell_type": "markdown",
   "id": "bb7d29aa",
   "metadata": {},
   "source": [
    "# Assumption 4\n",
    "Checking the homogeneaty or equality of variance between two groups Here i am using Levenes test to test if two groups have equality of variance"
   ]
  },
  {
   "cell_type": "code",
   "execution_count": 152,
   "id": "556d5769",
   "metadata": {},
   "outputs": [
    {
     "data": {
      "text/plain": [
       "LeveneResult(statistic=63.8033646558152, pvalue=1.4474729064800757e-15)"
      ]
     },
     "execution_count": 152,
     "metadata": {},
     "output_type": "execute_result"
    }
   ],
   "source": [
    "stats.levene(Available[\"Resource Allocation\"], Not_Available[\"Resource Allocation\"])"
   ]
  },
  {
   "cell_type": "markdown",
   "id": "bc5df99b",
   "metadata": {},
   "source": [
    "p value< 5% hence we reject null hypothesis the data does not have equal variance"
   ]
  },
  {
   "cell_type": "markdown",
   "id": "248f6076",
   "metadata": {},
   "source": [
    "# T Test for test of independancy"
   ]
  },
  {
   "cell_type": "code",
   "execution_count": 153,
   "id": "caeb92fb",
   "metadata": {},
   "outputs": [
    {
     "data": {
      "text/plain": [
       "Ttest_indResult(statistic=-42.26413257178668, pvalue=0.0)"
      ]
     },
     "execution_count": 153,
     "metadata": {},
     "output_type": "execute_result"
    }
   ],
   "source": [
    "stats.ttest_ind(Available[\"Resource Allocation\"], Not_Available[\"Resource Allocation\"], equal_var=False)"
   ]
  },
  {
   "cell_type": "code",
   "execution_count": 154,
   "id": "dce22bd4",
   "metadata": {},
   "outputs": [
    {
     "name": "stdout",
     "output_type": "stream",
     "text": [
      "Reject Null Hypothesis\n"
     ]
    }
   ],
   "source": [
    "alpha = 0.05\n",
    "statistic , p_value = stats.ttest_ind(Available['Burn Rate'],Not_Available['Burn Rate'])\n",
    "if p_value > alpha:\n",
    "    print(f'Fail to reject Null Hypothesis p-value is {p_value}')\n",
    "else:\n",
    "    print('Reject Null Hypothesis')"
   ]
  },
  {
   "cell_type": "markdown",
   "id": "11d35ecd",
   "metadata": {},
   "source": [
    "# Industry Vs Resource Allocation"
   ]
  },
  {
   "cell_type": "code",
   "execution_count": 111,
   "id": "7e7fc953",
   "metadata": {},
   "outputs": [],
   "source": [
    "Service=df[(df['Industry']=='Service')]\n",
    "Product=df[(df['Industry']=='Product')]"
   ]
  },
  {
   "cell_type": "markdown",
   "id": "fdc436aa",
   "metadata": {},
   "source": [
    "# Assumption 1\n",
    "first check if two groups are independent just check by seeing the groups WFH Available and WFH Not_Available"
   ]
  },
  {
   "cell_type": "code",
   "execution_count": null,
   "id": "cd9ab0b6",
   "metadata": {},
   "outputs": [],
   "source": [
    "Groups are independant"
   ]
  },
  {
   "cell_type": "markdown",
   "id": "7a89a9b8",
   "metadata": {},
   "source": [
    "# Assumption 2\n",
    "Check if two groups have any extreme outliers(this is done by plotting a grouped box plot of categorical and continous variables we are comparing)"
   ]
  },
  {
   "cell_type": "code",
   "execution_count": 157,
   "id": "8f5e951f",
   "metadata": {},
   "outputs": [
    {
     "data": {
      "image/png": "[encoded data removed]",
      "text/plain": [
       "<Figure size 432x288 with 1 Axes>"
      ]
     },
     "metadata": {
      "needs_background": "light"
     },
     "output_type": "display_data"
    }
   ],
   "source": [
    "ax = sns.boxplot(x='Industry', y='Resource Allocation', data=df)"
   ]
  },
  {
   "cell_type": "code",
   "execution_count": null,
   "id": "ff2c11e6",
   "metadata": {},
   "outputs": [],
   "source": [
    "No extreme outliers "
   ]
  },
  {
   "cell_type": "markdown",
   "id": "37c820ca",
   "metadata": {},
   "source": [
    "# Assumption 3\n",
    "We check normality by doing normality tests Some of the commonly used normality tests are shapiro-wilk, de agostino,Anderson Darling, kolmogrov-smirnov test\n",
    "\n",
    "We can also rely on central limit theorem if sample size is large enough (n>30)\n",
    "\n",
    "Else check for normality using shapiro wilk test for both the subsetted groups separately"
   ]
  },
  {
   "cell_type": "code",
   "execution_count": 159,
   "id": "8e21034a",
   "metadata": {},
   "outputs": [
    {
     "data": {
      "text/plain": [
       "ShapiroResult(statistic=0.9659622311592102, pvalue=0.0)"
      ]
     },
     "execution_count": 159,
     "metadata": {},
     "output_type": "execute_result"
    }
   ],
   "source": [
    "import scipy.stats as stats\n",
    "\n",
    "stats.shapiro(Service['Resource Allocation'])\n"
   ]
  },
  {
   "cell_type": "code",
   "execution_count": 160,
   "id": "f537e668",
   "metadata": {},
   "outputs": [
    {
     "data": {
      "text/plain": [
       "ShapiroResult(statistic=0.9652226567268372, pvalue=4.4067479191894975e-38)"
      ]
     },
     "execution_count": 160,
     "metadata": {},
     "output_type": "execute_result"
    }
   ],
   "source": [
    "stats.shapiro(Product['Resource Allocation'])"
   ]
  },
  {
   "cell_type": "markdown",
   "id": "70ad5b21",
   "metadata": {},
   "source": [
    "Here for both groups p value< 5% hence we reject null hypothesis and data is not normally distributed.\n",
    "But as our sample size is greater than 30 we assume data to be normally distributed based on central limit theorem"
   ]
  },
  {
   "cell_type": "markdown",
   "id": "6909fa3a",
   "metadata": {},
   "source": [
    "# Assumption 4\n",
    "Checking the homogeneaty or equality of variance between two groups Here i am using Levenes test to test if two groups have equality of variance"
   ]
  },
  {
   "cell_type": "code",
   "execution_count": 162,
   "id": "c1053ea9",
   "metadata": {},
   "outputs": [
    {
     "data": {
      "text/plain": [
       "LeveneResult(statistic=0.16784151864003105, pvalue=0.6820416034478105)"
      ]
     },
     "execution_count": 162,
     "metadata": {},
     "output_type": "execute_result"
    }
   ],
   "source": [
    "stats.levene(Service[\"Resource Allocation\"], Product[\"Resource Allocation\"])"
   ]
  },
  {
   "cell_type": "markdown",
   "id": "da7bd7a7",
   "metadata": {},
   "source": [
    "p value> 5% hence we fail to reject null hypothesis the groups have equal variance"
   ]
  },
  {
   "cell_type": "markdown",
   "id": "aeb66ba5",
   "metadata": {},
   "source": [
    "# T Test test of independancy"
   ]
  },
  {
   "cell_type": "code",
   "execution_count": null,
   "id": "05503ae5",
   "metadata": {},
   "outputs": [],
   "source": [
    "As the groups are normal and have equal variance we widd do pooled t test for test of independancy"
   ]
  },
  {
   "cell_type": "code",
   "execution_count": 163,
   "id": "e2427f4b",
   "metadata": {},
   "outputs": [
    {
     "data": {
      "text/plain": [
       "Ttest_indResult(statistic=0.9917858330092308, pvalue=0.3213138161002828)"
      ]
     },
     "execution_count": 163,
     "metadata": {},
     "output_type": "execute_result"
    }
   ],
   "source": [
    "stats.ttest_ind(Service[\"Resource Allocation\"], Product[\"Resource Allocation\"], equal_var=True)"
   ]
  },
  {
   "cell_type": "markdown",
   "id": "d22b8cbb",
   "metadata": {},
   "source": [
    "# Here p value is > 5% hence we conclude that there no statistical relationship between the variables "
   ]
  },
  {
   "cell_type": "markdown",
   "id": "ca169232",
   "metadata": {},
   "source": [
    "# Employees belonging to which industry suffer from more burn rate?"
   ]
  },
  {
   "cell_type": "markdown",
   "id": "e5664838",
   "metadata": {},
   "source": [
    "# Assumption 1\n",
    "first check if two groups are independent just check by seeing the groups WFH Available and WFH Not_Available"
   ]
  },
  {
   "cell_type": "code",
   "execution_count": null,
   "id": "640994aa",
   "metadata": {},
   "outputs": [],
   "source": [
    "Two groups are Independant"
   ]
  },
  {
   "cell_type": "markdown",
   "id": "5e51dde0",
   "metadata": {},
   "source": [
    "# Assumption 2 - Checking For Extreme Outliers"
   ]
  },
  {
   "cell_type": "code",
   "execution_count": 109,
   "id": "a6a2fc66",
   "metadata": {
    "scrolled": false
   },
   "outputs": [
    {
     "data": {
      "image/png": "[encoded data removed]",
      "text/plain": [
       "<Figure size 432x288 with 1 Axes>"
      ]
     },
     "metadata": {
      "needs_background": "light"
     },
     "output_type": "display_data"
    }
   ],
   "source": [
    "ax = sns.boxplot(x='Industry', y='Burn Rate', data=df)"
   ]
  },
  {
   "cell_type": "raw",
   "id": "f482b48a",
   "metadata": {},
   "source": [
    "No extreme outliers "
   ]
  },
  {
   "cell_type": "markdown",
   "id": "cd72323b",
   "metadata": {},
   "source": [
    "# Assumption 3- Normality test "
   ]
  },
  {
   "cell_type": "raw",
   "id": "e84bef9c",
   "metadata": {},
   "source": [
    "using Shapiro-wilk for checking normality of groups"
   ]
  },
  {
   "cell_type": "code",
   "execution_count": 112,
   "id": "f92b77db",
   "metadata": {},
   "outputs": [
    {
     "data": {
      "text/plain": [
       "ShapiroResult(statistic=0.9966156482696533, pvalue=1.832458008636275e-17)"
      ]
     },
     "execution_count": 112,
     "metadata": {},
     "output_type": "execute_result"
    }
   ],
   "source": [
    "\n",
    "stats.shapiro(Service['Burn Rate'])"
   ]
  },
  {
   "cell_type": "code",
   "execution_count": 167,
   "id": "3ee5ceb2",
   "metadata": {
    "scrolled": true
   },
   "outputs": [
    {
     "data": {
      "text/plain": [
       "ShapiroResult(statistic=0.9961385130882263, pvalue=1.0948439420691014e-12)"
      ]
     },
     "execution_count": 167,
     "metadata": {},
     "output_type": "execute_result"
    }
   ],
   "source": [
    "\n",
    "stats.shapiro(Product['Burn Rate'])"
   ]
  },
  {
   "cell_type": "raw",
   "id": "06d65e4c",
   "metadata": {},
   "source": [
    "Using central limit theorem as the sample size is >30 we assume the data to be normal "
   ]
  },
  {
   "cell_type": "markdown",
   "id": "10228775",
   "metadata": {},
   "source": [
    "# Homogeneity of variance "
   ]
  },
  {
   "cell_type": "code",
   "execution_count": 168,
   "id": "f73e77d0",
   "metadata": {},
   "outputs": [
    {
     "data": {
      "text/plain": [
       "LeveneResult(statistic=0.2482960077298522, pvalue=0.6182828661004491)"
      ]
     },
     "execution_count": 168,
     "metadata": {},
     "output_type": "execute_result"
    }
   ],
   "source": [
    "stats.levene(Service[\"Burn Rate\"], Product[\"Burn Rate\"])"
   ]
  },
  {
   "cell_type": "markdown",
   "id": "7f676fce",
   "metadata": {},
   "source": [
    "# Here p value is >5% hence we conclude the groups have equal variance "
   ]
  },
  {
   "cell_type": "markdown",
   "id": "66d7d048",
   "metadata": {},
   "source": [
    "# T test Test of independancy "
   ]
  },
  {
   "cell_type": "markdown",
   "id": "329c0e0f",
   "metadata": {},
   "source": [
    "# As the groups are normal and have equal variance we will do pooled t test for test of independancy"
   ]
  },
  {
   "cell_type": "code",
   "execution_count": 169,
   "id": "bb435cae",
   "metadata": {},
   "outputs": [
    {
     "data": {
      "text/plain": [
       "Ttest_indResult(statistic=1.1948597996463575, pvalue=0.23215575324138987)"
      ]
     },
     "execution_count": 169,
     "metadata": {},
     "output_type": "execute_result"
    }
   ],
   "source": [
    "stats.ttest_ind(Service[\"Burn Rate\"], Product[\"Burn Rate\"], equal_var=True)"
   ]
  },
  {
   "cell_type": "markdown",
   "id": "f6ef41f7",
   "metadata": {},
   "source": [
    "# Here p value is > 5% hence we conclude that there no statistical relationship between the variables"
   ]
  },
  {
   "cell_type": "code",
   "execution_count": 245,
   "id": "21866d24",
   "metadata": {
    "scrolled": true
   },
   "outputs": [
    {
     "data": {
      "text/plain": [
       "Text(0.5, 1.0, 'Relation Between Industry and Burn Rate')"
      ]
     },
     "execution_count": 245,
     "metadata": {},
     "output_type": "execute_result"
    },
    {
     "data": {
      "image/png": "[encoded data removed]",
      "text/plain": [
       "<Figure size 1152x432 with 1 Axes>"
      ]
     },
     "metadata": {},
     "output_type": "display_data"
    }
   ],
   "source": [
    "plt.figure(figsize=(16, 6))\n",
    "sns.set_theme( palette=\"pastel\")\n",
    "sns.barplot(x=\"Industry\", y=\"Burn Rate\",\n",
    "            hue=\"Gender\", \n",
    "            data=df,ci=None,palette='colorblind')\n",
    "sns.despine(offset=15, trim=True)\n",
    "plt.title('Relation Between Industry and Burn Rate')\n"
   ]
  },
  {
   "cell_type": "markdown",
   "id": "53fcfdb0",
   "metadata": {},
   "source": [
    "# Industry Vs Mental Fatigue "
   ]
  },
  {
   "cell_type": "markdown",
   "id": "abbda538",
   "metadata": {},
   "source": [
    "# Assumption 1 "
   ]
  },
  {
   "cell_type": "raw",
   "id": "998bff81",
   "metadata": {},
   "source": [
    "both groups are independant"
   ]
  },
  {
   "cell_type": "markdown",
   "id": "66896fa8",
   "metadata": {},
   "source": [
    "#  Assumption 2 . Checking for extreme outliers"
   ]
  },
  {
   "cell_type": "code",
   "execution_count": 170,
   "id": "c084e48d",
   "metadata": {},
   "outputs": [
    {
     "data": {
      "image/png": "[encoded data removed]",
      "text/plain": [
       "<Figure size 432x288 with 1 Axes>"
      ]
     },
     "metadata": {
      "needs_background": "light"
     },
     "output_type": "display_data"
    }
   ],
   "source": [
    "ax = sns.boxplot(x='Industry', y='Mental Fatigue Score', data=df)"
   ]
  },
  {
   "cell_type": "raw",
   "id": "e40a1fc5",
   "metadata": {},
   "source": [
    "no extreme outliers "
   ]
  },
  {
   "cell_type": "markdown",
   "id": "3e74ed11",
   "metadata": {},
   "source": [
    "# Assumption 3 . Checking Normality "
   ]
  },
  {
   "cell_type": "code",
   "execution_count": 171,
   "id": "28b0a52d",
   "metadata": {},
   "outputs": [
    {
     "data": {
      "text/plain": [
       "ShapiroResult(statistic=0.9836646914482117, pvalue=2.846793837372888e-36)"
      ]
     },
     "execution_count": 171,
     "metadata": {},
     "output_type": "execute_result"
    }
   ],
   "source": [
    "\n",
    "stats.shapiro(Service['Mental Fatigue Score'])"
   ]
  },
  {
   "cell_type": "code",
   "execution_count": 173,
   "id": "44cff899",
   "metadata": {},
   "outputs": [
    {
     "data": {
      "text/plain": [
       "ShapiroResult(statistic=0.9805525541305542, pvalue=6.035665081867698e-30)"
      ]
     },
     "execution_count": 173,
     "metadata": {},
     "output_type": "execute_result"
    }
   ],
   "source": [
    "stats.shapiro(Product['Mental Fatigue Score'])"
   ]
  },
  {
   "cell_type": "raw",
   "id": "2e489a5f",
   "metadata": {},
   "source": [
    "Assuming the data is normal based on central limit theorem "
   ]
  },
  {
   "cell_type": "markdown",
   "id": "4b239548",
   "metadata": {},
   "source": [
    "# Assumption 4. Checking Homogenity of variance"
   ]
  },
  {
   "cell_type": "code",
   "execution_count": 174,
   "id": "754faaf0",
   "metadata": {},
   "outputs": [
    {
     "data": {
      "text/plain": [
       "LeveneResult(statistic=0.109447040870288, pvalue=0.7407779622245065)"
      ]
     },
     "execution_count": 174,
     "metadata": {},
     "output_type": "execute_result"
    }
   ],
   "source": [
    "stats.levene(Service[\"Mental Fatigue Score\"], Product[\"Mental Fatigue Score\"])"
   ]
  },
  {
   "cell_type": "markdown",
   "id": "915d22c6",
   "metadata": {},
   "source": [
    "p value> 5% hence we fail to reject null hypothesis the groups have equal variance"
   ]
  },
  {
   "cell_type": "markdown",
   "id": "f0ccf724",
   "metadata": {},
   "source": [
    "# T test Test of independancy "
   ]
  },
  {
   "cell_type": "code",
   "execution_count": 175,
   "id": "f933a8ec",
   "metadata": {},
   "outputs": [
    {
     "data": {
      "text/plain": [
       "Ttest_indResult(statistic=0.6658399103702822, pvalue=0.505520987943967)"
      ]
     },
     "execution_count": 175,
     "metadata": {},
     "output_type": "execute_result"
    }
   ],
   "source": [
    "stats.ttest_ind(Service[\"Mental Fatigue Score\"], Product[\"Mental Fatigue Score\"], equal_var=True)"
   ]
  },
  {
   "cell_type": "markdown",
   "id": "8ec8338a",
   "metadata": {},
   "source": [
    "# Here p value is > 5% hence we conclude that there no statistical relationship between the variables"
   ]
  },
  {
   "cell_type": "markdown",
   "id": "a4df0106",
   "metadata": {},
   "source": [
    "# Gender Vs Mental Fatigue "
   ]
  },
  {
   "cell_type": "code",
   "execution_count": 177,
   "id": "42af3524",
   "metadata": {},
   "outputs": [],
   "source": [
    "Female=df[(df['Gender']=='Female')]\n",
    "Male=df[(df['Gender']=='Male')]"
   ]
  },
  {
   "cell_type": "markdown",
   "id": "eb9b8edd",
   "metadata": {},
   "source": [
    "# Assumption 1"
   ]
  },
  {
   "cell_type": "raw",
   "id": "31809eec",
   "metadata": {},
   "source": [
    "they are independant variables "
   ]
  },
  {
   "cell_type": "markdown",
   "id": "bc0cd595",
   "metadata": {},
   "source": [
    "# Assumption 2.  Checking Outliers"
   ]
  },
  {
   "cell_type": "code",
   "execution_count": 178,
   "id": "f075e55f",
   "metadata": {},
   "outputs": [
    {
     "data": {
      "image/png": "[encoded data removed]",
      "text/plain": [
       "<Figure size 432x288 with 1 Axes>"
      ]
     },
     "metadata": {
      "needs_background": "light"
     },
     "output_type": "display_data"
    }
   ],
   "source": [
    "ax = sns.boxplot(x='Gender', y='Mental Fatigue Score', data=df)"
   ]
  },
  {
   "cell_type": "raw",
   "id": "01277131",
   "metadata": {},
   "source": [
    "There are no extreme outliers "
   ]
  },
  {
   "cell_type": "markdown",
   "id": "09047583",
   "metadata": {},
   "source": [
    "# Assumption 3. Normality test "
   ]
  },
  {
   "cell_type": "code",
   "execution_count": 179,
   "id": "85d2232a",
   "metadata": {},
   "outputs": [
    {
     "data": {
      "text/plain": [
       "ShapiroResult(statistic=0.9840427041053772, pvalue=7.152402641437721e-33)"
      ]
     },
     "execution_count": 179,
     "metadata": {},
     "output_type": "execute_result"
    }
   ],
   "source": [
    "\n",
    "stats.shapiro(Female['Mental Fatigue Score'])"
   ]
  },
  {
   "cell_type": "code",
   "execution_count": null,
   "id": "e2c73c18",
   "metadata": {},
   "outputs": [],
   "source": [
    "stats.shapiro(Male['Mental Fatigue Score'])"
   ]
  },
  {
   "cell_type": "raw",
   "id": "208df1ac",
   "metadata": {},
   "source": [
    "# p value is <5% hence data is not normally distributed . But we assume normality based on central limit theorem as sample size is >30"
   ]
  },
  {
   "cell_type": "markdown",
   "id": "77620098",
   "metadata": {},
   "source": [
    "# Assumption 4. Homogenity of variance "
   ]
  },
  {
   "cell_type": "code",
   "execution_count": 181,
   "id": "2e892204",
   "metadata": {},
   "outputs": [
    {
     "data": {
      "text/plain": [
       "LeveneResult(statistic=4.549093191637621, pvalue=0.03294813093383568)"
      ]
     },
     "execution_count": 181,
     "metadata": {},
     "output_type": "execute_result"
    }
   ],
   "source": [
    "stats.levene(Female[\"Mental Fatigue Score\"], Male[\"Mental Fatigue Score\"])"
   ]
  },
  {
   "cell_type": "raw",
   "id": "bde3ac7e",
   "metadata": {},
   "source": [
    "Here p value is 0.03 which is less than 5% hence the groups dont have equal variance "
   ]
  },
  {
   "cell_type": "markdown",
   "id": "df2860b7",
   "metadata": {},
   "source": [
    "# Test of independance - T test \n",
    "As the variable has 2 independant levels . Since the data is assumed to be normal and it does not have equal variance we go for welch T test"
   ]
  },
  {
   "cell_type": "code",
   "execution_count": 182,
   "id": "f387a6c1",
   "metadata": {},
   "outputs": [
    {
     "data": {
      "text/plain": [
       "Ttest_indResult(statistic=-20.02768934509269, pvalue=2.298308427997464e-88)"
      ]
     },
     "execution_count": 182,
     "metadata": {},
     "output_type": "execute_result"
    }
   ],
   "source": [
    "stats.ttest_ind(Female[\"Mental Fatigue Score\"], Male[\"Mental Fatigue Score\"], equal_var=False)"
   ]
  },
  {
   "cell_type": "markdown",
   "id": "3c661336",
   "metadata": {},
   "source": [
    "# P value is <5% so there is statistical association between the variable gender and mental fatigue score"
   ]
  },
  {
   "cell_type": "markdown",
   "id": "1cf3c435",
   "metadata": {},
   "source": [
    "# Gender Vs Burn Rate"
   ]
  },
  {
   "cell_type": "markdown",
   "id": "8aae4867",
   "metadata": {},
   "source": [
    "# Assumption 1. "
   ]
  },
  {
   "cell_type": "markdown",
   "id": "85ff5818",
   "metadata": {},
   "source": [
    "they are independant variables "
   ]
  },
  {
   "cell_type": "markdown",
   "id": "4980b354",
   "metadata": {},
   "source": [
    "# Assumption 2. Check for extreme outliers"
   ]
  },
  {
   "cell_type": "code",
   "execution_count": 184,
   "id": "80948635",
   "metadata": {},
   "outputs": [
    {
     "data": {
      "image/png": "[encoded data removed]",
      "text/plain": [
       "<Figure size 432x288 with 1 Axes>"
      ]
     },
     "metadata": {
      "needs_background": "light"
     },
     "output_type": "display_data"
    }
   ],
   "source": [
    "ax = sns.boxplot(x='Gender', y='Burn Rate', data=df)"
   ]
  },
  {
   "cell_type": "markdown",
   "id": "7d7dc537",
   "metadata": {},
   "source": [
    "# Assumption 3. Check for Normality"
   ]
  },
  {
   "cell_type": "code",
   "execution_count": 185,
   "id": "d6888530",
   "metadata": {},
   "outputs": [
    {
     "data": {
      "text/plain": [
       "ShapiroResult(statistic=0.9941429495811462, pvalue=1.8518853314764694e-20)"
      ]
     },
     "execution_count": 185,
     "metadata": {},
     "output_type": "execute_result"
    }
   ],
   "source": [
    "\n",
    "stats.shapiro(Female['Burn Rate'])"
   ]
  },
  {
   "cell_type": "code",
   "execution_count": 186,
   "id": "c3795959",
   "metadata": {},
   "outputs": [
    {
     "data": {
      "text/plain": [
       "ShapiroResult(statistic=0.9944714307785034, pvalue=7.8458784204175345e-19)"
      ]
     },
     "execution_count": 186,
     "metadata": {},
     "output_type": "execute_result"
    }
   ],
   "source": [
    "stats.shapiro(Male['Burn Rate'])"
   ]
  },
  {
   "cell_type": "markdown",
   "id": "1d83f360",
   "metadata": {},
   "source": [
    "# p value is <5% hence data is not normally distributed . But we assume normality based on central limit theorem as sample size is >30"
   ]
  },
  {
   "cell_type": "markdown",
   "id": "dac0ca8e",
   "metadata": {},
   "source": [
    "# Assumption 4. Homogenity of Variance"
   ]
  },
  {
   "cell_type": "code",
   "execution_count": 187,
   "id": "018c92c5",
   "metadata": {},
   "outputs": [
    {
     "data": {
      "text/plain": [
       "LeveneResult(statistic=14.598305658044723, pvalue=0.0001334299413445632)"
      ]
     },
     "execution_count": 187,
     "metadata": {},
     "output_type": "execute_result"
    }
   ],
   "source": [
    "stats.levene(Female[\"Burn Rate\"], Male[\"Burn Rate\"])"
   ]
  },
  {
   "cell_type": "raw",
   "id": "d938bdac",
   "metadata": {},
   "source": [
    "Here p value is 0.000133429 which is less than 5% hence the groups dont have equal variance "
   ]
  },
  {
   "cell_type": "markdown",
   "id": "1c1c322c",
   "metadata": {},
   "source": [
    "# T test Test of Independancy"
   ]
  },
  {
   "cell_type": "code",
   "execution_count": 189,
   "id": "8e27f77e",
   "metadata": {},
   "outputs": [
    {
     "data": {
      "text/plain": [
       "Ttest_indResult(statistic=-22.284370470130952, pvalue=1.098270784003341e-108)"
      ]
     },
     "execution_count": 189,
     "metadata": {},
     "output_type": "execute_result"
    }
   ],
   "source": [
    "stats.ttest_ind(Female[\"Burn Rate\"], Male[\"Burn Rate\"], equal_var=False)"
   ]
  },
  {
   "cell_type": "markdown",
   "id": "be267306",
   "metadata": {},
   "source": [
    "# P value is <5% so there is statistical association between the variable Gender and Burn Rate"
   ]
  },
  {
   "cell_type": "markdown",
   "id": "8e93d37a",
   "metadata": {},
   "source": [
    "# Employees belonging to which designation level experience high mental fatigue?"
   ]
  },
  {
   "cell_type": "markdown",
   "id": "5e77dc64",
   "metadata": {},
   "source": [
    "# Subsetting the data in to groups  "
   ]
  },
  {
   "cell_type": "code",
   "execution_count": 246,
   "id": "8e5749f3",
   "metadata": {},
   "outputs": [],
   "source": [
    "Level0=df[df['Designation']=='Level 0']\n",
    "Level1=df[df['Designation']=='Level 1']\n",
    "Level2=df[df['Designation']=='Level 2']\n",
    "Level3=df[df['Designation']=='Level 3']\n"
   ]
  },
  {
   "cell_type": "markdown",
   "id": "913a7d8e",
   "metadata": {},
   "source": [
    "# Summarization"
   ]
  },
  {
   "cell_type": "code",
   "execution_count": 248,
   "id": "0f4cb119",
   "metadata": {},
   "outputs": [
    {
     "data": {
      "text/html": [
       "<div>\n",
       "<style scoped>\n",
       "    .dataframe tbody tr th:only-of-type {\n",
       "        vertical-align: middle;\n",
       "    }\n",
       "\n",
       "    .dataframe tbody tr th {\n",
       "        vertical-align: top;\n",
       "    }\n",
       "\n",
       "    .dataframe thead th {\n",
       "        text-align: right;\n",
       "    }\n",
       "</style>\n",
       "<table border=\"1\" class=\"dataframe\">\n",
       "  <thead>\n",
       "    <tr style=\"text-align: right;\">\n",
       "      <th></th>\n",
       "      <th>Mental Fatigue Score</th>\n",
       "    </tr>\n",
       "    <tr>\n",
       "      <th>Designation</th>\n",
       "      <th></th>\n",
       "    </tr>\n",
       "  </thead>\n",
       "  <tbody>\n",
       "    <tr>\n",
       "      <th>Level 0</th>\n",
       "      <td>2.900000</td>\n",
       "    </tr>\n",
       "    <tr>\n",
       "      <th>Level 1</th>\n",
       "      <td>5.022985</td>\n",
       "    </tr>\n",
       "    <tr>\n",
       "      <th>Level 2</th>\n",
       "      <td>5.554975</td>\n",
       "    </tr>\n",
       "    <tr>\n",
       "      <th>Level 3</th>\n",
       "      <td>5.730988</td>\n",
       "    </tr>\n",
       "  </tbody>\n",
       "</table>\n",
       "</div>"
      ],
      "text/plain": [
       "             Mental Fatigue Score\n",
       "Designation                      \n",
       "Level 0                  2.900000\n",
       "Level 1                  5.022985\n",
       "Level 2                  5.554975\n",
       "Level 3                  5.730988"
      ]
     },
     "execution_count": 248,
     "metadata": {},
     "output_type": "execute_result"
    }
   ],
   "source": [
    "df.groupby(['Designation']).agg({'Mental Fatigue Score':'mean'})"
   ]
  },
  {
   "cell_type": "code",
   "execution_count": 249,
   "id": "033716e0",
   "metadata": {},
   "outputs": [
    {
     "data": {
      "text/html": [
       "<div>\n",
       "<style scoped>\n",
       "    .dataframe tbody tr th:only-of-type {\n",
       "        vertical-align: middle;\n",
       "    }\n",
       "\n",
       "    .dataframe tbody tr th {\n",
       "        vertical-align: top;\n",
       "    }\n",
       "\n",
       "    .dataframe thead tr th {\n",
       "        text-align: left;\n",
       "    }\n",
       "\n",
       "    .dataframe thead tr:last-of-type th {\n",
       "        text-align: right;\n",
       "    }\n",
       "</style>\n",
       "<table border=\"1\" class=\"dataframe\">\n",
       "  <thead>\n",
       "    <tr>\n",
       "      <th></th>\n",
       "      <th colspan=\"8\" halign=\"left\">Mental Fatigue Score</th>\n",
       "    </tr>\n",
       "    <tr>\n",
       "      <th></th>\n",
       "      <th>count</th>\n",
       "      <th>mean</th>\n",
       "      <th>std</th>\n",
       "      <th>min</th>\n",
       "      <th>25%</th>\n",
       "      <th>50%</th>\n",
       "      <th>75%</th>\n",
       "      <th>max</th>\n",
       "    </tr>\n",
       "    <tr>\n",
       "      <th>Designation</th>\n",
       "      <th></th>\n",
       "      <th></th>\n",
       "      <th></th>\n",
       "      <th></th>\n",
       "      <th></th>\n",
       "      <th></th>\n",
       "      <th></th>\n",
       "      <th></th>\n",
       "    </tr>\n",
       "  </thead>\n",
       "  <tbody>\n",
       "    <tr>\n",
       "      <th>Level 0</th>\n",
       "      <td>3.0</td>\n",
       "      <td>2.900000</td>\n",
       "      <td>1.053565</td>\n",
       "      <td>1.8</td>\n",
       "      <td>2.4</td>\n",
       "      <td>3.000000</td>\n",
       "      <td>3.450</td>\n",
       "      <td>3.9</td>\n",
       "    </tr>\n",
       "    <tr>\n",
       "      <th>Level 1</th>\n",
       "      <td>10.0</td>\n",
       "      <td>5.022985</td>\n",
       "      <td>1.315607</td>\n",
       "      <td>2.6</td>\n",
       "      <td>4.1</td>\n",
       "      <td>5.364926</td>\n",
       "      <td>5.875</td>\n",
       "      <td>6.7</td>\n",
       "    </tr>\n",
       "    <tr>\n",
       "      <th>Level 2</th>\n",
       "      <td>12.0</td>\n",
       "      <td>5.554975</td>\n",
       "      <td>1.376075</td>\n",
       "      <td>3.6</td>\n",
       "      <td>4.3</td>\n",
       "      <td>5.729851</td>\n",
       "      <td>6.625</td>\n",
       "      <td>7.6</td>\n",
       "    </tr>\n",
       "    <tr>\n",
       "      <th>Level 3</th>\n",
       "      <td>21581.0</td>\n",
       "      <td>5.730988</td>\n",
       "      <td>1.832662</td>\n",
       "      <td>0.0</td>\n",
       "      <td>4.7</td>\n",
       "      <td>5.729851</td>\n",
       "      <td>6.900</td>\n",
       "      <td>10.0</td>\n",
       "    </tr>\n",
       "  </tbody>\n",
       "</table>\n",
       "</div>"
      ],
      "text/plain": [
       "            Mental Fatigue Score                                          \\\n",
       "                           count      mean       std  min  25%       50%   \n",
       "Designation                                                                \n",
       "Level 0                      3.0  2.900000  1.053565  1.8  2.4  3.000000   \n",
       "Level 1                     10.0  5.022985  1.315607  2.6  4.1  5.364926   \n",
       "Level 2                     12.0  5.554975  1.376075  3.6  4.3  5.729851   \n",
       "Level 3                  21581.0  5.730988  1.832662  0.0  4.7  5.729851   \n",
       "\n",
       "                          \n",
       "               75%   max  \n",
       "Designation               \n",
       "Level 0      3.450   3.9  \n",
       "Level 1      5.875   6.7  \n",
       "Level 2      6.625   7.6  \n",
       "Level 3      6.900  10.0  "
      ]
     },
     "execution_count": 249,
     "metadata": {},
     "output_type": "execute_result"
    }
   ],
   "source": [
    "df.groupby(['Designation']).agg({'Mental Fatigue Score':'describe'})"
   ]
  },
  {
   "cell_type": "markdown",
   "id": "49be8897",
   "metadata": {},
   "source": [
    "# Assumption 1."
   ]
  },
  {
   "cell_type": "raw",
   "id": "ebfd59bd",
   "metadata": {},
   "source": [
    "groups are independant"
   ]
  },
  {
   "cell_type": "markdown",
   "id": "3d3c78df",
   "metadata": {},
   "source": [
    "# Assumption 2. Checking Extreme outliers"
   ]
  },
  {
   "cell_type": "code",
   "execution_count": 247,
   "id": "13c5a9dd",
   "metadata": {},
   "outputs": [
    {
     "data": {
      "image/png": "[encoded data removed]",
      "text/plain": [
       "<Figure size 432x288 with 1 Axes>"
      ]
     },
     "metadata": {},
     "output_type": "display_data"
    }
   ],
   "source": [
    "ax = sns.boxplot(x='Designation', y='Mental Fatigue Score', data=df)"
   ]
  },
  {
   "cell_type": "markdown",
   "id": "dfbf0b90",
   "metadata": {},
   "source": [
    "# Assumption 3. Checking Normality"
   ]
  },
  {
   "cell_type": "code",
   "execution_count": 192,
   "id": "17d416bb",
   "metadata": {},
   "outputs": [
    {
     "data": {
      "text/plain": [
       "ShapiroResult(statistic=0.9932432770729065, pvalue=0.8428319692611694)"
      ]
     },
     "execution_count": 192,
     "metadata": {},
     "output_type": "execute_result"
    }
   ],
   "source": [
    "stats.shapiro(Level0['Mental Fatigue Score'])"
   ]
  },
  {
   "cell_type": "code",
   "execution_count": 193,
   "id": "a89845dc",
   "metadata": {},
   "outputs": [
    {
     "data": {
      "text/plain": [
       "ShapiroResult(statistic=0.9432349801063538, pvalue=0.5895386338233948)"
      ]
     },
     "execution_count": 193,
     "metadata": {},
     "output_type": "execute_result"
    }
   ],
   "source": [
    "stats.shapiro(Level1['Mental Fatigue Score'])"
   ]
  },
  {
   "cell_type": "code",
   "execution_count": 194,
   "id": "ca9466c4",
   "metadata": {},
   "outputs": [
    {
     "data": {
      "text/plain": [
       "ShapiroResult(statistic=0.9276984333992004, pvalue=0.3880422115325928)"
      ]
     },
     "execution_count": 194,
     "metadata": {},
     "output_type": "execute_result"
    }
   ],
   "source": [
    "stats.shapiro(Level2['Mental Fatigue Score'])"
   ]
  },
  {
   "cell_type": "code",
   "execution_count": 195,
   "id": "6de45afe",
   "metadata": {},
   "outputs": [
    {
     "data": {
      "text/plain": [
       "ShapiroResult(statistic=0.98263019323349, pvalue=1.6955711418330287e-43)"
      ]
     },
     "execution_count": 195,
     "metadata": {},
     "output_type": "execute_result"
    }
   ],
   "source": [
    "stats.shapiro(Level3['Mental Fatigue Score'])"
   ]
  },
  {
   "cell_type": "markdown",
   "id": "ef1a9dbb",
   "metadata": {},
   "source": [
    "# Assumption 4 . Checking Homogenity of Variance"
   ]
  },
  {
   "cell_type": "code",
   "execution_count": 199,
   "id": "17818c83",
   "metadata": {
    "scrolled": true
   },
   "outputs": [
    {
     "data": {
      "text/plain": [
       "LeveneResult(statistic=0.8394875552583233, pvalue=0.4998207928004228)"
      ]
     },
     "execution_count": 199,
     "metadata": {},
     "output_type": "execute_result"
    }
   ],
   "source": [
    "stats.levene(Level0[\"Mental Fatigue Score\"], Level1[\"Mental Fatigue Score\"],Level2[\"Mental Fatigue Score\"],Level3[\"Mental Fatigue Score\"],Level4[\"Mental Fatigue Score\"])"
   ]
  },
  {
   "cell_type": "raw",
   "id": "2a28f358",
   "metadata": {},
   "source": [
    "Here p value is 0.499820792800 which is greater than 5% hence the groups have equal variance "
   ]
  },
  {
   "cell_type": "markdown",
   "id": "7bd9b6ed",
   "metadata": {},
   "source": [
    "# Test of independancy - ANOVA "
   ]
  },
  {
   "cell_type": "markdown",
   "id": "b791938e",
   "metadata": {},
   "source": [
    "# Test of Independancy - ANOVA "
   ]
  },
  {
   "cell_type": "raw",
   "id": "0a1eb5df",
   "metadata": {},
   "source": [
    "Test of independancy - ANOVA "
   ]
  },
  {
   "cell_type": "markdown",
   "id": "35e5cc83",
   "metadata": {},
   "source": [
    "as the groups are independant , normally distributed with equal variance we do oneway anova"
   ]
  },
  {
   "cell_type": "code",
   "execution_count": 200,
   "id": "e637427b",
   "metadata": {},
   "outputs": [
    {
     "data": {
      "text/plain": [
       "F_onewayResult(statistic=2.846175453249922, pvalue=0.02258954210004833)"
      ]
     },
     "execution_count": 200,
     "metadata": {},
     "output_type": "execute_result"
    }
   ],
   "source": [
    "\n",
    "stats.f_oneway(Level0[\"Mental Fatigue Score\"], Level1[\"Mental Fatigue Score\"],Level2[\"Mental Fatigue Score\"],Level3[\"Mental Fatigue Score\"],Level4[\"Mental Fatigue Score\"])"
   ]
  },
  {
   "cell_type": "code",
   "execution_count": 263,
   "id": "d21e0d0f",
   "metadata": {},
   "outputs": [
    {
     "data": {
      "text/plain": [
       "Text(0.5, 1.0, 'Relation Between Designation and Mental Fatigue Score')"
      ]
     },
     "execution_count": 263,
     "metadata": {},
     "output_type": "execute_result"
    },
    {
     "data": {
      "image/png": "[encoded data removed]",
      "text/plain": [
       "<Figure size 1152x432 with 1 Axes>"
      ]
     },
     "metadata": {},
     "output_type": "display_data"
    }
   ],
   "source": [
    "plt.figure(figsize=(16, 6))\n",
    "sns.set_theme( palette=\"pastel\")\n",
    "sns.barplot(x=\"Designation\", y=\"Mental Fatigue Score\",\n",
    "            hue=\"Burn Rate Segment\", \n",
    "            data=df,ci=None,palette='bright')\n",
    "sns.despine(offset=15, trim=True)\n",
    "plt.title('Relation Between Designation and Mental Fatigue Score')"
   ]
  },
  {
   "cell_type": "markdown",
   "id": "9814df32",
   "metadata": {},
   "source": [
    "# P value is <5% so there is statistical association between the variable Designation and Mental Fatigue Score"
   ]
  },
  {
   "cell_type": "markdown",
   "id": "f68b00b3",
   "metadata": {},
   "source": [
    "# Designation Vs Burn Rate"
   ]
  },
  {
   "cell_type": "code",
   "execution_count": 216,
   "id": "9b8074c6",
   "metadata": {},
   "outputs": [
    {
     "data": {
      "text/html": [
       "<div>\n",
       "<style scoped>\n",
       "    .dataframe tbody tr th:only-of-type {\n",
       "        vertical-align: middle;\n",
       "    }\n",
       "\n",
       "    .dataframe tbody tr th {\n",
       "        vertical-align: top;\n",
       "    }\n",
       "\n",
       "    .dataframe thead th {\n",
       "        text-align: right;\n",
       "    }\n",
       "</style>\n",
       "<table border=\"1\" class=\"dataframe\">\n",
       "  <thead>\n",
       "    <tr style=\"text-align: right;\">\n",
       "      <th></th>\n",
       "      <th>Burn Rate</th>\n",
       "    </tr>\n",
       "    <tr>\n",
       "      <th>Designation</th>\n",
       "      <th></th>\n",
       "    </tr>\n",
       "  </thead>\n",
       "  <tbody>\n",
       "    <tr>\n",
       "      <th>Level 0</th>\n",
       "      <td>16.666667</td>\n",
       "    </tr>\n",
       "    <tr>\n",
       "      <th>Level 1</th>\n",
       "      <td>34.300000</td>\n",
       "    </tr>\n",
       "    <tr>\n",
       "      <th>Level 2</th>\n",
       "      <td>40.000000</td>\n",
       "    </tr>\n",
       "    <tr>\n",
       "      <th>Level 3</th>\n",
       "      <td>45.181500</td>\n",
       "    </tr>\n",
       "    <tr>\n",
       "      <th>Level 4</th>\n",
       "      <td>81.000000</td>\n",
       "    </tr>\n",
       "  </tbody>\n",
       "</table>\n",
       "</div>"
      ],
      "text/plain": [
       "             Burn Rate\n",
       "Designation           \n",
       "Level 0      16.666667\n",
       "Level 1      34.300000\n",
       "Level 2      40.000000\n",
       "Level 3      45.181500\n",
       "Level 4      81.000000"
      ]
     },
     "execution_count": 216,
     "metadata": {},
     "output_type": "execute_result"
    }
   ],
   "source": [
    "df[['Designation','Burn Rate']].groupby('Designation').agg('mean')"
   ]
  },
  {
   "cell_type": "markdown",
   "id": "64b606b3",
   "metadata": {},
   "source": [
    "# Assumption 1.\n",
    "groups are independant"
   ]
  },
  {
   "cell_type": "markdown",
   "id": "209485b8",
   "metadata": {},
   "source": [
    "# Assumption 2. Checking Extreme outliers\n",
    "\n"
   ]
  },
  {
   "cell_type": "code",
   "execution_count": 203,
   "id": "a02b9085",
   "metadata": {},
   "outputs": [
    {
     "data": {
      "image/png": "[encoded data removed]",
      "text/plain": [
       "<Figure size 432x288 with 1 Axes>"
      ]
     },
     "metadata": {
      "needs_background": "light"
     },
     "output_type": "display_data"
    }
   ],
   "source": [
    "ax = sns.boxplot(x='Designation', y='Burn Rate', data=df)"
   ]
  },
  {
   "cell_type": "markdown",
   "id": "2b62c838",
   "metadata": {},
   "source": [
    "# Assumption 3. Checking Normality"
   ]
  },
  {
   "cell_type": "code",
   "execution_count": 204,
   "id": "00a2778c",
   "metadata": {},
   "outputs": [
    {
     "data": {
      "text/plain": [
       "ShapiroResult(statistic=0.7500000596046448, pvalue=-9.106917104872991e-07)"
      ]
     },
     "execution_count": 204,
     "metadata": {},
     "output_type": "execute_result"
    }
   ],
   "source": [
    "stats.shapiro(Level0['Burn Rate'])"
   ]
  },
  {
   "cell_type": "code",
   "execution_count": 205,
   "id": "01423ef7",
   "metadata": {},
   "outputs": [
    {
     "data": {
      "text/plain": [
       "ShapiroResult(statistic=0.9052655100822449, pvalue=0.25002649426460266)"
      ]
     },
     "execution_count": 205,
     "metadata": {},
     "output_type": "execute_result"
    }
   ],
   "source": [
    "stats.shapiro(Level1['Burn Rate'])"
   ]
  },
  {
   "cell_type": "code",
   "execution_count": 206,
   "id": "54d5ac95",
   "metadata": {},
   "outputs": [
    {
     "data": {
      "text/plain": [
       "ShapiroResult(statistic=0.964308500289917, pvalue=0.8240187764167786)"
      ]
     },
     "execution_count": 206,
     "metadata": {},
     "output_type": "execute_result"
    }
   ],
   "source": [
    "stats.shapiro(Level2['Burn Rate'])"
   ]
  },
  {
   "cell_type": "code",
   "execution_count": 209,
   "id": "c556ac40",
   "metadata": {},
   "outputs": [
    {
     "data": {
      "text/plain": [
       "ShapiroResult(statistic=0.996493935585022, pvalue=2.2551926275941484e-21)"
      ]
     },
     "execution_count": 209,
     "metadata": {},
     "output_type": "execute_result"
    }
   ],
   "source": [
    "stats.shapiro(Level3['Burn Rate'])"
   ]
  },
  {
   "cell_type": "raw",
   "id": "c3d297b9",
   "metadata": {},
   "source": [
    "Assuming data to be normal based on central limit theorem "
   ]
  },
  {
   "cell_type": "markdown",
   "id": "d81bb41c",
   "metadata": {},
   "source": [
    "# Assumption 4 . Checking Homogenity of Variance "
   ]
  },
  {
   "cell_type": "code",
   "execution_count": 197,
   "id": "96cb9cc1",
   "metadata": {},
   "outputs": [
    {
     "data": {
      "text/plain": [
       "LeveneResult(statistic=2.7385287355659784, pvalue=0.027112205613445295)"
      ]
     },
     "execution_count": 197,
     "metadata": {},
     "output_type": "execute_result"
    }
   ],
   "source": [
    "stats.levene(Level0[\"Burn Rate\"], Level1[\"Burn Rate\"],Level2[\"Burn Rate\"],Level3[\"Burn Rate\"],Level4[\"Burn Rate\"])"
   ]
  },
  {
   "cell_type": "raw",
   "id": "c0df45c2",
   "metadata": {},
   "source": [
    "Here p value is 0.0271122056134 which is less than 5% hence the groups dont have equal variance "
   ]
  },
  {
   "cell_type": "markdown",
   "id": "65bdcbd2",
   "metadata": {},
   "source": [
    "# Test Of Independancy -ANOVA"
   ]
  },
  {
   "cell_type": "markdown",
   "id": "0c37aac4",
   "metadata": {},
   "source": [
    "As groups are independant with normal data and no equal variance we do welch ANOVA "
   ]
  },
  {
   "cell_type": "code",
   "execution_count": 212,
   "id": "fbf01c16",
   "metadata": {},
   "outputs": [],
   "source": [
    "import pingouin as pg"
   ]
  },
  {
   "cell_type": "code",
   "execution_count": 214,
   "id": "1163e6d8",
   "metadata": {},
   "outputs": [
    {
     "data": {
      "text/html": [
       "<div>\n",
       "<style scoped>\n",
       "    .dataframe tbody tr th:only-of-type {\n",
       "        vertical-align: middle;\n",
       "    }\n",
       "\n",
       "    .dataframe tbody tr th {\n",
       "        vertical-align: top;\n",
       "    }\n",
       "\n",
       "    .dataframe thead th {\n",
       "        text-align: right;\n",
       "    }\n",
       "</style>\n",
       "<table border=\"1\" class=\"dataframe\">\n",
       "  <thead>\n",
       "    <tr style=\"text-align: right;\">\n",
       "      <th></th>\n",
       "      <th>Source</th>\n",
       "      <th>ddof1</th>\n",
       "      <th>ddof2</th>\n",
       "      <th>F</th>\n",
       "      <th>p-unc</th>\n",
       "      <th>np2</th>\n",
       "    </tr>\n",
       "  </thead>\n",
       "  <tbody>\n",
       "    <tr>\n",
       "      <th>0</th>\n",
       "      <td>Designation</td>\n",
       "      <td>4</td>\n",
       "      <td>11.314595</td>\n",
       "      <td>33.733183</td>\n",
       "      <td>0.000003</td>\n",
       "      <td>0.000651</td>\n",
       "    </tr>\n",
       "  </tbody>\n",
       "</table>\n",
       "</div>"
      ],
      "text/plain": [
       "        Source  ddof1      ddof2          F     p-unc       np2\n",
       "0  Designation      4  11.314595  33.733183  0.000003  0.000651"
      ]
     },
     "execution_count": 214,
     "metadata": {},
     "output_type": "execute_result"
    }
   ],
   "source": [
    "\n",
    "pg.welch_anova(dv='Burn Rate', between='Designation', data=df)"
   ]
  },
  {
   "cell_type": "raw",
   "id": "fb695a92",
   "metadata": {},
   "source": [
    "So The mean of all the groups are significantly different.We can then perform the Games-Howell post-hoc test to determine exactly which group means are different:"
   ]
  },
  {
   "cell_type": "code",
   "execution_count": 215,
   "id": "e78ecdc4",
   "metadata": {
    "scrolled": false
   },
   "outputs": [
    {
     "data": {
      "text/html": [
       "<div>\n",
       "<style scoped>\n",
       "    .dataframe tbody tr th:only-of-type {\n",
       "        vertical-align: middle;\n",
       "    }\n",
       "\n",
       "    .dataframe tbody tr th {\n",
       "        vertical-align: top;\n",
       "    }\n",
       "\n",
       "    .dataframe thead th {\n",
       "        text-align: right;\n",
       "    }\n",
       "</style>\n",
       "<table border=\"1\" class=\"dataframe\">\n",
       "  <thead>\n",
       "    <tr style=\"text-align: right;\">\n",
       "      <th></th>\n",
       "      <th>A</th>\n",
       "      <th>B</th>\n",
       "      <th>mean(A)</th>\n",
       "      <th>mean(B)</th>\n",
       "      <th>diff</th>\n",
       "      <th>se</th>\n",
       "      <th>T</th>\n",
       "      <th>df</th>\n",
       "      <th>pval</th>\n",
       "      <th>hedges</th>\n",
       "    </tr>\n",
       "  </thead>\n",
       "  <tbody>\n",
       "    <tr>\n",
       "      <th>0</th>\n",
       "      <td>Level 0</td>\n",
       "      <td>Level 1</td>\n",
       "      <td>16.666667</td>\n",
       "      <td>34.3000</td>\n",
       "      <td>-17.633333</td>\n",
       "      <td>4.369210</td>\n",
       "      <td>-4.035817</td>\n",
       "      <td>10.262687</td>\n",
       "      <td>0.015150</td>\n",
       "      <td>-2.471349</td>\n",
       "    </tr>\n",
       "    <tr>\n",
       "      <th>1</th>\n",
       "      <td>Level 0</td>\n",
       "      <td>Level 2</td>\n",
       "      <td>16.666667</td>\n",
       "      <td>40.0000</td>\n",
       "      <td>-23.333333</td>\n",
       "      <td>4.790985</td>\n",
       "      <td>-4.870258</td>\n",
       "      <td>11.585095</td>\n",
       "      <td>0.003149</td>\n",
       "      <td>-2.969709</td>\n",
       "    </tr>\n",
       "    <tr>\n",
       "      <th>2</th>\n",
       "      <td>Level 0</td>\n",
       "      <td>Level 3</td>\n",
       "      <td>16.666667</td>\n",
       "      <td>45.1815</td>\n",
       "      <td>-28.514834</td>\n",
       "      <td>2.337477</td>\n",
       "      <td>-12.198980</td>\n",
       "      <td>2.014244</td>\n",
       "      <td>0.019919</td>\n",
       "      <td>-7.043344</td>\n",
       "    </tr>\n",
       "    <tr>\n",
       "      <th>3</th>\n",
       "      <td>Level 0</td>\n",
       "      <td>Level 4</td>\n",
       "      <td>16.666667</td>\n",
       "      <td>81.0000</td>\n",
       "      <td>-64.333333</td>\n",
       "      <td>NaN</td>\n",
       "      <td>NaN</td>\n",
       "      <td>NaN</td>\n",
       "      <td>NaN</td>\n",
       "      <td>NaN</td>\n",
       "    </tr>\n",
       "    <tr>\n",
       "      <th>4</th>\n",
       "      <td>Level 1</td>\n",
       "      <td>Level 2</td>\n",
       "      <td>34.300000</td>\n",
       "      <td>40.0000</td>\n",
       "      <td>-5.700000</td>\n",
       "      <td>5.581635</td>\n",
       "      <td>-1.021206</td>\n",
       "      <td>18.903418</td>\n",
       "      <td>0.842485</td>\n",
       "      <td>-0.428349</td>\n",
       "    </tr>\n",
       "    <tr>\n",
       "      <th>5</th>\n",
       "      <td>Level 1</td>\n",
       "      <td>Level 3</td>\n",
       "      <td>34.300000</td>\n",
       "      <td>45.1815</td>\n",
       "      <td>-10.881500</td>\n",
       "      <td>3.696608</td>\n",
       "      <td>-2.943645</td>\n",
       "      <td>9.025548</td>\n",
       "      <td>0.092033</td>\n",
       "      <td>-0.931057</td>\n",
       "    </tr>\n",
       "    <tr>\n",
       "      <th>6</th>\n",
       "      <td>Level 1</td>\n",
       "      <td>Level 4</td>\n",
       "      <td>34.300000</td>\n",
       "      <td>81.0000</td>\n",
       "      <td>-46.700000</td>\n",
       "      <td>NaN</td>\n",
       "      <td>NaN</td>\n",
       "      <td>NaN</td>\n",
       "      <td>NaN</td>\n",
       "      <td>NaN</td>\n",
       "    </tr>\n",
       "    <tr>\n",
       "      <th>7</th>\n",
       "      <td>Level 2</td>\n",
       "      <td>Level 3</td>\n",
       "      <td>40.000000</td>\n",
       "      <td>45.1815</td>\n",
       "      <td>-5.181500</td>\n",
       "      <td>4.186699</td>\n",
       "      <td>-1.237610</td>\n",
       "      <td>10.022119</td>\n",
       "      <td>0.731542</td>\n",
       "      <td>-0.373241</td>\n",
       "    </tr>\n",
       "    <tr>\n",
       "      <th>8</th>\n",
       "      <td>Level 2</td>\n",
       "      <td>Level 4</td>\n",
       "      <td>40.000000</td>\n",
       "      <td>81.0000</td>\n",
       "      <td>-41.000000</td>\n",
       "      <td>NaN</td>\n",
       "      <td>NaN</td>\n",
       "      <td>NaN</td>\n",
       "      <td>NaN</td>\n",
       "      <td>NaN</td>\n",
       "    </tr>\n",
       "    <tr>\n",
       "      <th>9</th>\n",
       "      <td>Level 3</td>\n",
       "      <td>Level 4</td>\n",
       "      <td>45.181500</td>\n",
       "      <td>81.0000</td>\n",
       "      <td>-35.818500</td>\n",
       "      <td>NaN</td>\n",
       "      <td>NaN</td>\n",
       "      <td>NaN</td>\n",
       "      <td>NaN</td>\n",
       "      <td>NaN</td>\n",
       "    </tr>\n",
       "  </tbody>\n",
       "</table>\n",
       "</div>"
      ],
      "text/plain": [
       "         A        B    mean(A)  mean(B)       diff        se          T  \\\n",
       "0  Level 0  Level 1  16.666667  34.3000 -17.633333  4.369210  -4.035817   \n",
       "1  Level 0  Level 2  16.666667  40.0000 -23.333333  4.790985  -4.870258   \n",
       "2  Level 0  Level 3  16.666667  45.1815 -28.514834  2.337477 -12.198980   \n",
       "3  Level 0  Level 4  16.666667  81.0000 -64.333333       NaN        NaN   \n",
       "4  Level 1  Level 2  34.300000  40.0000  -5.700000  5.581635  -1.021206   \n",
       "5  Level 1  Level 3  34.300000  45.1815 -10.881500  3.696608  -2.943645   \n",
       "6  Level 1  Level 4  34.300000  81.0000 -46.700000       NaN        NaN   \n",
       "7  Level 2  Level 3  40.000000  45.1815  -5.181500  4.186699  -1.237610   \n",
       "8  Level 2  Level 4  40.000000  81.0000 -41.000000       NaN        NaN   \n",
       "9  Level 3  Level 4  45.181500  81.0000 -35.818500       NaN        NaN   \n",
       "\n",
       "          df      pval    hedges  \n",
       "0  10.262687  0.015150 -2.471349  \n",
       "1  11.585095  0.003149 -2.969709  \n",
       "2   2.014244  0.019919 -7.043344  \n",
       "3        NaN       NaN       NaN  \n",
       "4  18.903418  0.842485 -0.428349  \n",
       "5   9.025548  0.092033 -0.931057  \n",
       "6        NaN       NaN       NaN  \n",
       "7  10.022119  0.731542 -0.373241  \n",
       "8        NaN       NaN       NaN  \n",
       "9        NaN       NaN       NaN  "
      ]
     },
     "execution_count": 215,
     "metadata": {},
     "output_type": "execute_result"
    }
   ],
   "source": [
    "pg.pairwise_gameshowell(dv='Burn Rate', between='Designation', data=df)"
   ]
  },
  {
   "cell_type": "code",
   "execution_count": 123,
   "id": "8871a817",
   "metadata": {},
   "outputs": [
    {
     "data": {
      "image/png": "[encoded data removed]",
      "text/plain": [
       "<Figure size 432x288 with 1 Axes>"
      ]
     },
     "metadata": {
      "needs_background": "light"
     },
     "output_type": "display_data"
    }
   ],
   "source": [
    "# plot and add annotations\n",
    "p = sns.countplot(data=df, x='WFH Available', hue='Burn Rate Segment')\n",
    "p.legend(title='Industry', bbox_to_anchor=(1, 1), loc='upper left')\n",
    "\n",
    "for c in p.containers:\n",
    "    # set the bar label\n",
    "    p.bar_label(c, fmt='%.0f', label_type='edge')"
   ]
  },
  {
   "cell_type": "code",
   "execution_count": 124,
   "id": "beca98de",
   "metadata": {},
   "outputs": [
    {
     "data": {
      "image/png": "[encoded data removed]",
      "text/plain": [
       "<Figure size 432x288 with 1 Axes>"
      ]
     },
     "metadata": {
      "needs_background": "light"
     },
     "output_type": "display_data"
    }
   ],
   "source": [
    "# plot and add annotations\n",
    "p = sns.countplot(data=df, x='Gender', hue='Burn Rate Segment')\n",
    "p.legend(title='Industry', bbox_to_anchor=(1, 1), loc='upper left')\n",
    "\n",
    "for c in p.containers:\n",
    "    # set the bar label\n",
    "    p.bar_label(c, fmt='%.0f', label_type='edge')"
   ]
  },
  {
   "cell_type": "code",
   "execution_count": 125,
   "id": "7fc85d40",
   "metadata": {},
   "outputs": [
    {
     "data": {
      "text/plain": [
       "<AxesSubplot:xlabel='Industry'>"
      ]
     },
     "execution_count": 125,
     "metadata": {},
     "output_type": "execute_result"
    },
    {
     "data": {
      "image/png": "[encoded data removed]",
      "text/plain": [
       "<Figure size 432x288 with 1 Axes>"
      ]
     },
     "metadata": {
      "needs_background": "light"
     },
     "output_type": "display_data"
    }
   ],
   "source": [
    "df_pivot = pd.pivot_table(df, index='Industry', columns='Burn Rate Segment', values='Burn Rate', aggfunc='sum')\n",
    "df_pivot.plot.bar(stacked=True, colormap='tab20')"
   ]
  },
  {
   "cell_type": "code",
   "execution_count": 127,
   "id": "0e3d519e",
   "metadata": {},
   "outputs": [
    {
     "data": {
      "image/png": "[encoded data removed]",
      "text/plain": [
       "<Figure size 432x288 with 1 Axes>"
      ]
     },
     "metadata": {
      "needs_background": "light"
     },
     "output_type": "display_data"
    }
   ],
   "source": [
    "ax = sns.boxplot(x='Burn Rate Segment', y='Mental Fatigue Score', data=df)"
   ]
  },
  {
   "cell_type": "code",
   "execution_count": 128,
   "id": "c0497b4d",
   "metadata": {},
   "outputs": [
    {
     "data": {
      "image/png": "[encoded data removed]",
      "text/plain": [
       "<Figure size 432x288 with 1 Axes>"
      ]
     },
     "metadata": {
      "needs_background": "light"
     },
     "output_type": "display_data"
    }
   ],
   "source": [
    "ax = sns.boxplot(x='Burn Rate Segment', y='Resource Allocation', data=df)"
   ]
  },
  {
   "cell_type": "code",
   "execution_count": 140,
   "id": "958f6252",
   "metadata": {},
   "outputs": [
    {
     "data": {
      "image/png": "[encoded data removed]",
      "text/plain": [
       "<Figure size 1080x720 with 1 Axes>"
      ]
     },
     "metadata": {
      "needs_background": "light"
     },
     "output_type": "display_data"
    }
   ],
   "source": [
    "# plot and add annotations\n",
    "plt.figure(figsize=(15, 10)) \n",
    "p = sns.countplot(data=df, x='Resource Allocation', hue='Burn Rate Segment')\n",
    "p.legend(title='Industry', bbox_to_anchor=(1, 1), loc='upper left')\n",
    "\n",
    "for c in p.containers:\n",
    "    # set the bar label\n",
    "    p.bar_label(c, fmt='%.0f', label_type='edge')"
   ]
  },
  {
   "cell_type": "markdown",
   "id": "4f2b555e",
   "metadata": {},
   "source": [
    "# P value is <5% so there is statistical association between the variable Designation and Burn Rate"
   ]
  },
  {
   "cell_type": "markdown",
   "id": "b4935e85",
   "metadata": {},
   "source": [
    "# Regression "
   ]
  },
  {
   "cell_type": "code",
   "execution_count": 30,
   "id": "9b8ecc05",
   "metadata": {},
   "outputs": [
    {
     "data": {
      "text/html": [
       "<div>\n",
       "<style scoped>\n",
       "    .dataframe tbody tr th:only-of-type {\n",
       "        vertical-align: middle;\n",
       "    }\n",
       "\n",
       "    .dataframe tbody tr th {\n",
       "        vertical-align: top;\n",
       "    }\n",
       "\n",
       "    .dataframe thead th {\n",
       "        text-align: right;\n",
       "    }\n",
       "</style>\n",
       "<table border=\"1\" class=\"dataframe\">\n",
       "  <thead>\n",
       "    <tr style=\"text-align: right;\">\n",
       "      <th></th>\n",
       "      <th>Joining Date</th>\n",
       "      <th>Gender</th>\n",
       "      <th>Industry</th>\n",
       "      <th>WFH Available</th>\n",
       "      <th>Designations</th>\n",
       "      <th>Resource Allocation</th>\n",
       "      <th>Mental Fatigue Score</th>\n",
       "      <th>Burn Rate</th>\n",
       "      <th>year</th>\n",
       "      <th>month</th>\n",
       "      <th>day</th>\n",
       "      <th>Designation</th>\n",
       "      <th>Burn Rate Segment</th>\n",
       "      <th>Days_in_Company</th>\n",
       "    </tr>\n",
       "  </thead>\n",
       "  <tbody>\n",
       "    <tr>\n",
       "      <th>0</th>\n",
       "      <td>2008-09-30</td>\n",
       "      <td>Female</td>\n",
       "      <td>Service</td>\n",
       "      <td>No</td>\n",
       "      <td>2</td>\n",
       "      <td>3.000000</td>\n",
       "      <td>3.800000</td>\n",
       "      <td>16</td>\n",
       "      <td>2008</td>\n",
       "      <td>September</td>\n",
       "      <td>30</td>\n",
       "      <td>Level 2</td>\n",
       "      <td>Low Burn Rate</td>\n",
       "      <td>4969</td>\n",
       "    </tr>\n",
       "    <tr>\n",
       "      <th>1</th>\n",
       "      <td>2008-11-30</td>\n",
       "      <td>Male</td>\n",
       "      <td>Service</td>\n",
       "      <td>Yes</td>\n",
       "      <td>1</td>\n",
       "      <td>2.000000</td>\n",
       "      <td>5.000000</td>\n",
       "      <td>36</td>\n",
       "      <td>2008</td>\n",
       "      <td>November</td>\n",
       "      <td>30</td>\n",
       "      <td>Level 1</td>\n",
       "      <td>Medium Burn Rate</td>\n",
       "      <td>4908</td>\n",
       "    </tr>\n",
       "    <tr>\n",
       "      <th>2</th>\n",
       "      <td>2008-03-10</td>\n",
       "      <td>Female</td>\n",
       "      <td>Product</td>\n",
       "      <td>Yes</td>\n",
       "      <td>2</td>\n",
       "      <td>4.483831</td>\n",
       "      <td>5.800000</td>\n",
       "      <td>49</td>\n",
       "      <td>2008</td>\n",
       "      <td>March</td>\n",
       "      <td>10</td>\n",
       "      <td>Level 2</td>\n",
       "      <td>Medium Burn Rate</td>\n",
       "      <td>5173</td>\n",
       "    </tr>\n",
       "    <tr>\n",
       "      <th>3</th>\n",
       "      <td>2008-11-03</td>\n",
       "      <td>Male</td>\n",
       "      <td>Service</td>\n",
       "      <td>Yes</td>\n",
       "      <td>1</td>\n",
       "      <td>1.000000</td>\n",
       "      <td>2.600000</td>\n",
       "      <td>20</td>\n",
       "      <td>2008</td>\n",
       "      <td>November</td>\n",
       "      <td>3</td>\n",
       "      <td>Level 1</td>\n",
       "      <td>Low Burn Rate</td>\n",
       "      <td>4935</td>\n",
       "    </tr>\n",
       "    <tr>\n",
       "      <th>4</th>\n",
       "      <td>2008-07-24</td>\n",
       "      <td>Female</td>\n",
       "      <td>Service</td>\n",
       "      <td>No</td>\n",
       "      <td>3</td>\n",
       "      <td>7.000000</td>\n",
       "      <td>6.900000</td>\n",
       "      <td>52</td>\n",
       "      <td>2008</td>\n",
       "      <td>July</td>\n",
       "      <td>24</td>\n",
       "      <td>Level 3</td>\n",
       "      <td>Medium Burn Rate</td>\n",
       "      <td>5037</td>\n",
       "    </tr>\n",
       "    <tr>\n",
       "      <th>...</th>\n",
       "      <td>...</td>\n",
       "      <td>...</td>\n",
       "      <td>...</td>\n",
       "      <td>...</td>\n",
       "      <td>...</td>\n",
       "      <td>...</td>\n",
       "      <td>...</td>\n",
       "      <td>...</td>\n",
       "      <td>...</td>\n",
       "      <td>...</td>\n",
       "      <td>...</td>\n",
       "      <td>...</td>\n",
       "      <td>...</td>\n",
       "      <td>...</td>\n",
       "    </tr>\n",
       "    <tr>\n",
       "      <th>22745</th>\n",
       "      <td>2008-12-30</td>\n",
       "      <td>Female</td>\n",
       "      <td>Service</td>\n",
       "      <td>No</td>\n",
       "      <td>3</td>\n",
       "      <td>3.000000</td>\n",
       "      <td>5.729851</td>\n",
       "      <td>41</td>\n",
       "      <td>2008</td>\n",
       "      <td>December</td>\n",
       "      <td>30</td>\n",
       "      <td>Level 3</td>\n",
       "      <td>Medium Burn Rate</td>\n",
       "      <td>4878</td>\n",
       "    </tr>\n",
       "    <tr>\n",
       "      <th>22746</th>\n",
       "      <td>2008-01-19</td>\n",
       "      <td>Female</td>\n",
       "      <td>Product</td>\n",
       "      <td>Yes</td>\n",
       "      <td>3</td>\n",
       "      <td>6.000000</td>\n",
       "      <td>6.700000</td>\n",
       "      <td>59</td>\n",
       "      <td>2008</td>\n",
       "      <td>January</td>\n",
       "      <td>19</td>\n",
       "      <td>Level 3</td>\n",
       "      <td>Medium Burn Rate</td>\n",
       "      <td>5224</td>\n",
       "    </tr>\n",
       "    <tr>\n",
       "      <th>22747</th>\n",
       "      <td>2008-11-05</td>\n",
       "      <td>Male</td>\n",
       "      <td>Service</td>\n",
       "      <td>Yes</td>\n",
       "      <td>3</td>\n",
       "      <td>7.000000</td>\n",
       "      <td>5.729851</td>\n",
       "      <td>72</td>\n",
       "      <td>2008</td>\n",
       "      <td>November</td>\n",
       "      <td>5</td>\n",
       "      <td>Level 3</td>\n",
       "      <td>High Burn Rate</td>\n",
       "      <td>4933</td>\n",
       "    </tr>\n",
       "    <tr>\n",
       "      <th>22748</th>\n",
       "      <td>2008-01-10</td>\n",
       "      <td>Female</td>\n",
       "      <td>Service</td>\n",
       "      <td>No</td>\n",
       "      <td>3</td>\n",
       "      <td>5.000000</td>\n",
       "      <td>5.900000</td>\n",
       "      <td>52</td>\n",
       "      <td>2008</td>\n",
       "      <td>January</td>\n",
       "      <td>10</td>\n",
       "      <td>Level 3</td>\n",
       "      <td>Medium Burn Rate</td>\n",
       "      <td>5233</td>\n",
       "    </tr>\n",
       "    <tr>\n",
       "      <th>22749</th>\n",
       "      <td>2008-01-06</td>\n",
       "      <td>Male</td>\n",
       "      <td>Product</td>\n",
       "      <td>No</td>\n",
       "      <td>3</td>\n",
       "      <td>6.000000</td>\n",
       "      <td>7.800000</td>\n",
       "      <td>61</td>\n",
       "      <td>2008</td>\n",
       "      <td>January</td>\n",
       "      <td>6</td>\n",
       "      <td>Level 3</td>\n",
       "      <td>High Burn Rate</td>\n",
       "      <td>5237</td>\n",
       "    </tr>\n",
       "  </tbody>\n",
       "</table>\n",
       "<p>21606 rows × 14 columns</p>\n",
       "</div>"
      ],
      "text/plain": [
       "      Joining Date  Gender Industry WFH Available  Designations  \\\n",
       "0       2008-09-30  Female  Service            No             2   \n",
       "1       2008-11-30    Male  Service           Yes             1   \n",
       "2       2008-03-10  Female  Product           Yes             2   \n",
       "3       2008-11-03    Male  Service           Yes             1   \n",
       "4       2008-07-24  Female  Service            No             3   \n",
       "...            ...     ...      ...           ...           ...   \n",
       "22745   2008-12-30  Female  Service            No             3   \n",
       "22746   2008-01-19  Female  Product           Yes             3   \n",
       "22747   2008-11-05    Male  Service           Yes             3   \n",
       "22748   2008-01-10  Female  Service            No             3   \n",
       "22749   2008-01-06    Male  Product            No             3   \n",
       "\n",
       "       Resource Allocation  Mental Fatigue Score  Burn Rate  year      month  \\\n",
       "0                 3.000000              3.800000         16  2008  September   \n",
       "1                 2.000000              5.000000         36  2008   November   \n",
       "2                 4.483831              5.800000         49  2008      March   \n",
       "3                 1.000000              2.600000         20  2008   November   \n",
       "4                 7.000000              6.900000         52  2008       July   \n",
       "...                    ...                   ...        ...   ...        ...   \n",
       "22745             3.000000              5.729851         41  2008   December   \n",
       "22746             6.000000              6.700000         59  2008    January   \n",
       "22747             7.000000              5.729851         72  2008   November   \n",
       "22748             5.000000              5.900000         52  2008    January   \n",
       "22749             6.000000              7.800000         61  2008    January   \n",
       "\n",
       "       day Designation Burn Rate Segment  Days_in_Company  \n",
       "0       30     Level 2     Low Burn Rate             4969  \n",
       "1       30     Level 1  Medium Burn Rate             4908  \n",
       "2       10     Level 2  Medium Burn Rate             5173  \n",
       "3        3     Level 1     Low Burn Rate             4935  \n",
       "4       24     Level 3  Medium Burn Rate             5037  \n",
       "...    ...         ...               ...              ...  \n",
       "22745   30     Level 3  Medium Burn Rate             4878  \n",
       "22746   19     Level 3  Medium Burn Rate             5224  \n",
       "22747    5     Level 3    High Burn Rate             4933  \n",
       "22748   10     Level 3  Medium Burn Rate             5233  \n",
       "22749    6     Level 3    High Burn Rate             5237  \n",
       "\n",
       "[21606 rows x 14 columns]"
      ]
     },
     "execution_count": 30,
     "metadata": {},
     "output_type": "execute_result"
    }
   ],
   "source": [
    "df"
   ]
  },
  {
   "cell_type": "code",
   "execution_count": 238,
   "id": "3e38a806",
   "metadata": {},
   "outputs": [
    {
     "data": {
      "text/plain": [
       "Female    10676\n",
       "Male       9652\n",
       "Name: Gender, dtype: int64"
      ]
     },
     "execution_count": 238,
     "metadata": {},
     "output_type": "execute_result"
    }
   ],
   "source": [
    "df.Gender.value_counts()"
   ]
  },
  {
   "cell_type": "code",
   "execution_count": 141,
   "id": "49c58814",
   "metadata": {},
   "outputs": [
    {
     "data": {
      "text/plain": [
       "WFH Available\n",
       "Yes    11678\n",
       "No      9928\n",
       "dtype: int64"
      ]
     },
     "execution_count": 141,
     "metadata": {},
     "output_type": "execute_result"
    }
   ],
   "source": [
    "df.value_counts('WFH Available')"
   ]
  },
  {
   "cell_type": "code",
   "execution_count": 142,
   "id": "14725673",
   "metadata": {},
   "outputs": [
    {
     "data": {
      "text/plain": [
       "Service    14109\n",
       "Product     7497\n",
       "Name: Industry, dtype: int64"
      ]
     },
     "execution_count": 142,
     "metadata": {},
     "output_type": "execute_result"
    }
   ],
   "source": [
    "df.Industry.value_counts()"
   ]
  },
  {
   "cell_type": "markdown",
   "id": "a5494a9f",
   "metadata": {},
   "source": [
    "# Label encoding by mapping "
   ]
  },
  {
   "cell_type": "code",
   "execution_count": 31,
   "id": "a2638b8b",
   "metadata": {},
   "outputs": [],
   "source": [
    "df['Gender']=df['Gender'].map({'Female':0,'Male':1})"
   ]
  },
  {
   "cell_type": "code",
   "execution_count": 32,
   "id": "1cb48c35",
   "metadata": {},
   "outputs": [],
   "source": [
    "df['WFH Available']=df['WFH Available'].map({'Yes':0,'No':1})"
   ]
  },
  {
   "cell_type": "code",
   "execution_count": 33,
   "id": "7589eb97",
   "metadata": {},
   "outputs": [],
   "source": [
    "df['Industry']=df['Industry'].map({'Service':0,'Product':1})"
   ]
  },
  {
   "cell_type": "code",
   "execution_count": 34,
   "id": "bc3e6615",
   "metadata": {},
   "outputs": [
    {
     "data": {
      "text/html": [
       "<div>\n",
       "<style scoped>\n",
       "    .dataframe tbody tr th:only-of-type {\n",
       "        vertical-align: middle;\n",
       "    }\n",
       "\n",
       "    .dataframe tbody tr th {\n",
       "        vertical-align: top;\n",
       "    }\n",
       "\n",
       "    .dataframe thead th {\n",
       "        text-align: right;\n",
       "    }\n",
       "</style>\n",
       "<table border=\"1\" class=\"dataframe\">\n",
       "  <thead>\n",
       "    <tr style=\"text-align: right;\">\n",
       "      <th></th>\n",
       "      <th>Joining Date</th>\n",
       "      <th>Gender</th>\n",
       "      <th>Industry</th>\n",
       "      <th>WFH Available</th>\n",
       "      <th>Designations</th>\n",
       "      <th>Resource Allocation</th>\n",
       "      <th>Mental Fatigue Score</th>\n",
       "      <th>Burn Rate</th>\n",
       "      <th>year</th>\n",
       "      <th>month</th>\n",
       "      <th>day</th>\n",
       "      <th>Designation</th>\n",
       "      <th>Burn Rate Segment</th>\n",
       "      <th>Days_in_Company</th>\n",
       "    </tr>\n",
       "  </thead>\n",
       "  <tbody>\n",
       "    <tr>\n",
       "      <th>0</th>\n",
       "      <td>2008-09-30</td>\n",
       "      <td>0</td>\n",
       "      <td>0</td>\n",
       "      <td>1</td>\n",
       "      <td>2</td>\n",
       "      <td>3.000000</td>\n",
       "      <td>3.800000</td>\n",
       "      <td>16</td>\n",
       "      <td>2008</td>\n",
       "      <td>September</td>\n",
       "      <td>30</td>\n",
       "      <td>Level 2</td>\n",
       "      <td>Low Burn Rate</td>\n",
       "      <td>4969</td>\n",
       "    </tr>\n",
       "    <tr>\n",
       "      <th>1</th>\n",
       "      <td>2008-11-30</td>\n",
       "      <td>1</td>\n",
       "      <td>0</td>\n",
       "      <td>0</td>\n",
       "      <td>1</td>\n",
       "      <td>2.000000</td>\n",
       "      <td>5.000000</td>\n",
       "      <td>36</td>\n",
       "      <td>2008</td>\n",
       "      <td>November</td>\n",
       "      <td>30</td>\n",
       "      <td>Level 1</td>\n",
       "      <td>Medium Burn Rate</td>\n",
       "      <td>4908</td>\n",
       "    </tr>\n",
       "    <tr>\n",
       "      <th>2</th>\n",
       "      <td>2008-03-10</td>\n",
       "      <td>0</td>\n",
       "      <td>1</td>\n",
       "      <td>0</td>\n",
       "      <td>2</td>\n",
       "      <td>4.483831</td>\n",
       "      <td>5.800000</td>\n",
       "      <td>49</td>\n",
       "      <td>2008</td>\n",
       "      <td>March</td>\n",
       "      <td>10</td>\n",
       "      <td>Level 2</td>\n",
       "      <td>Medium Burn Rate</td>\n",
       "      <td>5173</td>\n",
       "    </tr>\n",
       "    <tr>\n",
       "      <th>3</th>\n",
       "      <td>2008-11-03</td>\n",
       "      <td>1</td>\n",
       "      <td>0</td>\n",
       "      <td>0</td>\n",
       "      <td>1</td>\n",
       "      <td>1.000000</td>\n",
       "      <td>2.600000</td>\n",
       "      <td>20</td>\n",
       "      <td>2008</td>\n",
       "      <td>November</td>\n",
       "      <td>3</td>\n",
       "      <td>Level 1</td>\n",
       "      <td>Low Burn Rate</td>\n",
       "      <td>4935</td>\n",
       "    </tr>\n",
       "    <tr>\n",
       "      <th>4</th>\n",
       "      <td>2008-07-24</td>\n",
       "      <td>0</td>\n",
       "      <td>0</td>\n",
       "      <td>1</td>\n",
       "      <td>3</td>\n",
       "      <td>7.000000</td>\n",
       "      <td>6.900000</td>\n",
       "      <td>52</td>\n",
       "      <td>2008</td>\n",
       "      <td>July</td>\n",
       "      <td>24</td>\n",
       "      <td>Level 3</td>\n",
       "      <td>Medium Burn Rate</td>\n",
       "      <td>5037</td>\n",
       "    </tr>\n",
       "    <tr>\n",
       "      <th>...</th>\n",
       "      <td>...</td>\n",
       "      <td>...</td>\n",
       "      <td>...</td>\n",
       "      <td>...</td>\n",
       "      <td>...</td>\n",
       "      <td>...</td>\n",
       "      <td>...</td>\n",
       "      <td>...</td>\n",
       "      <td>...</td>\n",
       "      <td>...</td>\n",
       "      <td>...</td>\n",
       "      <td>...</td>\n",
       "      <td>...</td>\n",
       "      <td>...</td>\n",
       "    </tr>\n",
       "    <tr>\n",
       "      <th>22745</th>\n",
       "      <td>2008-12-30</td>\n",
       "      <td>0</td>\n",
       "      <td>0</td>\n",
       "      <td>1</td>\n",
       "      <td>3</td>\n",
       "      <td>3.000000</td>\n",
       "      <td>5.729851</td>\n",
       "      <td>41</td>\n",
       "      <td>2008</td>\n",
       "      <td>December</td>\n",
       "      <td>30</td>\n",
       "      <td>Level 3</td>\n",
       "      <td>Medium Burn Rate</td>\n",
       "      <td>4878</td>\n",
       "    </tr>\n",
       "    <tr>\n",
       "      <th>22746</th>\n",
       "      <td>2008-01-19</td>\n",
       "      <td>0</td>\n",
       "      <td>1</td>\n",
       "      <td>0</td>\n",
       "      <td>3</td>\n",
       "      <td>6.000000</td>\n",
       "      <td>6.700000</td>\n",
       "      <td>59</td>\n",
       "      <td>2008</td>\n",
       "      <td>January</td>\n",
       "      <td>19</td>\n",
       "      <td>Level 3</td>\n",
       "      <td>Medium Burn Rate</td>\n",
       "      <td>5224</td>\n",
       "    </tr>\n",
       "    <tr>\n",
       "      <th>22747</th>\n",
       "      <td>2008-11-05</td>\n",
       "      <td>1</td>\n",
       "      <td>0</td>\n",
       "      <td>0</td>\n",
       "      <td>3</td>\n",
       "      <td>7.000000</td>\n",
       "      <td>5.729851</td>\n",
       "      <td>72</td>\n",
       "      <td>2008</td>\n",
       "      <td>November</td>\n",
       "      <td>5</td>\n",
       "      <td>Level 3</td>\n",
       "      <td>High Burn Rate</td>\n",
       "      <td>4933</td>\n",
       "    </tr>\n",
       "    <tr>\n",
       "      <th>22748</th>\n",
       "      <td>2008-01-10</td>\n",
       "      <td>0</td>\n",
       "      <td>0</td>\n",
       "      <td>1</td>\n",
       "      <td>3</td>\n",
       "      <td>5.000000</td>\n",
       "      <td>5.900000</td>\n",
       "      <td>52</td>\n",
       "      <td>2008</td>\n",
       "      <td>January</td>\n",
       "      <td>10</td>\n",
       "      <td>Level 3</td>\n",
       "      <td>Medium Burn Rate</td>\n",
       "      <td>5233</td>\n",
       "    </tr>\n",
       "    <tr>\n",
       "      <th>22749</th>\n",
       "      <td>2008-01-06</td>\n",
       "      <td>1</td>\n",
       "      <td>1</td>\n",
       "      <td>1</td>\n",
       "      <td>3</td>\n",
       "      <td>6.000000</td>\n",
       "      <td>7.800000</td>\n",
       "      <td>61</td>\n",
       "      <td>2008</td>\n",
       "      <td>January</td>\n",
       "      <td>6</td>\n",
       "      <td>Level 3</td>\n",
       "      <td>High Burn Rate</td>\n",
       "      <td>5237</td>\n",
       "    </tr>\n",
       "  </tbody>\n",
       "</table>\n",
       "<p>21606 rows × 14 columns</p>\n",
       "</div>"
      ],
      "text/plain": [
       "      Joining Date  Gender  Industry  WFH Available  Designations  \\\n",
       "0       2008-09-30       0         0              1             2   \n",
       "1       2008-11-30       1         0              0             1   \n",
       "2       2008-03-10       0         1              0             2   \n",
       "3       2008-11-03       1         0              0             1   \n",
       "4       2008-07-24       0         0              1             3   \n",
       "...            ...     ...       ...            ...           ...   \n",
       "22745   2008-12-30       0         0              1             3   \n",
       "22746   2008-01-19       0         1              0             3   \n",
       "22747   2008-11-05       1         0              0             3   \n",
       "22748   2008-01-10       0         0              1             3   \n",
       "22749   2008-01-06       1         1              1             3   \n",
       "\n",
       "       Resource Allocation  Mental Fatigue Score  Burn Rate  year      month  \\\n",
       "0                 3.000000              3.800000         16  2008  September   \n",
       "1                 2.000000              5.000000         36  2008   November   \n",
       "2                 4.483831              5.800000         49  2008      March   \n",
       "3                 1.000000              2.600000         20  2008   November   \n",
       "4                 7.000000              6.900000         52  2008       July   \n",
       "...                    ...                   ...        ...   ...        ...   \n",
       "22745             3.000000              5.729851         41  2008   December   \n",
       "22746             6.000000              6.700000         59  2008    January   \n",
       "22747             7.000000              5.729851         72  2008   November   \n",
       "22748             5.000000              5.900000         52  2008    January   \n",
       "22749             6.000000              7.800000         61  2008    January   \n",
       "\n",
       "       day Designation Burn Rate Segment  Days_in_Company  \n",
       "0       30     Level 2     Low Burn Rate             4969  \n",
       "1       30     Level 1  Medium Burn Rate             4908  \n",
       "2       10     Level 2  Medium Burn Rate             5173  \n",
       "3        3     Level 1     Low Burn Rate             4935  \n",
       "4       24     Level 3  Medium Burn Rate             5037  \n",
       "...    ...         ...               ...              ...  \n",
       "22745   30     Level 3  Medium Burn Rate             4878  \n",
       "22746   19     Level 3  Medium Burn Rate             5224  \n",
       "22747    5     Level 3    High Burn Rate             4933  \n",
       "22748   10     Level 3  Medium Burn Rate             5233  \n",
       "22749    6     Level 3    High Burn Rate             5237  \n",
       "\n",
       "[21606 rows x 14 columns]"
      ]
     },
     "execution_count": 34,
     "metadata": {},
     "output_type": "execute_result"
    }
   ],
   "source": [
    "df"
   ]
  },
  {
   "cell_type": "code",
   "execution_count": 35,
   "id": "f6254b0e",
   "metadata": {
    "scrolled": true
   },
   "outputs": [],
   "source": [
    "#dropping irrelevant columns \n",
    "df.drop(['Joining Date', 'month', \n",
    "                'Designation', 'Burn Rate Segment'], axis=1, inplace=True)"
   ]
  },
  {
   "cell_type": "code",
   "execution_count": 36,
   "id": "ac214aa3",
   "metadata": {},
   "outputs": [],
   "source": [
    "df.drop(['year'],axis=1,inplace=True)"
   ]
  },
  {
   "cell_type": "code",
   "execution_count": 37,
   "id": "e3331933",
   "metadata": {
    "scrolled": false
   },
   "outputs": [
    {
     "data": {
      "text/html": [
       "<div>\n",
       "<style scoped>\n",
       "    .dataframe tbody tr th:only-of-type {\n",
       "        vertical-align: middle;\n",
       "    }\n",
       "\n",
       "    .dataframe tbody tr th {\n",
       "        vertical-align: top;\n",
       "    }\n",
       "\n",
       "    .dataframe thead th {\n",
       "        text-align: right;\n",
       "    }\n",
       "</style>\n",
       "<table border=\"1\" class=\"dataframe\">\n",
       "  <thead>\n",
       "    <tr style=\"text-align: right;\">\n",
       "      <th></th>\n",
       "      <th>Gender</th>\n",
       "      <th>Industry</th>\n",
       "      <th>WFH Available</th>\n",
       "      <th>Designations</th>\n",
       "      <th>Resource Allocation</th>\n",
       "      <th>Mental Fatigue Score</th>\n",
       "      <th>Burn Rate</th>\n",
       "      <th>day</th>\n",
       "      <th>Days_in_Company</th>\n",
       "    </tr>\n",
       "  </thead>\n",
       "  <tbody>\n",
       "    <tr>\n",
       "      <th>0</th>\n",
       "      <td>0</td>\n",
       "      <td>0</td>\n",
       "      <td>1</td>\n",
       "      <td>2</td>\n",
       "      <td>3.000000</td>\n",
       "      <td>3.800000</td>\n",
       "      <td>16</td>\n",
       "      <td>30</td>\n",
       "      <td>4969</td>\n",
       "    </tr>\n",
       "    <tr>\n",
       "      <th>1</th>\n",
       "      <td>1</td>\n",
       "      <td>0</td>\n",
       "      <td>0</td>\n",
       "      <td>1</td>\n",
       "      <td>2.000000</td>\n",
       "      <td>5.000000</td>\n",
       "      <td>36</td>\n",
       "      <td>30</td>\n",
       "      <td>4908</td>\n",
       "    </tr>\n",
       "    <tr>\n",
       "      <th>2</th>\n",
       "      <td>0</td>\n",
       "      <td>1</td>\n",
       "      <td>0</td>\n",
       "      <td>2</td>\n",
       "      <td>4.483831</td>\n",
       "      <td>5.800000</td>\n",
       "      <td>49</td>\n",
       "      <td>10</td>\n",
       "      <td>5173</td>\n",
       "    </tr>\n",
       "    <tr>\n",
       "      <th>3</th>\n",
       "      <td>1</td>\n",
       "      <td>0</td>\n",
       "      <td>0</td>\n",
       "      <td>1</td>\n",
       "      <td>1.000000</td>\n",
       "      <td>2.600000</td>\n",
       "      <td>20</td>\n",
       "      <td>3</td>\n",
       "      <td>4935</td>\n",
       "    </tr>\n",
       "    <tr>\n",
       "      <th>4</th>\n",
       "      <td>0</td>\n",
       "      <td>0</td>\n",
       "      <td>1</td>\n",
       "      <td>3</td>\n",
       "      <td>7.000000</td>\n",
       "      <td>6.900000</td>\n",
       "      <td>52</td>\n",
       "      <td>24</td>\n",
       "      <td>5037</td>\n",
       "    </tr>\n",
       "    <tr>\n",
       "      <th>...</th>\n",
       "      <td>...</td>\n",
       "      <td>...</td>\n",
       "      <td>...</td>\n",
       "      <td>...</td>\n",
       "      <td>...</td>\n",
       "      <td>...</td>\n",
       "      <td>...</td>\n",
       "      <td>...</td>\n",
       "      <td>...</td>\n",
       "    </tr>\n",
       "    <tr>\n",
       "      <th>22745</th>\n",
       "      <td>0</td>\n",
       "      <td>0</td>\n",
       "      <td>1</td>\n",
       "      <td>3</td>\n",
       "      <td>3.000000</td>\n",
       "      <td>5.729851</td>\n",
       "      <td>41</td>\n",
       "      <td>30</td>\n",
       "      <td>4878</td>\n",
       "    </tr>\n",
       "    <tr>\n",
       "      <th>22746</th>\n",
       "      <td>0</td>\n",
       "      <td>1</td>\n",
       "      <td>0</td>\n",
       "      <td>3</td>\n",
       "      <td>6.000000</td>\n",
       "      <td>6.700000</td>\n",
       "      <td>59</td>\n",
       "      <td>19</td>\n",
       "      <td>5224</td>\n",
       "    </tr>\n",
       "    <tr>\n",
       "      <th>22747</th>\n",
       "      <td>1</td>\n",
       "      <td>0</td>\n",
       "      <td>0</td>\n",
       "      <td>3</td>\n",
       "      <td>7.000000</td>\n",
       "      <td>5.729851</td>\n",
       "      <td>72</td>\n",
       "      <td>5</td>\n",
       "      <td>4933</td>\n",
       "    </tr>\n",
       "    <tr>\n",
       "      <th>22748</th>\n",
       "      <td>0</td>\n",
       "      <td>0</td>\n",
       "      <td>1</td>\n",
       "      <td>3</td>\n",
       "      <td>5.000000</td>\n",
       "      <td>5.900000</td>\n",
       "      <td>52</td>\n",
       "      <td>10</td>\n",
       "      <td>5233</td>\n",
       "    </tr>\n",
       "    <tr>\n",
       "      <th>22749</th>\n",
       "      <td>1</td>\n",
       "      <td>1</td>\n",
       "      <td>1</td>\n",
       "      <td>3</td>\n",
       "      <td>6.000000</td>\n",
       "      <td>7.800000</td>\n",
       "      <td>61</td>\n",
       "      <td>6</td>\n",
       "      <td>5237</td>\n",
       "    </tr>\n",
       "  </tbody>\n",
       "</table>\n",
       "<p>21606 rows × 9 columns</p>\n",
       "</div>"
      ],
      "text/plain": [
       "       Gender  Industry  WFH Available  Designations  Resource Allocation  \\\n",
       "0           0         0              1             2             3.000000   \n",
       "1           1         0              0             1             2.000000   \n",
       "2           0         1              0             2             4.483831   \n",
       "3           1         0              0             1             1.000000   \n",
       "4           0         0              1             3             7.000000   \n",
       "...       ...       ...            ...           ...                  ...   \n",
       "22745       0         0              1             3             3.000000   \n",
       "22746       0         1              0             3             6.000000   \n",
       "22747       1         0              0             3             7.000000   \n",
       "22748       0         0              1             3             5.000000   \n",
       "22749       1         1              1             3             6.000000   \n",
       "\n",
       "       Mental Fatigue Score  Burn Rate  day  Days_in_Company  \n",
       "0                  3.800000         16   30             4969  \n",
       "1                  5.000000         36   30             4908  \n",
       "2                  5.800000         49   10             5173  \n",
       "3                  2.600000         20    3             4935  \n",
       "4                  6.900000         52   24             5037  \n",
       "...                     ...        ...  ...              ...  \n",
       "22745              5.729851         41   30             4878  \n",
       "22746              6.700000         59   19             5224  \n",
       "22747              5.729851         72    5             4933  \n",
       "22748              5.900000         52   10             5233  \n",
       "22749              7.800000         61    6             5237  \n",
       "\n",
       "[21606 rows x 9 columns]"
      ]
     },
     "execution_count": 37,
     "metadata": {},
     "output_type": "execute_result"
    }
   ],
   "source": [
    "df"
   ]
  },
  {
   "cell_type": "code",
   "execution_count": 38,
   "id": "2fe7cfc6",
   "metadata": {},
   "outputs": [
    {
     "data": {
      "text/html": [
       "<div>\n",
       "<style scoped>\n",
       "    .dataframe tbody tr th:only-of-type {\n",
       "        vertical-align: middle;\n",
       "    }\n",
       "\n",
       "    .dataframe tbody tr th {\n",
       "        vertical-align: top;\n",
       "    }\n",
       "\n",
       "    .dataframe thead th {\n",
       "        text-align: right;\n",
       "    }\n",
       "</style>\n",
       "<table border=\"1\" class=\"dataframe\">\n",
       "  <thead>\n",
       "    <tr style=\"text-align: right;\">\n",
       "      <th></th>\n",
       "      <th>Gender</th>\n",
       "      <th>Industry</th>\n",
       "      <th>WFH Available</th>\n",
       "      <th>Designations</th>\n",
       "      <th>Resource Allocation</th>\n",
       "      <th>Mental Fatigue Score</th>\n",
       "      <th>Burn Rate</th>\n",
       "      <th>day</th>\n",
       "      <th>Days_in_Company</th>\n",
       "    </tr>\n",
       "  </thead>\n",
       "  <tbody>\n",
       "    <tr>\n",
       "      <th>Gender</th>\n",
       "      <td>1.000000</td>\n",
       "      <td>0.011633</td>\n",
       "      <td>0.073829</td>\n",
       "      <td>-0.003022</td>\n",
       "      <td>0.136902</td>\n",
       "      <td>0.139132</td>\n",
       "      <td>0.154670</td>\n",
       "      <td>-0.003466</td>\n",
       "      <td>-0.000029</td>\n",
       "    </tr>\n",
       "    <tr>\n",
       "      <th>Industry</th>\n",
       "      <td>0.011633</td>\n",
       "      <td>1.000000</td>\n",
       "      <td>0.003339</td>\n",
       "      <td>0.001406</td>\n",
       "      <td>-0.006741</td>\n",
       "      <td>-0.002968</td>\n",
       "      <td>-0.004413</td>\n",
       "      <td>0.001535</td>\n",
       "      <td>0.002057</td>\n",
       "    </tr>\n",
       "    <tr>\n",
       "      <th>WFH Available</th>\n",
       "      <td>0.073829</td>\n",
       "      <td>0.003339</td>\n",
       "      <td>1.000000</td>\n",
       "      <td>0.011269</td>\n",
       "      <td>0.277234</td>\n",
       "      <td>0.263848</td>\n",
       "      <td>0.305622</td>\n",
       "      <td>-0.001836</td>\n",
       "      <td>-0.003159</td>\n",
       "    </tr>\n",
       "    <tr>\n",
       "      <th>Designations</th>\n",
       "      <td>-0.003022</td>\n",
       "      <td>0.001406</td>\n",
       "      <td>0.011269</td>\n",
       "      <td>1.000000</td>\n",
       "      <td>0.030204</td>\n",
       "      <td>0.018558</td>\n",
       "      <td>0.021584</td>\n",
       "      <td>-0.003352</td>\n",
       "      <td>0.000836</td>\n",
       "    </tr>\n",
       "    <tr>\n",
       "      <th>Resource Allocation</th>\n",
       "      <td>0.136902</td>\n",
       "      <td>-0.006741</td>\n",
       "      <td>0.277234</td>\n",
       "      <td>0.030204</td>\n",
       "      <td>1.000000</td>\n",
       "      <td>0.741454</td>\n",
       "      <td>0.830756</td>\n",
       "      <td>-0.007000</td>\n",
       "      <td>0.000703</td>\n",
       "    </tr>\n",
       "    <tr>\n",
       "      <th>Mental Fatigue Score</th>\n",
       "      <td>0.139132</td>\n",
       "      <td>-0.002968</td>\n",
       "      <td>0.263848</td>\n",
       "      <td>0.018558</td>\n",
       "      <td>0.741454</td>\n",
       "      <td>1.000000</td>\n",
       "      <td>0.899178</td>\n",
       "      <td>0.001125</td>\n",
       "      <td>-0.000830</td>\n",
       "    </tr>\n",
       "    <tr>\n",
       "      <th>Burn Rate</th>\n",
       "      <td>0.154670</td>\n",
       "      <td>-0.004413</td>\n",
       "      <td>0.305622</td>\n",
       "      <td>0.021584</td>\n",
       "      <td>0.830756</td>\n",
       "      <td>0.899178</td>\n",
       "      <td>1.000000</td>\n",
       "      <td>-0.004449</td>\n",
       "      <td>0.001254</td>\n",
       "    </tr>\n",
       "    <tr>\n",
       "      <th>day</th>\n",
       "      <td>-0.003466</td>\n",
       "      <td>0.001535</td>\n",
       "      <td>-0.001836</td>\n",
       "      <td>-0.003352</td>\n",
       "      <td>-0.007000</td>\n",
       "      <td>0.001125</td>\n",
       "      <td>-0.004449</td>\n",
       "      <td>1.000000</td>\n",
       "      <td>-0.092762</td>\n",
       "    </tr>\n",
       "    <tr>\n",
       "      <th>Days_in_Company</th>\n",
       "      <td>-0.000029</td>\n",
       "      <td>0.002057</td>\n",
       "      <td>-0.003159</td>\n",
       "      <td>0.000836</td>\n",
       "      <td>0.000703</td>\n",
       "      <td>-0.000830</td>\n",
       "      <td>0.001254</td>\n",
       "      <td>-0.092762</td>\n",
       "      <td>1.000000</td>\n",
       "    </tr>\n",
       "  </tbody>\n",
       "</table>\n",
       "</div>"
      ],
      "text/plain": [
       "                        Gender  Industry  WFH Available  Designations  \\\n",
       "Gender                1.000000  0.011633       0.073829     -0.003022   \n",
       "Industry              0.011633  1.000000       0.003339      0.001406   \n",
       "WFH Available         0.073829  0.003339       1.000000      0.011269   \n",
       "Designations         -0.003022  0.001406       0.011269      1.000000   \n",
       "Resource Allocation   0.136902 -0.006741       0.277234      0.030204   \n",
       "Mental Fatigue Score  0.139132 -0.002968       0.263848      0.018558   \n",
       "Burn Rate             0.154670 -0.004413       0.305622      0.021584   \n",
       "day                  -0.003466  0.001535      -0.001836     -0.003352   \n",
       "Days_in_Company      -0.000029  0.002057      -0.003159      0.000836   \n",
       "\n",
       "                      Resource Allocation  Mental Fatigue Score  Burn Rate  \\\n",
       "Gender                           0.136902              0.139132   0.154670   \n",
       "Industry                        -0.006741             -0.002968  -0.004413   \n",
       "WFH Available                    0.277234              0.263848   0.305622   \n",
       "Designations                     0.030204              0.018558   0.021584   \n",
       "Resource Allocation              1.000000              0.741454   0.830756   \n",
       "Mental Fatigue Score             0.741454              1.000000   0.899178   \n",
       "Burn Rate                        0.830756              0.899178   1.000000   \n",
       "day                             -0.007000              0.001125  -0.004449   \n",
       "Days_in_Company                  0.000703             -0.000830   0.001254   \n",
       "\n",
       "                           day  Days_in_Company  \n",
       "Gender               -0.003466        -0.000029  \n",
       "Industry              0.001535         0.002057  \n",
       "WFH Available        -0.001836        -0.003159  \n",
       "Designations         -0.003352         0.000836  \n",
       "Resource Allocation  -0.007000         0.000703  \n",
       "Mental Fatigue Score  0.001125        -0.000830  \n",
       "Burn Rate            -0.004449         0.001254  \n",
       "day                   1.000000        -0.092762  \n",
       "Days_in_Company      -0.092762         1.000000  "
      ]
     },
     "execution_count": 38,
     "metadata": {},
     "output_type": "execute_result"
    }
   ],
   "source": [
    "df.corr()"
   ]
  },
  {
   "cell_type": "code",
   "execution_count": 39,
   "id": "5d250fc5",
   "metadata": {},
   "outputs": [],
   "source": [
    " # Split df into X and y\n",
    "y = df['Burn Rate'] \n",
    "X = df.drop('Burn Rate',axis=1)\n"
   ]
  },
  {
   "cell_type": "code",
   "execution_count": 40,
   "id": "12a3d00a",
   "metadata": {},
   "outputs": [
    {
     "data": {
      "text/html": [
       "<div>\n",
       "<style scoped>\n",
       "    .dataframe tbody tr th:only-of-type {\n",
       "        vertical-align: middle;\n",
       "    }\n",
       "\n",
       "    .dataframe tbody tr th {\n",
       "        vertical-align: top;\n",
       "    }\n",
       "\n",
       "    .dataframe thead th {\n",
       "        text-align: right;\n",
       "    }\n",
       "</style>\n",
       "<table border=\"1\" class=\"dataframe\">\n",
       "  <thead>\n",
       "    <tr style=\"text-align: right;\">\n",
       "      <th></th>\n",
       "      <th>Gender</th>\n",
       "      <th>Industry</th>\n",
       "      <th>WFH Available</th>\n",
       "      <th>Designations</th>\n",
       "      <th>Resource Allocation</th>\n",
       "      <th>Mental Fatigue Score</th>\n",
       "      <th>day</th>\n",
       "      <th>Days_in_Company</th>\n",
       "    </tr>\n",
       "  </thead>\n",
       "  <tbody>\n",
       "    <tr>\n",
       "      <th>0</th>\n",
       "      <td>0</td>\n",
       "      <td>0</td>\n",
       "      <td>1</td>\n",
       "      <td>2</td>\n",
       "      <td>3.000000</td>\n",
       "      <td>3.8</td>\n",
       "      <td>30</td>\n",
       "      <td>4969</td>\n",
       "    </tr>\n",
       "    <tr>\n",
       "      <th>1</th>\n",
       "      <td>1</td>\n",
       "      <td>0</td>\n",
       "      <td>0</td>\n",
       "      <td>1</td>\n",
       "      <td>2.000000</td>\n",
       "      <td>5.0</td>\n",
       "      <td>30</td>\n",
       "      <td>4908</td>\n",
       "    </tr>\n",
       "    <tr>\n",
       "      <th>2</th>\n",
       "      <td>0</td>\n",
       "      <td>1</td>\n",
       "      <td>0</td>\n",
       "      <td>2</td>\n",
       "      <td>4.483831</td>\n",
       "      <td>5.8</td>\n",
       "      <td>10</td>\n",
       "      <td>5173</td>\n",
       "    </tr>\n",
       "    <tr>\n",
       "      <th>3</th>\n",
       "      <td>1</td>\n",
       "      <td>0</td>\n",
       "      <td>0</td>\n",
       "      <td>1</td>\n",
       "      <td>1.000000</td>\n",
       "      <td>2.6</td>\n",
       "      <td>3</td>\n",
       "      <td>4935</td>\n",
       "    </tr>\n",
       "    <tr>\n",
       "      <th>4</th>\n",
       "      <td>0</td>\n",
       "      <td>0</td>\n",
       "      <td>1</td>\n",
       "      <td>3</td>\n",
       "      <td>7.000000</td>\n",
       "      <td>6.9</td>\n",
       "      <td>24</td>\n",
       "      <td>5037</td>\n",
       "    </tr>\n",
       "  </tbody>\n",
       "</table>\n",
       "</div>"
      ],
      "text/plain": [
       "   Gender  Industry  WFH Available  Designations  Resource Allocation  \\\n",
       "0       0         0              1             2             3.000000   \n",
       "1       1         0              0             1             2.000000   \n",
       "2       0         1              0             2             4.483831   \n",
       "3       1         0              0             1             1.000000   \n",
       "4       0         0              1             3             7.000000   \n",
       "\n",
       "   Mental Fatigue Score  day  Days_in_Company  \n",
       "0                   3.8   30             4969  \n",
       "1                   5.0   30             4908  \n",
       "2                   5.8   10             5173  \n",
       "3                   2.6    3             4935  \n",
       "4                   6.9   24             5037  "
      ]
     },
     "execution_count": 40,
     "metadata": {},
     "output_type": "execute_result"
    }
   ],
   "source": [
    "X.head()"
   ]
  },
  {
   "cell_type": "code",
   "execution_count": 41,
   "id": "653767f3",
   "metadata": {},
   "outputs": [
    {
     "data": {
      "text/plain": [
       "0    16\n",
       "1    36\n",
       "2    49\n",
       "3    20\n",
       "4    52\n",
       "Name: Burn Rate, dtype: int64"
      ]
     },
     "execution_count": 41,
     "metadata": {},
     "output_type": "execute_result"
    }
   ],
   "source": [
    "y.head()"
   ]
  },
  {
   "cell_type": "code",
   "execution_count": 42,
   "id": "5511228a",
   "metadata": {
    "scrolled": true
   },
   "outputs": [
    {
     "name": "stdout",
     "output_type": "stream",
     "text": [
      "                            OLS Regression Results                            \n",
      "==============================================================================\n",
      "Dep. Variable:              Burn Rate   R-squared:                       0.870\n",
      "Model:                            OLS   Adj. R-squared:                  0.870\n",
      "Method:                 Least Squares   F-statistic:                 1.810e+04\n",
      "Date:                Mon, 09 May 2022   Prob (F-statistic):               0.00\n",
      "Time:                        00:09:38   Log-Likelihood:                -73127.\n",
      "No. Observations:               21606   AIC:                         1.463e+05\n",
      "Df Residuals:                   21597   BIC:                         1.463e+05\n",
      "Df Model:                           8                                         \n",
      "Covariance Type:            nonrobust                                         \n",
      "========================================================================================\n",
      "                           coef    std err          t      P>|t|      [0.025      0.975]\n",
      "----------------------------------------------------------------------------------------\n",
      "const                  -10.5421      3.359     -3.138      0.002     -17.126      -3.958\n",
      "Gender                   0.6479      0.098      6.582      0.000       0.455       0.841\n",
      "Industry                -0.0206      0.102     -0.202      0.840      -0.221       0.179\n",
      "WFH Available            1.6566      0.102     16.252      0.000       1.457       1.856\n",
      "Designations            -0.3693      0.799     -0.462      0.644      -1.936       1.197\n",
      "Resource Allocation      3.5461      0.037     96.409      0.000       3.474       3.618\n",
      "Mental Fatigue Score     6.7296      0.040    169.373      0.000       6.652       6.807\n",
      "day                     -0.0054      0.006     -0.973      0.330      -0.016       0.005\n",
      "Days_in_Company          0.0003      0.000      0.581      0.561      -0.001       0.001\n",
      "==============================================================================\n",
      "Omnibus:                     1518.528   Durbin-Watson:                   2.009\n",
      "Prob(Omnibus):                  0.000   Jarque-Bera (JB):             7954.529\n",
      "Skew:                           0.044   Prob(JB):                         0.00\n",
      "Kurtosis:                       5.971   Cond. No.                     3.55e+05\n",
      "==============================================================================\n",
      "\n",
      "Notes:\n",
      "[1] Standard Errors assume that the covariance matrix of the errors is correctly specified.\n",
      "[2] The condition number is large, 3.55e+05. This might indicate that there are\n",
      "strong multicollinearity or other numerical problems.\n"
     ]
    }
   ],
   "source": [
    "import statsmodels.api as sm\n",
    "X2 = sm.add_constant(X) \n",
    "ols = sm.OLS(y,X2)\n",
    "lr = ols.fit()\n",
    "print(lr.summary())"
   ]
  },
  {
   "cell_type": "code",
   "execution_count": 53,
   "id": "bf23d875",
   "metadata": {
    "scrolled": true
   },
   "outputs": [
    {
     "name": "stdout",
     "output_type": "stream",
     "text": [
      "                            OLS Regression Results                            \n",
      "==============================================================================\n",
      "Dep. Variable:              Burn Rate   R-squared:                       0.870\n",
      "Model:                            OLS   Adj. R-squared:                  0.870\n",
      "Method:                 Least Squares   F-statistic:                 3.620e+04\n",
      "Date:                Mon, 09 May 2022   Prob (F-statistic):               0.00\n",
      "Time:                        00:11:45   Log-Likelihood:                -73128.\n",
      "No. Observations:               21606   AIC:                         1.463e+05\n",
      "Df Residuals:                   21601   BIC:                         1.463e+05\n",
      "Df Model:                           4                                         \n",
      "Covariance Type:            nonrobust                                         \n",
      "========================================================================================\n",
      "                           coef    std err          t      P>|t|      [0.025      0.975]\n",
      "----------------------------------------------------------------------------------------\n",
      "const                  -10.3783      0.162    -64.198      0.000     -10.695     -10.061\n",
      "Gender                   0.6482      0.098      6.587      0.000       0.455       0.841\n",
      "WFH Available            1.6562      0.102     16.249      0.000       1.456       1.856\n",
      "Resource Allocation      3.5463      0.037     96.454      0.000       3.474       3.618\n",
      "Mental Fatigue Score     6.7292      0.040    169.385      0.000       6.651       6.807\n",
      "==============================================================================\n",
      "Omnibus:                     1518.869   Durbin-Watson:                   2.009\n",
      "Prob(Omnibus):                  0.000   Jarque-Bera (JB):             7957.194\n",
      "Skew:                           0.044   Prob(JB):                         0.00\n",
      "Kurtosis:                       5.972   Cond. No.                         26.4\n",
      "==============================================================================\n",
      "\n",
      "Notes:\n",
      "[1] Standard Errors assume that the covariance matrix of the errors is correctly specified.\n"
     ]
    },
    {
     "data": {
      "text/html": [
       "<div>\n",
       "<style scoped>\n",
       "    .dataframe tbody tr th:only-of-type {\n",
       "        vertical-align: middle;\n",
       "    }\n",
       "\n",
       "    .dataframe tbody tr th {\n",
       "        vertical-align: top;\n",
       "    }\n",
       "\n",
       "    .dataframe thead th {\n",
       "        text-align: right;\n",
       "    }\n",
       "</style>\n",
       "<table border=\"1\" class=\"dataframe\">\n",
       "  <thead>\n",
       "    <tr style=\"text-align: right;\">\n",
       "      <th></th>\n",
       "      <th>const</th>\n",
       "      <th>Gender</th>\n",
       "      <th>WFH Available</th>\n",
       "      <th>Resource Allocation</th>\n",
       "      <th>Mental Fatigue Score</th>\n",
       "    </tr>\n",
       "  </thead>\n",
       "  <tbody>\n",
       "    <tr>\n",
       "      <th>0</th>\n",
       "      <td>1.0</td>\n",
       "      <td>0</td>\n",
       "      <td>1</td>\n",
       "      <td>3.000000</td>\n",
       "      <td>3.8</td>\n",
       "    </tr>\n",
       "    <tr>\n",
       "      <th>1</th>\n",
       "      <td>1.0</td>\n",
       "      <td>1</td>\n",
       "      <td>0</td>\n",
       "      <td>2.000000</td>\n",
       "      <td>5.0</td>\n",
       "    </tr>\n",
       "    <tr>\n",
       "      <th>2</th>\n",
       "      <td>1.0</td>\n",
       "      <td>0</td>\n",
       "      <td>0</td>\n",
       "      <td>4.483831</td>\n",
       "      <td>5.8</td>\n",
       "    </tr>\n",
       "    <tr>\n",
       "      <th>3</th>\n",
       "      <td>1.0</td>\n",
       "      <td>1</td>\n",
       "      <td>0</td>\n",
       "      <td>1.000000</td>\n",
       "      <td>2.6</td>\n",
       "    </tr>\n",
       "    <tr>\n",
       "      <th>4</th>\n",
       "      <td>1.0</td>\n",
       "      <td>0</td>\n",
       "      <td>1</td>\n",
       "      <td>7.000000</td>\n",
       "      <td>6.9</td>\n",
       "    </tr>\n",
       "  </tbody>\n",
       "</table>\n",
       "</div>"
      ],
      "text/plain": [
       "   const  Gender  WFH Available  Resource Allocation  Mental Fatigue Score\n",
       "0    1.0       0              1             3.000000                   3.8\n",
       "1    1.0       1              0             2.000000                   5.0\n",
       "2    1.0       0              0             4.483831                   5.8\n",
       "3    1.0       1              0             1.000000                   2.6\n",
       "4    1.0       0              1             7.000000                   6.9"
      ]
     },
     "execution_count": 53,
     "metadata": {},
     "output_type": "execute_result"
    }
   ],
   "source": [
    "#backward feature elimination\n",
    "\n",
    "maxp = lr.pvalues.max()\n",
    "while(maxp > 0.05):\n",
    "    print(f\"Adjuste R-Square is {lr.rsquared_adj}\")\n",
    "    print(f\"{lr.pvalues.idxmax()} with p-value= {maxp} was dropped\\n\")\n",
    "    X2.drop(lr.pvalues.idxmax(),axis=1,inplace=True) \n",
    "    ols = sm.OLS(y,X2)\n",
    "    lr = ols.fit()\n",
    "    maxp = lr.pvalues.max()\n",
    "print(lr.summary())\n",
    "\n",
    "X2.head()\n"
   ]
  },
  {
   "cell_type": "code",
   "execution_count": 44,
   "id": "0d8324be",
   "metadata": {},
   "outputs": [],
   "source": [
    "from sklearn.model_selection import train_test_split\n",
    "X_train,X_test,y_train,y_test = train_test_split(X,y,\n",
    "                                                 random_state=1,test_size=0.2)\n"
   ]
  },
  {
   "cell_type": "code",
   "execution_count": 45,
   "id": "0ce4ea71",
   "metadata": {},
   "outputs": [],
   "source": [
    "#step1: import classifier/Regressor\n",
    "from sklearn.linear_model import LinearRegression\n"
   ]
  },
  {
   "cell_type": "code",
   "execution_count": 46,
   "id": "010766c9",
   "metadata": {},
   "outputs": [],
   "source": [
    "#step2: creating an instanse from that classifier/Regressor\n",
    "model = LinearRegression()"
   ]
  },
  {
   "cell_type": "code",
   "execution_count": 47,
   "id": "ea86c757",
   "metadata": {},
   "outputs": [
    {
     "data": {
      "text/plain": [
       "LinearRegression()"
      ]
     },
     "execution_count": 47,
     "metadata": {},
     "output_type": "execute_result"
    }
   ],
   "source": [
    "#step3 : train the model (fit the model on train data set)\n",
    "model.fit(X_train,y_train)"
   ]
  },
  {
   "cell_type": "code",
   "execution_count": 48,
   "id": "0e254071",
   "metadata": {},
   "outputs": [],
   "source": [
    "#step4:predict on test set(use the built_model for predicting for test data set)\n",
    "y_pred = model.predict(X_test)"
   ]
  },
  {
   "cell_type": "code",
   "execution_count": 49,
   "id": "4dab3657",
   "metadata": {},
   "outputs": [
    {
     "data": {
      "text/plain": [
       "0.8757504789443467"
      ]
     },
     "execution_count": 49,
     "metadata": {},
     "output_type": "execute_result"
    }
   ],
   "source": [
    "#step5: model evaluation\n",
    "model.score(X_test,y_test)"
   ]
  },
  {
   "cell_type": "code",
   "execution_count": 179,
   "id": "139008b8",
   "metadata": {},
   "outputs": [],
   "source": [
    "#for finding r2, mean squared error and squareeoot of mean square error \n",
    "from sklearn.metrics import r2_score,mean_squared_error\n",
    "import math"
   ]
  },
  {
   "cell_type": "code",
   "execution_count": 180,
   "id": "19605002",
   "metadata": {},
   "outputs": [
    {
     "name": "stdout",
     "output_type": "stream",
     "text": [
      "0.8758927575905171\n",
      "48.34850964461695\n",
      "6.953309258519784\n"
     ]
    }
   ],
   "source": [
    "print(r2_score(y_test,y_pred)) #R^2\n",
    "print(mean_squared_error(y_test,y_pred)) #MSE\n",
    "print(math.sqrt(mean_squared_error(y_test,y_pred))) #RMSE"
   ]
  },
  {
   "cell_type": "code",
   "execution_count": 169,
   "id": "f4326aca",
   "metadata": {},
   "outputs": [
    {
     "data": {
      "text/plain": [
       "0.8758927575905171"
      ]
     },
     "execution_count": 169,
     "metadata": {},
     "output_type": "execute_result"
    }
   ],
   "source": [
    "R2 = r2_score(y_test,y_pred)\n",
    "R2\n"
   ]
  },
  {
   "cell_type": "markdown",
   "id": "cbe50cae",
   "metadata": {},
   "source": [
    "# LINEAR MODEL"
   ]
  },
  {
   "cell_type": "markdown",
   "id": "e9ee2ff8",
   "metadata": {},
   "source": [
    "# Burn Rate =-10.378+0.648*(Gender)+1.656*(WFH Available)+3.546*(Resource Allocation)+6.7292*(Mental Fatigue Score)"
   ]
  },
  {
   "cell_type": "code",
   "execution_count": 54,
   "id": "e8f20fd7",
   "metadata": {
    "scrolled": true
   },
   "outputs": [
    {
     "data": {
      "text/plain": [
       "0.8701488874354553"
      ]
     },
     "execution_count": 54,
     "metadata": {},
     "output_type": "execute_result"
    }
   ],
   "source": [
    "#k-fold cross-validation\n",
    "from sklearn.model_selection import cross_val_score\n",
    "cross_val_score(LinearRegression(),X,y,cv=2).mean()"
   ]
  },
  {
   "cell_type": "code",
   "execution_count": 170,
   "id": "1caffc89",
   "metadata": {},
   "outputs": [
    {
     "name": "stdout",
     "output_type": "stream",
     "text": [
      "0.8756625563525677\n"
     ]
    }
   ],
   "source": [
    "\n",
    "#dimensions of data\n",
    "n = len(X_test)\n",
    "k = len(X_test.iloc[0])\n",
    "\n",
    "#Adj R^2 is useful in multiple regression \n",
    "#as it accounts for number of variables in the scoring\n",
    "\n",
    "Adj_R2 = 1 - ((n-1)*(1- R2)/(n-k-1))\n",
    "print(Adj_R2)\n"
   ]
  },
  {
   "cell_type": "code",
   "execution_count": null,
   "id": "52504d03",
   "metadata": {},
   "outputs": [],
   "source": []
  }
 ],
 "metadata": {
  "kernelspec": {
   "display_name": "Python 3 (ipykernel)",
   "language": "python",
   "name": "python3"
  },
  "language_info": {
   "codemirror_mode": {
    "name": "ipython",
    "version": 3
   },
   "file_extension": ".py",
   "mimetype": "text/x-python",
   "name": "python",
   "nbconvert_exporter": "python",
   "pygments_lexer": "ipython3",
   "version": "3.9.7"
  }
 },
 "nbformat": 4,
 "nbformat_minor": 5
}
